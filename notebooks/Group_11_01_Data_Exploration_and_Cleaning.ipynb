{
 "cells": [
  {
   "cell_type": "markdown",
   "id": "77f1a296",
   "metadata": {},
   "source": [
    "# 01 – Data Exploration and Cleaning\n",
    "### Car Price Prediction Using Machine Learning\n",
    "Group Assignment 02 - CCS3012 - Data Analytics  \n",
    "Submission Date: 16th September 2025"
   ]
  },
  {
   "cell_type": "markdown",
   "id": "735abbb6",
   "metadata": {},
   "source": [
    "---\n",
    "\n",
    "### **Group 11**\n",
    "-  **FC211034 - N.D. Samararathne Kodikara**\n",
    "-  **FC211013 - N.W.V. Tharindu Pabasara**\n",
    "-  **FC211025 - W.M.M.C.B. Wijesundara**\n",
    "\n",
    "\n",
    "\n",
    "---"
   ]
  },
  {
   "cell_type": "markdown",
   "id": "813d81e8",
   "metadata": {},
   "source": [
    "### **Supervisor**\n",
    "**Ms. Dilmi Praveena**  \n",
    "*Faculty of Computing*  \n",
    "*University of Sri Jayewardenepura*\n",
    "\n",
    "---\n",
    "\n"
   ]
  },
  {
   "cell_type": "markdown",
   "id": "a89e6093",
   "metadata": {},
   "source": [
    "## 📌 Objective\n",
    "This notebook focuses on understanding the dataset, cleaning it, and preparing it for further analysis and modeling.\n",
    "\n",
    "**Key Tasks:**\n",
    "- Load dataset\n",
    "- Inspect and document schema / anomalies\n",
    "- Clean & convert data types\n",
    "- Basic descriptive analysis & visualizations\n",
    "- Save a cleaned dataset + metadata for modeling notebook\n",
    "\n",
    "\n",
    "---"
   ]
  },
  {
   "cell_type": "markdown",
   "id": "30e872df",
   "metadata": {},
   "source": [
    "### 📂 Input  \n",
    " - `car_price_prediction.csv` saved in `Data/raw/`  \n",
    "\n",
    "\n",
    "### 📦 Output  \n",
    "- `clean_data.csv` saved in `Data/processed/`\n",
    "\n",
    "---"
   ]
  },
  {
   "cell_type": "markdown",
   "id": "7f1e6d18",
   "metadata": {},
   "source": [
    "### 📊 Dataset Overview\n",
    "**Dataset:** Car price dataset.  \n",
    "**columns include**: ID, Price, Levy, Manufacturer, Model, Prod. year, Category, Leather interior, Fuel type, Engine volume, Mileage, Cylinders, Gear box type, Drive wheels, Doors, Wheel, Color, Airbags.\n",
    "\n",
    "\n",
    "| **Attribute** | **Details** |\n",
    "|---------------|-------------|\n",
    "| **Dataset Size** | 19,237 records × 18 features |\n",
    "| **Data Type** | Structured tabular data (CSV format) |\n",
    "| **Target Variable** | `Price` (in USD $) |\n",
    "| **Problem Type** | Regression |\n",
    "| **Data Source** | [Car Price Prediction Dataset](https://www.kaggle.com/datasets/deepcontractor/car-price-prediction-challenge) |"
   ]
  },
  {
   "cell_type": "markdown",
   "id": "a661564e",
   "metadata": {},
   "source": [
    "## Setup & imports"
   ]
  },
  {
   "cell_type": "code",
   "execution_count": 251,
   "id": "6945427d",
   "metadata": {},
   "outputs": [],
   "source": [
    "#First we have to Import necessary libraries for data manipulation and visualization.\n",
    "\n",
    "# Data Manipulation and Utilities\n",
    "import pandas as pd     # For data manipulation and analysis.\n",
    "import numpy as np      # For numerical operations.\n",
    "import re               # For regular expressions.\n",
    "import warnings         # For managing warnings.\n",
    "\n",
    "# Data Visualization\n",
    "import matplotlib.pyplot as plt     # For basic data visualization.\n",
    "import seaborn as sns               # For statistical data visualization.\n",
    "\n",
    "from prettytable import PrettyTable # For creating formatted tables in the console."
   ]
  },
  {
   "cell_type": "code",
   "execution_count": 252,
   "id": "1c55fd85",
   "metadata": {},
   "outputs": [],
   "source": [
    "# Reusable function definitions\n",
    "\n",
    "# Function to Print Shape of DataFrame\n",
    "def get_data_shape(data: pd.DataFrame) -> None:\n",
    "    if data.empty:\n",
    "        print(\"DataFrame is empty.\")\n",
    "    else:\n",
    "        # Print the shape of the DataFrame\n",
    "        print(\"DataFrame Dimensions\")\n",
    "        print(\"------------------------\")\n",
    "        print(f\"Rows   : {data.shape[0]}\")\n",
    "        print(f\"Columns: {data.shape[1]}\\n\")\n",
    "\n",
    "# A function to format value counts into a table. For more elegant and readable notebook.\n",
    "def value_counts_pretty(series, column_name=\"Value\", n=None, head=True):\n",
    "    value_counts = series.value_counts(dropna=False)\n",
    "    percentages = series.value_counts(dropna=False, normalize=True) * 100\n",
    "    \n",
    "    # Apply head/tail filtering if n is specified\n",
    "    if n is not None:\n",
    "        if head:\n",
    "            value_counts = value_counts.head(n)\n",
    "            percentages = percentages.head(n)\n",
    "        else:\n",
    "            value_counts = value_counts.tail(n)\n",
    "            percentages = percentages.tail(n)\n",
    "    \n",
    "    table = PrettyTable()        \n",
    "    table.field_names = [column_name, \"Count\", \"Percentage\"]\n",
    "    \n",
    "    # Set alignment\n",
    "    table.align[column_name] = \"c\"\n",
    "    table.align[\"Count\"] = \"r\"\n",
    "    table.align[\"Percentage\"] = \"r\"\n",
    "    \n",
    "    # Add rows\n",
    "    for rank, (value, count) in enumerate(value_counts.items(), 1):\n",
    "        display_value = \"NaN/Missing\" if pd.isna(value) else str(value)\n",
    "        pct = percentages[value]\n",
    "        \n",
    "        table.add_row([display_value, count, f\"{pct:.2f}%\"])\n",
    "    \n",
    "    return table"
   ]
  },
  {
   "cell_type": "code",
   "execution_count": 253,
   "id": "161ce5ea",
   "metadata": {},
   "outputs": [],
   "source": [
    "# Next we load the dataset.\n",
    "raw_df = pd.read_csv(\"./Data/raw/car_price_prediction.csv\")\n"
   ]
  },
  {
   "cell_type": "code",
   "execution_count": 254,
   "id": "05f36489",
   "metadata": {},
   "outputs": [
    {
     "data": {
      "text/html": [
       "<div>\n",
       "<style scoped>\n",
       "    .dataframe tbody tr th:only-of-type {\n",
       "        vertical-align: middle;\n",
       "    }\n",
       "\n",
       "    .dataframe tbody tr th {\n",
       "        vertical-align: top;\n",
       "    }\n",
       "\n",
       "    .dataframe thead th {\n",
       "        text-align: right;\n",
       "    }\n",
       "</style>\n",
       "<table border=\"1\" class=\"dataframe\">\n",
       "  <thead>\n",
       "    <tr style=\"text-align: right;\">\n",
       "      <th></th>\n",
       "      <th>ID</th>\n",
       "      <th>Price</th>\n",
       "      <th>Levy</th>\n",
       "      <th>Manufacturer</th>\n",
       "      <th>Model</th>\n",
       "      <th>Prod. year</th>\n",
       "      <th>Category</th>\n",
       "      <th>Leather interior</th>\n",
       "      <th>Fuel type</th>\n",
       "      <th>Engine volume</th>\n",
       "      <th>Mileage</th>\n",
       "      <th>Cylinders</th>\n",
       "      <th>Gear box type</th>\n",
       "      <th>Drive wheels</th>\n",
       "      <th>Doors</th>\n",
       "      <th>Wheel</th>\n",
       "      <th>Color</th>\n",
       "      <th>Airbags</th>\n",
       "    </tr>\n",
       "  </thead>\n",
       "  <tbody>\n",
       "    <tr>\n",
       "      <th>0</th>\n",
       "      <td>45654403</td>\n",
       "      <td>13328</td>\n",
       "      <td>1399</td>\n",
       "      <td>LEXUS</td>\n",
       "      <td>RX 450</td>\n",
       "      <td>2010</td>\n",
       "      <td>Jeep</td>\n",
       "      <td>Yes</td>\n",
       "      <td>Hybrid</td>\n",
       "      <td>3.5</td>\n",
       "      <td>186005 km</td>\n",
       "      <td>6.0</td>\n",
       "      <td>Automatic</td>\n",
       "      <td>4x4</td>\n",
       "      <td>04-May</td>\n",
       "      <td>Left wheel</td>\n",
       "      <td>Silver</td>\n",
       "      <td>12</td>\n",
       "    </tr>\n",
       "    <tr>\n",
       "      <th>1</th>\n",
       "      <td>44731507</td>\n",
       "      <td>16621</td>\n",
       "      <td>1018</td>\n",
       "      <td>CHEVROLET</td>\n",
       "      <td>Equinox</td>\n",
       "      <td>2011</td>\n",
       "      <td>Jeep</td>\n",
       "      <td>No</td>\n",
       "      <td>Petrol</td>\n",
       "      <td>3</td>\n",
       "      <td>192000 km</td>\n",
       "      <td>6.0</td>\n",
       "      <td>Tiptronic</td>\n",
       "      <td>4x4</td>\n",
       "      <td>04-May</td>\n",
       "      <td>Left wheel</td>\n",
       "      <td>Black</td>\n",
       "      <td>8</td>\n",
       "    </tr>\n",
       "    <tr>\n",
       "      <th>2</th>\n",
       "      <td>45774419</td>\n",
       "      <td>8467</td>\n",
       "      <td>-</td>\n",
       "      <td>HONDA</td>\n",
       "      <td>FIT</td>\n",
       "      <td>2006</td>\n",
       "      <td>Hatchback</td>\n",
       "      <td>No</td>\n",
       "      <td>Petrol</td>\n",
       "      <td>1.3</td>\n",
       "      <td>200000 km</td>\n",
       "      <td>4.0</td>\n",
       "      <td>Variator</td>\n",
       "      <td>Front</td>\n",
       "      <td>04-May</td>\n",
       "      <td>Right-hand drive</td>\n",
       "      <td>Black</td>\n",
       "      <td>2</td>\n",
       "    </tr>\n",
       "    <tr>\n",
       "      <th>3</th>\n",
       "      <td>45769185</td>\n",
       "      <td>3607</td>\n",
       "      <td>862</td>\n",
       "      <td>FORD</td>\n",
       "      <td>Escape</td>\n",
       "      <td>2011</td>\n",
       "      <td>Jeep</td>\n",
       "      <td>Yes</td>\n",
       "      <td>Hybrid</td>\n",
       "      <td>2.5</td>\n",
       "      <td>168966 km</td>\n",
       "      <td>4.0</td>\n",
       "      <td>Automatic</td>\n",
       "      <td>4x4</td>\n",
       "      <td>04-May</td>\n",
       "      <td>Left wheel</td>\n",
       "      <td>White</td>\n",
       "      <td>0</td>\n",
       "    </tr>\n",
       "    <tr>\n",
       "      <th>4</th>\n",
       "      <td>45809263</td>\n",
       "      <td>11726</td>\n",
       "      <td>446</td>\n",
       "      <td>HONDA</td>\n",
       "      <td>FIT</td>\n",
       "      <td>2014</td>\n",
       "      <td>Hatchback</td>\n",
       "      <td>Yes</td>\n",
       "      <td>Petrol</td>\n",
       "      <td>1.3</td>\n",
       "      <td>91901 km</td>\n",
       "      <td>4.0</td>\n",
       "      <td>Automatic</td>\n",
       "      <td>Front</td>\n",
       "      <td>04-May</td>\n",
       "      <td>Left wheel</td>\n",
       "      <td>Silver</td>\n",
       "      <td>4</td>\n",
       "    </tr>\n",
       "  </tbody>\n",
       "</table>\n",
       "</div>"
      ],
      "text/plain": [
       "         ID  Price  Levy Manufacturer    Model  Prod. year   Category  \\\n",
       "0  45654403  13328  1399        LEXUS   RX 450        2010       Jeep   \n",
       "1  44731507  16621  1018    CHEVROLET  Equinox        2011       Jeep   \n",
       "2  45774419   8467     -        HONDA      FIT        2006  Hatchback   \n",
       "3  45769185   3607   862         FORD   Escape        2011       Jeep   \n",
       "4  45809263  11726   446        HONDA      FIT        2014  Hatchback   \n",
       "\n",
       "  Leather interior Fuel type Engine volume    Mileage  Cylinders  \\\n",
       "0              Yes    Hybrid           3.5  186005 km        6.0   \n",
       "1               No    Petrol             3  192000 km        6.0   \n",
       "2               No    Petrol           1.3  200000 km        4.0   \n",
       "3              Yes    Hybrid           2.5  168966 km        4.0   \n",
       "4              Yes    Petrol           1.3   91901 km        4.0   \n",
       "\n",
       "  Gear box type Drive wheels   Doors             Wheel   Color  Airbags  \n",
       "0     Automatic          4x4  04-May        Left wheel  Silver       12  \n",
       "1     Tiptronic          4x4  04-May        Left wheel   Black        8  \n",
       "2      Variator        Front  04-May  Right-hand drive   Black        2  \n",
       "3     Automatic          4x4  04-May        Left wheel   White        0  \n",
       "4     Automatic        Front  04-May        Left wheel  Silver        4  "
      ]
     },
     "execution_count": 254,
     "metadata": {},
     "output_type": "execute_result"
    }
   ],
   "source": [
    "# Prints the first 5 rows of the DataFrame (Provides a quick look at the dataset's content).\n",
    "raw_df.head()\n"
   ]
  },
  {
   "cell_type": "markdown",
   "id": "75728b03",
   "metadata": {},
   "source": [
    "💡 **Observations:**  \n",
    "- All the column names appear to be readable and meaningful but has spaces between words need Standardising.\n",
    "- At first glance, the `Doors` column shows inconsistencies such as entries like \"04-May,\" indicating data quality issues. \n",
    "- The `Levy` column also contains missing values marked by dashes (-). \n",
    "- The `Mileage` column includes values with units like \"km,\" which will need to be cleaned.\n",
    "- Overall, the dataset features a mix of numerical and categorical variables that will require cleaning before analysis.\n",
    "\n"
   ]
  },
  {
   "cell_type": "code",
   "execution_count": 255,
   "id": "2c0c22c7",
   "metadata": {},
   "outputs": [
    {
     "name": "stdout",
     "output_type": "stream",
     "text": [
      "\n",
      "► Column names:\n",
      "['id', 'price', 'levy', 'manufacturer', 'model', 'prod_year', 'category', 'leather_interior', 'fuel_type', 'engine_volume', 'mileage', 'cylinders', 'gear_box_type', 'drive_wheels', 'doors', 'wheel', 'color', 'airbags']\n"
     ]
    }
   ],
   "source": [
    "# Clean column names\n",
    "# Remove leading/trailing spaces, convert to lowercase, replace spaces and question marks\n",
    "# 🟢 Return a new dataframe\n",
    "df = raw_df.copy()      \n",
    "df.columns = [col.strip().lower().replace(\" \", \"_\").replace(\"/\", \"_\").replace(\".\", \"\").replace(\"-\", \"_\").replace(\"?\", \"\").rstrip(\"_\") for col in raw_df.columns]\n",
    "print(\"\\n► Column names:\")\n",
    "print(df.columns.tolist())"
   ]
  },
  {
   "cell_type": "code",
   "execution_count": 256,
   "id": "51088fc7",
   "metadata": {},
   "outputs": [
    {
     "name": "stdout",
     "output_type": "stream",
     "text": [
      "DataFrame Dimensions\n",
      "------------------------\n",
      "Rows   : 19237\n",
      "Columns: 18\n",
      "\n"
     ]
    }
   ],
   "source": [
    "# Find the dimensions of the dataset\n",
    "get_data_shape(df)"
   ]
  },
  {
   "cell_type": "markdown",
   "id": "1971ca92",
   "metadata": {},
   "source": [
    "📝 The dataset contains 19,237 rows and 18 columns."
   ]
  },
  {
   "cell_type": "code",
   "execution_count": 257,
   "id": "994d8145",
   "metadata": {},
   "outputs": [
    {
     "name": "stdout",
     "output_type": "stream",
     "text": [
      "+------------------+----------------+---------+\n",
      "|      Column      | Non-Null Count |  Dtype  |\n",
      "+------------------+----------------+---------+\n",
      "|        id        |     19237      |  int64  |\n",
      "|      price       |     19237      |  int64  |\n",
      "|       levy       |     19237      |  object |\n",
      "|   manufacturer   |     19237      |  object |\n",
      "|      model       |     19237      |  object |\n",
      "|    prod_year     |     19237      |  int64  |\n",
      "|     category     |     19237      |  object |\n",
      "| leather_interior |     19237      |  object |\n",
      "|    fuel_type     |     19237      |  object |\n",
      "|  engine_volume   |     19237      |  object |\n",
      "|     mileage      |     19237      |  object |\n",
      "|    cylinders     |     19237      | float64 |\n",
      "|  gear_box_type   |     19237      |  object |\n",
      "|   drive_wheels   |     19237      |  object |\n",
      "|      doors       |     19237      |  object |\n",
      "|      wheel       |     19237      |  object |\n",
      "|      color       |     19237      |  object |\n",
      "|     airbags      |     19237      |  int64  |\n",
      "+------------------+----------------+---------+\n"
     ]
    }
   ],
   "source": [
    "# Prints the name of each column in the dataset, the number of non-null values it contains, and its data type.\n",
    "def df_info(df):\n",
    "    table = PrettyTable()\n",
    "    table.field_names = [\"Column\", \"Non-Null Count\", \"Dtype\"]\n",
    "\n",
    "    for col in df.columns:\n",
    "        non_null_count = df[col].count()\n",
    "        dtype = df[col].dtype\n",
    "        table.add_row([col, non_null_count, dtype])\n",
    "\n",
    "    print(table)\n",
    "\n",
    "df_info(df)"
   ]
  },
  {
   "cell_type": "markdown",
   "id": "6cf52634",
   "metadata": {},
   "source": [
    "💡 **Observations:**  \n",
    "- All columns have 19,237 non-null values indicating no missing values. However, earlier checks revealed some missing or placeholder values that require further investigation and cleaning.\n",
    "- Several columns expected to be numeric (like Levy, Mileage, and Engine volume) are currently of type object, which means they may contain non-numeric characters or inconsistent formatting."
   ]
  },
  {
   "cell_type": "code",
   "execution_count": 258,
   "id": "f6ca0cde",
   "metadata": {},
   "outputs": [
    {
     "data": {
      "text/html": [
       "<div>\n",
       "<style scoped>\n",
       "    .dataframe tbody tr th:only-of-type {\n",
       "        vertical-align: middle;\n",
       "    }\n",
       "\n",
       "    .dataframe tbody tr th {\n",
       "        vertical-align: top;\n",
       "    }\n",
       "\n",
       "    .dataframe thead th {\n",
       "        text-align: right;\n",
       "    }\n",
       "</style>\n",
       "<table border=\"1\" class=\"dataframe\">\n",
       "  <thead>\n",
       "    <tr style=\"text-align: right;\">\n",
       "      <th></th>\n",
       "      <th>id</th>\n",
       "      <th>price</th>\n",
       "      <th>prod_year</th>\n",
       "      <th>cylinders</th>\n",
       "      <th>airbags</th>\n",
       "    </tr>\n",
       "  </thead>\n",
       "  <tbody>\n",
       "    <tr>\n",
       "      <th>count</th>\n",
       "      <td>1.923700e+04</td>\n",
       "      <td>1.923700e+04</td>\n",
       "      <td>19237.000000</td>\n",
       "      <td>19237.000000</td>\n",
       "      <td>19237.000000</td>\n",
       "    </tr>\n",
       "    <tr>\n",
       "      <th>mean</th>\n",
       "      <td>4.557654e+07</td>\n",
       "      <td>1.855593e+04</td>\n",
       "      <td>2010.912824</td>\n",
       "      <td>4.582991</td>\n",
       "      <td>6.582627</td>\n",
       "    </tr>\n",
       "    <tr>\n",
       "      <th>std</th>\n",
       "      <td>9.365914e+05</td>\n",
       "      <td>1.905813e+05</td>\n",
       "      <td>5.668673</td>\n",
       "      <td>1.199933</td>\n",
       "      <td>4.320168</td>\n",
       "    </tr>\n",
       "    <tr>\n",
       "      <th>min</th>\n",
       "      <td>2.074688e+07</td>\n",
       "      <td>1.000000e+00</td>\n",
       "      <td>1939.000000</td>\n",
       "      <td>1.000000</td>\n",
       "      <td>0.000000</td>\n",
       "    </tr>\n",
       "    <tr>\n",
       "      <th>25%</th>\n",
       "      <td>4.569837e+07</td>\n",
       "      <td>5.331000e+03</td>\n",
       "      <td>2009.000000</td>\n",
       "      <td>4.000000</td>\n",
       "      <td>4.000000</td>\n",
       "    </tr>\n",
       "    <tr>\n",
       "      <th>50%</th>\n",
       "      <td>4.577231e+07</td>\n",
       "      <td>1.317200e+04</td>\n",
       "      <td>2012.000000</td>\n",
       "      <td>4.000000</td>\n",
       "      <td>6.000000</td>\n",
       "    </tr>\n",
       "    <tr>\n",
       "      <th>75%</th>\n",
       "      <td>4.580204e+07</td>\n",
       "      <td>2.207500e+04</td>\n",
       "      <td>2015.000000</td>\n",
       "      <td>4.000000</td>\n",
       "      <td>12.000000</td>\n",
       "    </tr>\n",
       "    <tr>\n",
       "      <th>max</th>\n",
       "      <td>4.581665e+07</td>\n",
       "      <td>2.630750e+07</td>\n",
       "      <td>2020.000000</td>\n",
       "      <td>16.000000</td>\n",
       "      <td>16.000000</td>\n",
       "    </tr>\n",
       "  </tbody>\n",
       "</table>\n",
       "</div>"
      ],
      "text/plain": [
       "                 id         price     prod_year     cylinders       airbags\n",
       "count  1.923700e+04  1.923700e+04  19237.000000  19237.000000  19237.000000\n",
       "mean   4.557654e+07  1.855593e+04   2010.912824      4.582991      6.582627\n",
       "std    9.365914e+05  1.905813e+05      5.668673      1.199933      4.320168\n",
       "min    2.074688e+07  1.000000e+00   1939.000000      1.000000      0.000000\n",
       "25%    4.569837e+07  5.331000e+03   2009.000000      4.000000      4.000000\n",
       "50%    4.577231e+07  1.317200e+04   2012.000000      4.000000      6.000000\n",
       "75%    4.580204e+07  2.207500e+04   2015.000000      4.000000     12.000000\n",
       "max    4.581665e+07  2.630750e+07   2020.000000     16.000000     16.000000"
      ]
     },
     "execution_count": 258,
     "metadata": {},
     "output_type": "execute_result"
    }
   ],
   "source": [
    "# Prints basic statistics (mean, standard deviation, min, max, etc.)\n",
    "df.describe(include=[np.number])      # For  numeric data types\n"
   ]
  },
  {
   "cell_type": "markdown",
   "id": "4cb2e845",
   "metadata": {},
   "source": [
    "💡 **Observations:**  \n",
    "- `price` has a minimum value of $1 and a maximum that’s over 50 times the mean. Suggests outliers.\n",
    "- `prod_year` ranges from 1939 to 2020 — likely contains outliers or vintage cars.\n",
    "- `cylinders` has a Max value of 16, which could be rare or performance vehicles.  \n",
    "- Some vehicles seems to have 0 `airbags`, which might indicate: Older models, Missing or misreported values.\n",
    "- `id` is a unique identifier for each row and does not carry predictive value.\n"
   ]
  },
  {
   "cell_type": "code",
   "execution_count": 259,
   "id": "4e0427f4",
   "metadata": {},
   "outputs": [
    {
     "name": "stdout",
     "output_type": "stream",
     "text": [
      "► Matches found: 23 (0.1196%)\n"
     ]
    }
   ],
   "source": [
    "# Let's see how many rows with these extreme values\n",
    "# Production year:\n",
    "production_year_40 = df[df['prod_year'] < 1980].shape        # More than 40 yo cars\n",
    "\n",
    "count_40 = production_year_40[0]\n",
    "percentage_40 = (count_40 / df.shape[0]) * 100\n",
    "\n",
    "print(f\"► Matches found: {count_40} ({percentage_40:.4f}%)\")"
   ]
  },
  {
   "cell_type": "markdown",
   "id": "c5f44c6a",
   "metadata": {},
   "source": [
    "> 💡 Only 23 rows (~0.11%) have a production year before 1980.  \n",
    "> *🧠 These likely represent vintage or incorrectly entered data and can be safely removed to prevent skewing the analysis.*"
   ]
  },
  {
   "cell_type": "code",
   "execution_count": 260,
   "id": "cbd115bf",
   "metadata": {},
   "outputs": [
    {
     "name": "stdout",
     "output_type": "stream",
     "text": [
      "► Matches found: 6 (0.0312%)\n"
     ]
    }
   ],
   "source": [
    "# Cylinders:\n",
    "cylinderes_16 = df[df['cylinders'] > 12].shape\n",
    "\n",
    "count_16 = cylinderes_16[0]\n",
    "percentage_16 = (count_16 / df.shape[0]) * 100\n",
    "\n",
    "print(f\"► Matches found: {count_16} ({percentage_16:.4f}%)\")\n"
   ]
  },
  {
   "cell_type": "markdown",
   "id": "7114000b",
   "metadata": {},
   "source": [
    ">💡 Only 6 rows match -> these likely represent performance vehicles.  \n",
    ">*🧠 Since the model focuses on the general car market, they should be removed to avoid skewing the analysis.*"
   ]
  },
  {
   "cell_type": "code",
   "execution_count": 261,
   "id": "c7978134",
   "metadata": {},
   "outputs": [
    {
     "name": "stdout",
     "output_type": "stream",
     "text": [
      "► Matches found: 2405 (12.5019%)\n"
     ]
    }
   ],
   "source": [
    "\n",
    "# Airbags:\n",
    "airbags_0 = df[df['airbags'] == 0].shape\n",
    "\n",
    "count_0 = airbags_0[0]\n",
    "percentage_0 = (count_0 / df.shape[0]) * 100\n",
    "\n",
    "print(f\"► Matches found: {count_0} ({percentage_0:.4f}%)\")"
   ]
  },
  {
   "cell_type": "markdown",
   "id": "0c136575",
   "metadata": {},
   "source": [
    "> 💡 2,405  rows (~12.50%) have 0 airbags.  \n",
    "> *🧠 This is a sizable portion of the data. Further inspection is needed before deciding how to handle them.*"
   ]
  },
  {
   "cell_type": "code",
   "execution_count": 262,
   "id": "f3a73eb2",
   "metadata": {},
   "outputs": [
    {
     "data": {
      "text/html": [
       "<div>\n",
       "<style scoped>\n",
       "    .dataframe tbody tr th:only-of-type {\n",
       "        vertical-align: middle;\n",
       "    }\n",
       "\n",
       "    .dataframe tbody tr th {\n",
       "        vertical-align: top;\n",
       "    }\n",
       "\n",
       "    .dataframe thead th {\n",
       "        text-align: right;\n",
       "    }\n",
       "</style>\n",
       "<table border=\"1\" class=\"dataframe\">\n",
       "  <thead>\n",
       "    <tr style=\"text-align: right;\">\n",
       "      <th></th>\n",
       "      <th>levy</th>\n",
       "      <th>manufacturer</th>\n",
       "      <th>model</th>\n",
       "      <th>category</th>\n",
       "      <th>leather_interior</th>\n",
       "      <th>fuel_type</th>\n",
       "      <th>engine_volume</th>\n",
       "      <th>mileage</th>\n",
       "      <th>gear_box_type</th>\n",
       "      <th>drive_wheels</th>\n",
       "      <th>doors</th>\n",
       "      <th>wheel</th>\n",
       "      <th>color</th>\n",
       "    </tr>\n",
       "  </thead>\n",
       "  <tbody>\n",
       "    <tr>\n",
       "      <th>count</th>\n",
       "      <td>19237</td>\n",
       "      <td>19237</td>\n",
       "      <td>19237</td>\n",
       "      <td>19237</td>\n",
       "      <td>19237</td>\n",
       "      <td>19237</td>\n",
       "      <td>19237</td>\n",
       "      <td>19237</td>\n",
       "      <td>19237</td>\n",
       "      <td>19237</td>\n",
       "      <td>19237</td>\n",
       "      <td>19237</td>\n",
       "      <td>19237</td>\n",
       "    </tr>\n",
       "    <tr>\n",
       "      <th>unique</th>\n",
       "      <td>559</td>\n",
       "      <td>65</td>\n",
       "      <td>1590</td>\n",
       "      <td>11</td>\n",
       "      <td>2</td>\n",
       "      <td>7</td>\n",
       "      <td>107</td>\n",
       "      <td>7687</td>\n",
       "      <td>4</td>\n",
       "      <td>3</td>\n",
       "      <td>3</td>\n",
       "      <td>2</td>\n",
       "      <td>16</td>\n",
       "    </tr>\n",
       "    <tr>\n",
       "      <th>top</th>\n",
       "      <td>-</td>\n",
       "      <td>HYUNDAI</td>\n",
       "      <td>Prius</td>\n",
       "      <td>Sedan</td>\n",
       "      <td>Yes</td>\n",
       "      <td>Petrol</td>\n",
       "      <td>2</td>\n",
       "      <td>0 km</td>\n",
       "      <td>Automatic</td>\n",
       "      <td>Front</td>\n",
       "      <td>04-May</td>\n",
       "      <td>Left wheel</td>\n",
       "      <td>Black</td>\n",
       "    </tr>\n",
       "    <tr>\n",
       "      <th>freq</th>\n",
       "      <td>5819</td>\n",
       "      <td>3769</td>\n",
       "      <td>1083</td>\n",
       "      <td>8736</td>\n",
       "      <td>13954</td>\n",
       "      <td>10150</td>\n",
       "      <td>3916</td>\n",
       "      <td>721</td>\n",
       "      <td>13514</td>\n",
       "      <td>12874</td>\n",
       "      <td>18332</td>\n",
       "      <td>17753</td>\n",
       "      <td>5033</td>\n",
       "    </tr>\n",
       "  </tbody>\n",
       "</table>\n",
       "</div>"
      ],
      "text/plain": [
       "         levy manufacturer  model category leather_interior fuel_type  \\\n",
       "count   19237        19237  19237    19237            19237     19237   \n",
       "unique    559           65   1590       11                2         7   \n",
       "top         -      HYUNDAI  Prius    Sedan              Yes    Petrol   \n",
       "freq     5819         3769   1083     8736            13954     10150   \n",
       "\n",
       "       engine_volume mileage gear_box_type drive_wheels   doors       wheel  \\\n",
       "count          19237   19237         19237        19237   19237       19237   \n",
       "unique           107    7687             4            3       3           2   \n",
       "top                2    0 km     Automatic        Front  04-May  Left wheel   \n",
       "freq            3916     721         13514        12874   18332       17753   \n",
       "\n",
       "        color  \n",
       "count   19237  \n",
       "unique     16  \n",
       "top     Black  \n",
       "freq     5033  "
      ]
     },
     "execution_count": 262,
     "metadata": {},
     "output_type": "execute_result"
    }
   ],
   "source": [
    "# Prints basic statistics (mean, standard deviation, min, max, etc.)\n",
    "df.describe(include='object')      # For  numeric data types"
   ]
  },
  {
   "cell_type": "markdown",
   "id": "98a413ff",
   "metadata": {},
   "source": [
    "💡 **Observations:**  \n",
    "- Most columns in the dataset are categorical.  \n",
    "\n",
    "- The **Levy** column’s top value is '-', likely indicating no levy.\n",
    "\n",
    "- **Mileage** has a top value of 0. can be new vehicles or placeholders. Need further analyses.\n",
    "\n",
    "- The **Doors** column contains only 3 unique values but all of them has unusual values like \"04-May\".  \n",
    " > *🧠 suggesting formatting errors that need cleaning.*\n",
    "\n",
    "- Several key columns show strong class imbalance in their major categories.\n",
    "\n",
    "- Column **Model** has high cardinality (1051 unique), which may require special encoding techniques."
   ]
  },
  {
   "cell_type": "markdown",
   "id": "c69d42f3",
   "metadata": {},
   "source": [
    "## Planned Data Transformations"
   ]
  },
  {
   "cell_type": "markdown",
   "id": "9ff5bfe2",
   "metadata": {},
   "source": [
    "1. **Convert `price` & `levy` to numeric**  \n",
    "   - Replace '-' or '—' with `0`.\n",
    "\n",
    "2. **Clean `mileage`**  \n",
    "   - Remove 'km' and commas, then convert to `int`.\n",
    "\n",
    "3. **Clean `engine_volume`**  \n",
    "   - Convert to `float`.\n",
    "\n",
    "4. **Convert numeric columns**  \n",
    "   - `cylinders`, `airbags`, `prod_year` → numeric types.\n",
    "\n",
    "5. **Normalize categorical labels**  \n",
    "   - Lowercase, trim whitespace, standardize formatting.\n",
    "\n",
    "6. **Map `leather_interior` to binary**  \n",
    "   - Yes → 1, No → 0.\n",
    "\n",
    "7. **Standardize `drive_wheels`**  \n",
    "   - 4x4 → 4wd, front → fwd, rear → rwd.\n",
    "\n",
    "8. **Clean `doors`**  \n",
    "   - Check for mis-parsing, extract numeric values if possible.\n",
    "\n"
   ]
  },
  {
   "cell_type": "markdown",
   "id": "f6f0bf1c",
   "metadata": {},
   "source": [
    "### **1.** **Convert `price` & `levy` to numeric**  "
   ]
  },
  {
   "cell_type": "code",
   "execution_count": 263,
   "id": "e222ad19",
   "metadata": {},
   "outputs": [
    {
     "name": "stdout",
     "output_type": "stream",
     "text": [
      "► Data type of the column: object\n",
      "\n",
      "► Count of each unique values top 5:\n",
      "+------+-------+------------+\n",
      "| Levy | Count | Percentage |\n",
      "+------+-------+------------+\n",
      "|  -   |  5819 |     30.25% |\n",
      "| 765  |   486 |      2.53% |\n",
      "| 891  |   461 |      2.40% |\n",
      "| 639  |   410 |      2.13% |\n",
      "| 640  |   405 |      2.11% |\n",
      "+------+-------+------------+\n",
      "\n",
      "\n",
      "► Count of each unique values bottom 5:\n",
      "+------+-------+------------+\n",
      "| Levy | Count | Percentage |\n",
      "+------+-------+------------+\n",
      "| 2308 |     1 |      0.01% |\n",
      "| 4860 |     1 |      0.01% |\n",
      "| 1641 |     1 |      0.01% |\n",
      "| 1045 |     1 |      0.01% |\n",
      "| 5681 |     1 |      0.01% |\n",
      "+------+-------+------------+\n"
     ]
    }
   ],
   "source": [
    "# Let's check how many missing values in levy column\n",
    "print(f\"► Data type of the column: {df['levy'].dtype}\\n\")\n",
    "print(\"► Count of each unique values top 5:\")\n",
    "print(value_counts_pretty(df['levy'], column_name=\"Levy\", n=5))\n",
    "print(\"\\n\")\n",
    "print(\"► Count of each unique values bottom 5:\")\n",
    "print(value_counts_pretty(df['levy'], column_name=\"Levy\", n=5, head=False))"
   ]
  },
  {
   "cell_type": "markdown",
   "id": "ece9643f",
   "metadata": {},
   "source": [
    "💡 **Observations:**  \n",
    "- The `levy` column appears to be numerical, but it's currently stored as an `object` type.\n",
    "\n",
    "- Around 36.15% of the entries are placeholder values ('-'),\n",
    " >*🧠 likely indicating vehicles with no levy, so these can be safely replaced with 0.*\n"
   ]
  },
  {
   "cell_type": "code",
   "execution_count": 264,
   "id": "2b73caa4",
   "metadata": {},
   "outputs": [
    {
     "name": "stdout",
     "output_type": "stream",
     "text": [
      "► Data type of the column: float64\n",
      "\n",
      "► Number of missing values: 0\n",
      "\n",
      "► Summery of Levy column after cleaning:\n"
     ]
    },
    {
     "data": {
      "text/plain": [
       "count    19237.000000\n",
       "mean       632.528669\n",
       "std        567.721688\n",
       "min          0.000000\n",
       "25%          0.000000\n",
       "50%        642.000000\n",
       "75%        917.000000\n",
       "max      11714.000000\n",
       "Name: levy, dtype: float64"
      ]
     },
     "execution_count": 264,
     "metadata": {},
     "output_type": "execute_result"
    }
   ],
   "source": [
    "# 📌Let's replace the '-' with 0 and assing to a new dataframe.\n",
    "# 📌And the datatype should be converted to float since Levy represents continuous numeric values.\n",
    "# 🟢 Return a new dataframe\n",
    "\n",
    "df_cleaned_1 = df.copy()\n",
    "\n",
    "df_cleaned_1['levy'] = df['levy'].replace('-', 0)\n",
    "df_cleaned_1['levy'] = df_cleaned_1['levy'].astype(float)\n",
    "\n",
    "# Let's verify the changes\n",
    "print(f\"► Data type of the column: {df_cleaned_1['levy'].dtype}\\n\")\n",
    "# Check number of null values\n",
    "print(f\"► Number of missing values: {df_cleaned_1['levy'].isnull().sum()}\\n\")\n",
    "print(\"► Summery of Levy column after cleaning:\")\n",
    "df_cleaned_1['levy'].describe()\n"
   ]
  },
  {
   "cell_type": "markdown",
   "id": "0b2fbfb4",
   "metadata": {},
   "source": [
    "💡 **Observations**  \n",
    "- The column is now of type `float64`, suitable for numerical analysis.  "
   ]
  },
  {
   "cell_type": "markdown",
   "id": "9da8af84",
   "metadata": {},
   "source": [
    "### **2.** **Clean `mileage`**  "
   ]
  },
  {
   "cell_type": "code",
   "execution_count": 274,
   "id": "53f1aca1",
   "metadata": {},
   "outputs": [
    {
     "name": "stdout",
     "output_type": "stream",
     "text": [
      "► Count of each unique values top 5:\n",
      "+-----------+-------+------------+\n",
      "|  Mileage  | Count | Percentage |\n",
      "+-----------+-------+------------+\n",
      "|    0 km   |   721 |      3.75% |\n",
      "| 200000 km |   183 |      0.95% |\n",
      "| 150000 km |   161 |      0.84% |\n",
      "| 160000 km |   120 |      0.62% |\n",
      "| 100000 km |   119 |      0.62% |\n",
      "+-----------+-------+------------+\n",
      "\n",
      "\n",
      "► Count of each unique values bottom 3:\n",
      "+-----------+-------+------------+\n",
      "|  Mileage  | Count | Percentage |\n",
      "+-----------+-------+------------+\n",
      "|  10970 km |     1 |      0.01% |\n",
      "| 114406 km |     1 |      0.01% |\n",
      "| 220240 km |     1 |      0.01% |\n",
      "+-----------+-------+------------+\n",
      "\n",
      "\n",
      "► Summery:\n"
     ]
    },
    {
     "data": {
      "text/plain": [
       "count     19237\n",
       "unique     7687\n",
       "top        0 km\n",
       "freq        721\n",
       "Name: mileage, dtype: object"
      ]
     },
     "execution_count": 274,
     "metadata": {},
     "output_type": "execute_result"
    }
   ],
   "source": [
    "# check the values\n",
    "print(\"► Count of each unique values top 5:\")\n",
    "print(value_counts_pretty(df_cleaned_1['mileage'], column_name=\"Mileage\", n=5))\n",
    "print(\"\\n\") \n",
    "\n",
    "print(\"► Count of each unique values bottom 3:\")\n",
    "print(value_counts_pretty(df_cleaned_1['mileage'], column_name=\"Mileage\", n=3, head=False))\n",
    "print(\"\\n\") \n",
    "\n",
    "print(\"► Summery:\")\n",
    "df_cleaned_1['mileage'].describe()\n"
   ]
  },
  {
   "cell_type": "markdown",
   "id": "7aed6997",
   "metadata": {},
   "source": [
    "💡 **Observations:**\n",
    "\n",
    "- The `mileage` column is currently of type `object`, though it represents numeric data.\n",
    "\n",
    "- 721 entries (3.75%) have a value of \"0 km\", which could indicate brand new cars or be placeholders for missing data.\n",
    "- Many top values appear **rounded**, such as 200,000 km or 150,000 km, but there are also many unique precise values.  \n",
    ">*🧠 This column should be converted to numeric for analysis, and \"0\" values may need further investigation or conditional handling.   \n",
    "► Handling of rounded or extreme values too addressed later during preprocessing in Notebook 02.*"
   ]
  },
  {
   "cell_type": "code",
   "execution_count": 266,
   "id": "2a4d0c9d",
   "metadata": {},
   "outputs": [
    {
     "name": "stdout",
     "output_type": "stream",
     "text": [
      "► New datatype of the column Mileage: Int64\n",
      "► Number of missing values in 'mileage': 0\n",
      "\n",
      "► Summery:\n"
     ]
    },
    {
     "data": {
      "text/plain": [
       "count           19237.0\n",
       "mean     1532235.687685\n",
       "std      48403869.37929\n",
       "min                 0.0\n",
       "25%             70139.0\n",
       "50%            126000.0\n",
       "75%            188888.0\n",
       "max        2147483647.0\n",
       "Name: mileage, dtype: Float64"
      ]
     },
     "execution_count": 266,
     "metadata": {},
     "output_type": "execute_result"
    }
   ],
   "source": [
    "# 📌 Let's make Mileage numeric.\n",
    "# First we have to remove the ' km' part.\n",
    "# 🟢 Return a new dataframe\n",
    "\n",
    "df_cleaned_2 = df_cleaned_1.copy()\n",
    "df_cleaned_2['mileage'] = df_cleaned_2['mileage'].str.replace(' km', '', regex=False)\n",
    "\n",
    "# Then change datatype to numeric.\n",
    "df_cleaned_2['mileage'] = df_cleaned_2['mileage'].astype('Int64')\n",
    "\n",
    "# Check if the changes have been made correctly.\n",
    "print(f\"► New datatype of the column Mileage: {df_cleaned_2['mileage'].dtype}\")\n",
    "\n",
    "# Count total missing values in the mileage column\n",
    "null_count = df_cleaned_2['mileage'].isnull().sum()\n",
    "print(f\"► Number of missing values in 'mileage': {null_count}\\n\")\n",
    "\n",
    "print(\"► Summery:\")\n",
    "df_cleaned_2['mileage'].describe()\n"
   ]
  },
  {
   "cell_type": "markdown",
   "id": "b398aadf",
   "metadata": {},
   "source": [
    "💡 **Observations**  \n",
    "- The column has been converted to `Int64` (nullable integer), suitable for numerical analysis.  \n",
    "- There are *no missing values* in the column.  \n",
    "- Summary statistics:  \n",
    "  - **Mean:** 1,532,236 km  \n",
    "  - **Minimum:** 0 km  \n",
    "  - **Maximum:** 2,147,483,647 km  \n",
    "- The maximum value (≈2.1 billion km) is clearly an outlier or data entry error.  \n",
    "- Many vehicles have 0 km, likely representing new cars, while the rest of the data shows a wide range of mileage, including rounded and precise values.  \n",
    "> *🧠 Note: The `mileage` column contains extreme outliers (some > 2 billion km). These will be handled during preprocessing in Notebook 02.*\n"
   ]
  },
  {
   "cell_type": "markdown",
   "id": "dbba37c8",
   "metadata": {},
   "source": [
    "### **3.** **Clean `engine_volume`**  "
   ]
  },
  {
   "cell_type": "code",
   "execution_count": 267,
   "id": "c61b9662",
   "metadata": {},
   "outputs": [
    {
     "name": "stdout",
     "output_type": "stream",
     "text": [
      "► Count of each unique values top 10:\n",
      "+---------------+-------+------------+\n",
      "| Engine Volume | Count | Percentage |\n",
      "+---------------+-------+------------+\n",
      "|       2       |  3916 |     20.36% |\n",
      "|      2.5      |  2277 |     11.84% |\n",
      "|      1.8      |  1760 |      9.15% |\n",
      "|      1.6      |  1462 |      7.60% |\n",
      "|      1.5      |  1321 |      6.87% |\n",
      "|      3.5      |  1228 |      6.38% |\n",
      "|      2.4      |   987 |      5.13% |\n",
      "|       3       |   823 |      4.28% |\n",
      "|      1.3      |   518 |      2.69% |\n",
      "|   2.0 Turbo   |   408 |      2.12% |\n",
      "+---------------+-------+------------+\n",
      "\n",
      "\n",
      "► datatype of the column engine_volume: object\n"
     ]
    }
   ],
   "source": [
    "# check the values\n",
    "print(\"► Count of each unique values top 10:\")\n",
    "print(value_counts_pretty(df_cleaned_2['engine_volume'], column_name=\"Engine Volume\", n=10))\n",
    "print(\"\\n\") \n",
    "\n",
    "# Check if the datatype.\n",
    "print(f\"► datatype of the column engine_volume: {df_cleaned_2['engine_volume'].dtype}\")\n"
   ]
  },
  {
   "cell_type": "markdown",
   "id": "84568197",
   "metadata": {},
   "source": [
    "💡 **Observations**\n",
    "- The column is currently of type `object`, indicating mixed formats.  \n",
    "- Most values are standard numeric volumes: 2.0, 2.5, 1.8, 1.6, etc.  \n",
    "- Some entries contain text, e.g., \"2.0 Turbo,\" \n",
    "> *🧠 which needs to be handled before numeric analysis.*\n"
   ]
  },
  {
   "cell_type": "code",
   "execution_count": 268,
   "id": "c0d4dd19",
   "metadata": {},
   "outputs": [
    {
     "name": "stdout",
     "output_type": "stream",
     "text": [
      "► Top 5 'Turbo' engine_volume values:\n",
      "+-----------+-------+------------+\n",
      "|   Value   | Count | Percentage |\n",
      "+-----------+-------+------------+\n",
      "| 2.0 Turbo |   408 |     21.13% |\n",
      "| 3.0 Turbo |   278 |     14.40% |\n",
      "| 2.2 Turbo |   219 |     11.34% |\n",
      "| 1.8 Turbo |   177 |      9.17% |\n",
      "| 1.4 Turbo |   157 |      8.13% |\n",
      "+-----------+-------+------------+\n",
      "\n",
      "► Total number of 'Turbo' entries: 1931 (10.04%)\n"
     ]
    }
   ],
   "source": [
    "# Find all engine_volume values containing 'Turbo'\n",
    "turbo_entries = df_cleaned_2['engine_volume'].str.contains('Turbo', case=False, na=False)\n",
    "\n",
    "# Top 5 turbo entries\n",
    "print(\"► Top 5 'Turbo' engine_volume values:\")\n",
    "print(value_counts_pretty(df_cleaned_2.loc[turbo_entries, 'engine_volume'], n=5))\n",
    "\n",
    "# Total count of turbo entries\n",
    "total_turbo = turbo_entries.sum()\n",
    "total_rows = len(df_cleaned_2)\n",
    "turbo_pct = (total_turbo / total_rows) * 100\n",
    "print(f\"\\n► Total number of 'Turbo' entries: {total_turbo} ({turbo_pct:.2f}%)\")\n"
   ]
  },
  {
   "cell_type": "markdown",
   "id": "123e9dbd",
   "metadata": {},
   "source": [
    "💡 **Observations**  \n",
    "> *🧠 To separate the presence of turbo from numeric engine size, let's create a new boolean column named `turbo`.*   \n",
    "*► This allows us to keep numeric engine volumes clean for modeling while retaining turbo as a separate feature.*\n"
   ]
  },
  {
   "cell_type": "code",
   "execution_count": 269,
   "id": "872e4602",
   "metadata": {},
   "outputs": [
    {
     "name": "stdout",
     "output_type": "stream",
     "text": [
      "turbo\n",
      "False    17306\n",
      "True      1931\n",
      "Name: count, dtype: int64\n"
     ]
    }
   ],
   "source": [
    "# Create a new boolean column\n",
    "df_cleaned_2['turbo'] = df_cleaned_2['engine_volume'].str.contains('Turbo', case=False, na=False)\n",
    "\n",
    "# Check the counts\n",
    "print(df_cleaned_2['turbo'].value_counts())"
   ]
  },
  {
   "cell_type": "markdown",
   "id": "e70ba75a",
   "metadata": {},
   "source": [
    "💡 **Observation:**  \n",
    "- A new boolean column `turbo` was created: `True` if `engine_volume` contains \"Turbo\", else `False`.  \n",
    "- This allows us to separate the presence of turbo from the numeric engine volume, which will be extracted and cleaned in Notebook 02."
   ]
  },
  {
   "cell_type": "code",
   "execution_count": null,
   "id": "c47b7fd7",
   "metadata": {},
   "outputs": [
    {
     "name": "stdout",
     "output_type": "stream",
     "text": [
      "► New datatype of the column engine_volume: float64\n",
      "► Number of missing values in 'engine_volume': 0\n",
      "\n",
      "► Summary of 'engine_volume':\n",
      "count    19237.000000\n",
      "mean         2.307990\n",
      "std          0.877805\n",
      "min          0.000000\n",
      "25%          1.800000\n",
      "50%          2.000000\n",
      "75%          2.500000\n",
      "max         20.000000\n",
      "Name: engine_volume, dtype: float64\n"
     ]
    }
   ],
   "source": [
    "# 📌 Clean engine_volume\n",
    "# 🟢 Return a new dataframe\n",
    "\n",
    "df_cleaned_3 = df_cleaned_2.copy()\n",
    "\n",
    "# Remove 'Turbo' and any non-numeric characters\n",
    "df_cleaned_3['engine_volume'] = df_cleaned_3['engine_volume'].str.replace(r'[^0-9.]', '', regex=True)\n",
    "\n",
    "# Convert to float\n",
    "df_cleaned_3['engine_volume'] = pd.to_numeric(df_cleaned_3['engine_volume'], errors='coerce')\n",
    "\n",
    "# let's verify changes\n",
    "print(f\"► New datatype of the column engine_volume: {df_cleaned_3['engine_volume'].dtype}\")\n",
    "\n",
    "# Check for missing values\n",
    "null_count = df_cleaned_3['engine_volume'].isnull().sum()\n",
    "print(f\"► Number of missing values in 'engine_volume': {null_count}\\n\")\n",
    "\n",
    "# Summary statistics\n",
    "print(\"► Summary of 'engine_volume':\")\n",
    "print(df_cleaned_3['engine_volume'].describe())\n"
   ]
  },
  {
   "cell_type": "markdown",
   "id": "261c19ec",
   "metadata": {},
   "source": [
    "💡 **Observations**  \n",
    "- The column has been converted to `float64`, suitable for numerical analysis.  \n",
    "- There are no missing values in the column.  \n",
    "- Summary statistics:  \n",
    "  - **Mean:** 2.31 L  \n",
    "  - **Minimum:** 0 L  \n",
    "  - **25th percentile:** 1.8 L  \n",
    "  - **Median (50th percentile):** 2.0 L  \n",
    "  - **75th percentile:** 2.5 L  \n",
    "  - **Maximum:** 20.0 L  \n",
    "- The maximum value (20 L) is likely an outlier or data entry error.  \n",
    "- The numeric conversion removed textual entries like `\"Turbo\"`, which are now captured separately in the `turbo` boolean column.  \n",
    "- Most vehicles have engine volumes between `1.8 L` and `2.5 L`, with a few extreme cases requiring further attention during preprocessing.\n"
   ]
  },
  {
   "cell_type": "code",
   "execution_count": 276,
   "id": "41b4a966",
   "metadata": {},
   "outputs": [
    {
     "data": {
      "text/html": [
       "<div>\n",
       "<style scoped>\n",
       "    .dataframe tbody tr th:only-of-type {\n",
       "        vertical-align: middle;\n",
       "    }\n",
       "\n",
       "    .dataframe tbody tr th {\n",
       "        vertical-align: top;\n",
       "    }\n",
       "\n",
       "    .dataframe thead th {\n",
       "        text-align: right;\n",
       "    }\n",
       "</style>\n",
       "<table border=\"1\" class=\"dataframe\">\n",
       "  <thead>\n",
       "    <tr style=\"text-align: right;\">\n",
       "      <th></th>\n",
       "      <th>id</th>\n",
       "      <th>price</th>\n",
       "      <th>levy</th>\n",
       "      <th>manufacturer</th>\n",
       "      <th>model</th>\n",
       "      <th>prod_year</th>\n",
       "      <th>category</th>\n",
       "      <th>leather_interior</th>\n",
       "      <th>fuel_type</th>\n",
       "      <th>engine_volume</th>\n",
       "      <th>mileage</th>\n",
       "      <th>cylinders</th>\n",
       "      <th>gear_box_type</th>\n",
       "      <th>drive_wheels</th>\n",
       "      <th>doors</th>\n",
       "      <th>wheel</th>\n",
       "      <th>color</th>\n",
       "      <th>airbags</th>\n",
       "      <th>turbo</th>\n",
       "    </tr>\n",
       "  </thead>\n",
       "  <tbody>\n",
       "    <tr>\n",
       "      <th>0</th>\n",
       "      <td>45654403</td>\n",
       "      <td>13328</td>\n",
       "      <td>1399.0</td>\n",
       "      <td>LEXUS</td>\n",
       "      <td>RX 450</td>\n",
       "      <td>2010</td>\n",
       "      <td>Jeep</td>\n",
       "      <td>Yes</td>\n",
       "      <td>Hybrid</td>\n",
       "      <td>3.5</td>\n",
       "      <td>186005</td>\n",
       "      <td>6.0</td>\n",
       "      <td>Automatic</td>\n",
       "      <td>4x4</td>\n",
       "      <td>04-May</td>\n",
       "      <td>Left wheel</td>\n",
       "      <td>Silver</td>\n",
       "      <td>12</td>\n",
       "      <td>False</td>\n",
       "    </tr>\n",
       "    <tr>\n",
       "      <th>1</th>\n",
       "      <td>44731507</td>\n",
       "      <td>16621</td>\n",
       "      <td>1018.0</td>\n",
       "      <td>CHEVROLET</td>\n",
       "      <td>Equinox</td>\n",
       "      <td>2011</td>\n",
       "      <td>Jeep</td>\n",
       "      <td>No</td>\n",
       "      <td>Petrol</td>\n",
       "      <td>3.0</td>\n",
       "      <td>192000</td>\n",
       "      <td>6.0</td>\n",
       "      <td>Tiptronic</td>\n",
       "      <td>4x4</td>\n",
       "      <td>04-May</td>\n",
       "      <td>Left wheel</td>\n",
       "      <td>Black</td>\n",
       "      <td>8</td>\n",
       "      <td>False</td>\n",
       "    </tr>\n",
       "    <tr>\n",
       "      <th>2</th>\n",
       "      <td>45774419</td>\n",
       "      <td>8467</td>\n",
       "      <td>0.0</td>\n",
       "      <td>HONDA</td>\n",
       "      <td>FIT</td>\n",
       "      <td>2006</td>\n",
       "      <td>Hatchback</td>\n",
       "      <td>No</td>\n",
       "      <td>Petrol</td>\n",
       "      <td>1.3</td>\n",
       "      <td>200000</td>\n",
       "      <td>4.0</td>\n",
       "      <td>Variator</td>\n",
       "      <td>Front</td>\n",
       "      <td>04-May</td>\n",
       "      <td>Right-hand drive</td>\n",
       "      <td>Black</td>\n",
       "      <td>2</td>\n",
       "      <td>False</td>\n",
       "    </tr>\n",
       "  </tbody>\n",
       "</table>\n",
       "</div>"
      ],
      "text/plain": [
       "         id  price    levy manufacturer    model  prod_year   category  \\\n",
       "0  45654403  13328  1399.0        LEXUS   RX 450       2010       Jeep   \n",
       "1  44731507  16621  1018.0    CHEVROLET  Equinox       2011       Jeep   \n",
       "2  45774419   8467     0.0        HONDA      FIT       2006  Hatchback   \n",
       "\n",
       "  leather_interior fuel_type  engine_volume  mileage  cylinders gear_box_type  \\\n",
       "0              Yes    Hybrid            3.5   186005        6.0     Automatic   \n",
       "1               No    Petrol            3.0   192000        6.0     Tiptronic   \n",
       "2               No    Petrol            1.3   200000        4.0      Variator   \n",
       "\n",
       "  drive_wheels   doors             wheel   color  airbags  turbo  \n",
       "0          4x4  04-May        Left wheel  Silver       12  False  \n",
       "1          4x4  04-May        Left wheel   Black        8  False  \n",
       "2        Front  04-May  Right-hand drive   Black        2  False  "
      ]
     },
     "execution_count": 276,
     "metadata": {},
     "output_type": "execute_result"
    }
   ],
   "source": [
    "# Quick look at the Dataset \n",
    "df_cleaned_3.head(3)"
   ]
  },
  {
   "cell_type": "markdown",
   "id": "f7ebfb54",
   "metadata": {},
   "source": [
    "### **4.** **Convert numeric columns**  \n",
    "`cylinders`, `airbags`, `prod_year` → numeric types."
   ]
  },
  {
   "cell_type": "code",
   "execution_count": 283,
   "id": "ca70882a",
   "metadata": {},
   "outputs": [
    {
     "name": "stdout",
     "output_type": "stream",
     "text": [
      "► Summary of 'cylinders':\n",
      "count    19237.000000\n",
      "mean         4.582991\n",
      "std          1.199933\n",
      "min          1.000000\n",
      "25%          4.000000\n",
      "50%          4.000000\n",
      "75%          4.000000\n",
      "max         16.000000\n",
      "Name: cylinders, dtype: float64\n"
     ]
    }
   ],
   "source": [
    "# Let's take `cylinders` column first\n",
    "# Summary statistics\n",
    "print(\"► Summary of 'cylinders':\")\n",
    "print(df_cleaned_3['cylinders'].describe())\n"
   ]
  },
  {
   "cell_type": "markdown",
   "id": "3ba59e5a",
   "metadata": {},
   "source": [
    "💡 **Observations**  \n",
    "\n",
    "- The column is already numeric type `float64`. but,\n",
    "> *🧠 cylinders should always be integers because an engine cannot have fractional cylinders.*\n",
    "- Summary statistics:  \n",
    "  - **Mean:** 4.58 cylinders  \n",
    "  - **Standard deviation:** 1.20  \n",
    "  - **Minimum:** 1 cylinder  \n",
    "  - **25th percentile:** 4 cylinders  \n",
    "  - **Median (50th percentile):** 4 cylinders  \n",
    "  - **75th percentile:** 4 cylinders  \n",
    "  - **Maximum:** 16 cylinders  \n",
    "- Most vehicles have `4 cylinders`, suggesting a strong mode in the dataset.  \n",
    "- The maximum value of `16 cylinders` is likely an outlier or data entry error or a rare or performance vehicles and should be investigated during EDA.\n"
   ]
  },
  {
   "cell_type": "code",
   "execution_count": 284,
   "id": "04db7dd1",
   "metadata": {},
   "outputs": [
    {
     "name": "stdout",
     "output_type": "stream",
     "text": [
      "► Non-integer cylinder values:\n",
      "Series([], Name: cylinders, dtype: float64)\n"
     ]
    }
   ],
   "source": [
    "# Check if all values are integers\n",
    "non_integer_cylinders = df_cleaned_3[~df_cleaned_3['cylinders'].apply(float.is_integer)]\n",
    "\n",
    "print(\"► Non-integer cylinder values:\")\n",
    "print(non_integer_cylinders['cylinders'])\n",
    "\n",
    "# Optionally, convert the column to integer (if safe)\n",
    "df_cleaned_3['cylinders'] = df_cleaned_3['cylinders'].astype('Int64')\n"
   ]
  }
 ],
 "metadata": {
  "kernelspec": {
   "display_name": "Python 3 (ipykernel)",
   "language": "python",
   "name": "python3"
  },
  "language_info": {
   "codemirror_mode": {
    "name": "ipython",
    "version": 3
   },
   "file_extension": ".py",
   "mimetype": "text/x-python",
   "name": "python",
   "nbconvert_exporter": "python",
   "pygments_lexer": "ipython3",
   "version": "3.10.18"
  }
 },
 "nbformat": 4,
 "nbformat_minor": 5
}
