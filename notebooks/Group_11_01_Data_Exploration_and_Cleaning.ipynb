{
 "cells": [
  {
   "cell_type": "markdown",
   "id": "77f1a296",
   "metadata": {},
   "source": [
    "# 01 – Data Exploration and Cleaning\n",
    "### Car Price Prediction Using Machine Learning\n",
    "Group Assignment 02 - CCS3012 - Data Analytics  \n",
    "Submission Date: 16th September 2025"
   ]
  },
  {
   "cell_type": "markdown",
   "id": "735abbb6",
   "metadata": {},
   "source": [
    "---\n",
    "\n",
    "### **Group 11**\n",
    "-  **FC211034 - N.D. Samararathne Kodikara**\n",
    "-  **FC211013 - N.W.V. Tharindu Pabasara**\n",
    "-  **FC211025 - W.M.M.C.B. Wijesundara**\n",
    "\n",
    "\n",
    "\n",
    "---"
   ]
  },
  {
   "cell_type": "markdown",
   "id": "813d81e8",
   "metadata": {},
   "source": [
    "### **Supervisor**\n",
    "**Ms. Dilmi Praveena**  \n",
    "*Faculty of Computing*  \n",
    "*University of Sri Jayewardenepura*\n",
    "\n",
    "---\n",
    "\n"
   ]
  },
  {
   "cell_type": "markdown",
   "id": "a89e6093",
   "metadata": {},
   "source": [
    "## 📌 Objective\n",
    "This notebook focuses on understanding the dataset, cleaning it, and preparing it for further analysis and modeling.\n",
    "\n",
    "**Key Tasks:**\n",
    "- Load dataset\n",
    "- Inspect and document schema / anomalies\n",
    "- Clean & convert data types\n",
    "- Basic descriptive analysis & visualizations\n",
    "- Save a cleaned dataset + metadata for modeling notebook\n",
    "\n",
    "\n",
    "---"
   ]
  },
  {
   "cell_type": "markdown",
   "id": "30e872df",
   "metadata": {},
   "source": [
    "### 📂 Input  \n",
    " - `car_price_prediction.csv` saved in `Data/raw/`  \n",
    "\n",
    "\n",
    "### 📦 Output  \n",
    "- `clean_data.csv` saved in `Data/processed/`\n",
    "\n",
    "---"
   ]
  },
  {
   "cell_type": "markdown",
   "id": "7f1e6d18",
   "metadata": {},
   "source": [
    "### 📊 Dataset Overview\n",
    "**Dataset:** Car price dataset.  \n",
    "**columns include**: ID, Price, Levy, Manufacturer, Model, Prod. year, Category, Leather interior, Fuel type, Engine volume, Mileage, Cylinders, Gear box type, Drive wheels, Doors, Wheel, Color, Airbags.\n",
    "\n",
    "\n",
    "| **Attribute** | **Details** |\n",
    "|---------------|-------------|\n",
    "| **Dataset Size** | 19,237 records × 18 features |\n",
    "| **Data Type** | Structured tabular data (CSV format) |\n",
    "| **Target Variable** | `Price` (in USD $) |\n",
    "| **Problem Type** | Regression |\n",
    "| **Data Source** | [Car Price Prediction Dataset](https://www.kaggle.com/datasets/deepcontractor/car-price-prediction-challenge) |"
   ]
  },
  {
   "cell_type": "markdown",
   "id": "a661564e",
   "metadata": {},
   "source": [
    "## Setup & imports"
   ]
  },
  {
   "cell_type": "code",
   "execution_count": 43,
   "id": "6945427d",
   "metadata": {},
   "outputs": [],
   "source": [
    "#First we have to Import necessary libraries for data manipulation and visualization.\n",
    "\n",
    "# Data Manipulation and Utilities\n",
    "import pandas as pd     # For data manipulation and analysis.\n",
    "import numpy as np      # For numerical operations.\n",
    "import re               # For regular expressions.\n",
    "import warnings         # For managing warnings.\n",
    "\n",
    "# Data Visualization\n",
    "import matplotlib.pyplot as plt     # For basic data visualization.\n",
    "import seaborn as sns               # For statistical data visualization.\n",
    "\n",
    "from prettytable import PrettyTable # For creating formatted tables in the console."
   ]
  },
  {
   "cell_type": "code",
   "execution_count": 44,
   "id": "1c55fd85",
   "metadata": {},
   "outputs": [],
   "source": [
    "# Reusable function definitions\n",
    "\n",
    "# Function to Print Shape of DataFrame\n",
    "def get_data_shape(data: pd.DataFrame) -> None:\n",
    "    if data.empty:\n",
    "        print(\"DataFrame is empty.\")\n",
    "    else:\n",
    "        # Print the shape of the DataFrame\n",
    "        print(\"DataFrame Dimensions\")\n",
    "        print(\"------------------------\")\n",
    "        print(f\"Rows   : {data.shape[0]}\")\n",
    "        print(f\"Columns: {data.shape[1]}\\n\")\n",
    "\n",
    "# A function to format value counts into a table. For more elegant and readable notebook.\n",
    "def value_counts_pretty(series, column_name=\"Value\", n=None, head=True):\n",
    "    value_counts = series.value_counts(dropna=False)\n",
    "    percentages = series.value_counts(dropna=False, normalize=True) * 100\n",
    "    \n",
    "    # Apply head/tail filtering if n is specified\n",
    "    if n is not None:\n",
    "        if head:\n",
    "            value_counts = value_counts.head(n)\n",
    "            percentages = percentages.head(n)\n",
    "        else:\n",
    "            value_counts = value_counts.tail(n)\n",
    "            percentages = percentages.tail(n)\n",
    "    \n",
    "    table = PrettyTable()        \n",
    "    table.field_names = [column_name, \"Count\", \"Percentage\"]\n",
    "    \n",
    "    # Set alignment\n",
    "    table.align[column_name] = \"c\"\n",
    "    table.align[\"Count\"] = \"r\"\n",
    "    table.align[\"Percentage\"] = \"r\"\n",
    "    \n",
    "    # Add rows\n",
    "    for rank, (value, count) in enumerate(value_counts.items(), 1):\n",
    "        display_value = \"NaN/Missing\" if pd.isna(value) else str(value)\n",
    "        pct = percentages[value]\n",
    "        \n",
    "        table.add_row([display_value, count, f\"{pct:.2f}%\"])\n",
    "    \n",
    "    return table"
   ]
  },
  {
   "cell_type": "code",
   "execution_count": 45,
   "id": "161ce5ea",
   "metadata": {},
   "outputs": [],
   "source": [
    "# Next we load the dataset.\n",
    "raw_df = pd.read_csv(\"./Data/raw/car_price_prediction.csv\")\n"
   ]
  },
  {
   "cell_type": "code",
   "execution_count": 46,
   "id": "05f36489",
   "metadata": {},
   "outputs": [
    {
     "data": {
      "text/html": [
       "<div>\n",
       "<style scoped>\n",
       "    .dataframe tbody tr th:only-of-type {\n",
       "        vertical-align: middle;\n",
       "    }\n",
       "\n",
       "    .dataframe tbody tr th {\n",
       "        vertical-align: top;\n",
       "    }\n",
       "\n",
       "    .dataframe thead th {\n",
       "        text-align: right;\n",
       "    }\n",
       "</style>\n",
       "<table border=\"1\" class=\"dataframe\">\n",
       "  <thead>\n",
       "    <tr style=\"text-align: right;\">\n",
       "      <th></th>\n",
       "      <th>ID</th>\n",
       "      <th>Price</th>\n",
       "      <th>Levy</th>\n",
       "      <th>Manufacturer</th>\n",
       "      <th>Model</th>\n",
       "      <th>Prod. year</th>\n",
       "      <th>Category</th>\n",
       "      <th>Leather interior</th>\n",
       "      <th>Fuel type</th>\n",
       "      <th>Engine volume</th>\n",
       "      <th>Mileage</th>\n",
       "      <th>Cylinders</th>\n",
       "      <th>Gear box type</th>\n",
       "      <th>Drive wheels</th>\n",
       "      <th>Doors</th>\n",
       "      <th>Wheel</th>\n",
       "      <th>Color</th>\n",
       "      <th>Airbags</th>\n",
       "    </tr>\n",
       "  </thead>\n",
       "  <tbody>\n",
       "    <tr>\n",
       "      <th>0</th>\n",
       "      <td>45654403</td>\n",
       "      <td>13328</td>\n",
       "      <td>1399</td>\n",
       "      <td>LEXUS</td>\n",
       "      <td>RX 450</td>\n",
       "      <td>2010</td>\n",
       "      <td>Jeep</td>\n",
       "      <td>Yes</td>\n",
       "      <td>Hybrid</td>\n",
       "      <td>3.5</td>\n",
       "      <td>186005 km</td>\n",
       "      <td>6.0</td>\n",
       "      <td>Automatic</td>\n",
       "      <td>4x4</td>\n",
       "      <td>04-May</td>\n",
       "      <td>Left wheel</td>\n",
       "      <td>Silver</td>\n",
       "      <td>12</td>\n",
       "    </tr>\n",
       "    <tr>\n",
       "      <th>1</th>\n",
       "      <td>44731507</td>\n",
       "      <td>16621</td>\n",
       "      <td>1018</td>\n",
       "      <td>CHEVROLET</td>\n",
       "      <td>Equinox</td>\n",
       "      <td>2011</td>\n",
       "      <td>Jeep</td>\n",
       "      <td>No</td>\n",
       "      <td>Petrol</td>\n",
       "      <td>3</td>\n",
       "      <td>192000 km</td>\n",
       "      <td>6.0</td>\n",
       "      <td>Tiptronic</td>\n",
       "      <td>4x4</td>\n",
       "      <td>04-May</td>\n",
       "      <td>Left wheel</td>\n",
       "      <td>Black</td>\n",
       "      <td>8</td>\n",
       "    </tr>\n",
       "    <tr>\n",
       "      <th>2</th>\n",
       "      <td>45774419</td>\n",
       "      <td>8467</td>\n",
       "      <td>-</td>\n",
       "      <td>HONDA</td>\n",
       "      <td>FIT</td>\n",
       "      <td>2006</td>\n",
       "      <td>Hatchback</td>\n",
       "      <td>No</td>\n",
       "      <td>Petrol</td>\n",
       "      <td>1.3</td>\n",
       "      <td>200000 km</td>\n",
       "      <td>4.0</td>\n",
       "      <td>Variator</td>\n",
       "      <td>Front</td>\n",
       "      <td>04-May</td>\n",
       "      <td>Right-hand drive</td>\n",
       "      <td>Black</td>\n",
       "      <td>2</td>\n",
       "    </tr>\n",
       "    <tr>\n",
       "      <th>3</th>\n",
       "      <td>45769185</td>\n",
       "      <td>3607</td>\n",
       "      <td>862</td>\n",
       "      <td>FORD</td>\n",
       "      <td>Escape</td>\n",
       "      <td>2011</td>\n",
       "      <td>Jeep</td>\n",
       "      <td>Yes</td>\n",
       "      <td>Hybrid</td>\n",
       "      <td>2.5</td>\n",
       "      <td>168966 km</td>\n",
       "      <td>4.0</td>\n",
       "      <td>Automatic</td>\n",
       "      <td>4x4</td>\n",
       "      <td>04-May</td>\n",
       "      <td>Left wheel</td>\n",
       "      <td>White</td>\n",
       "      <td>0</td>\n",
       "    </tr>\n",
       "    <tr>\n",
       "      <th>4</th>\n",
       "      <td>45809263</td>\n",
       "      <td>11726</td>\n",
       "      <td>446</td>\n",
       "      <td>HONDA</td>\n",
       "      <td>FIT</td>\n",
       "      <td>2014</td>\n",
       "      <td>Hatchback</td>\n",
       "      <td>Yes</td>\n",
       "      <td>Petrol</td>\n",
       "      <td>1.3</td>\n",
       "      <td>91901 km</td>\n",
       "      <td>4.0</td>\n",
       "      <td>Automatic</td>\n",
       "      <td>Front</td>\n",
       "      <td>04-May</td>\n",
       "      <td>Left wheel</td>\n",
       "      <td>Silver</td>\n",
       "      <td>4</td>\n",
       "    </tr>\n",
       "  </tbody>\n",
       "</table>\n",
       "</div>"
      ],
      "text/plain": [
       "         ID  Price  Levy Manufacturer    Model  Prod. year   Category  \\\n",
       "0  45654403  13328  1399        LEXUS   RX 450        2010       Jeep   \n",
       "1  44731507  16621  1018    CHEVROLET  Equinox        2011       Jeep   \n",
       "2  45774419   8467     -        HONDA      FIT        2006  Hatchback   \n",
       "3  45769185   3607   862         FORD   Escape        2011       Jeep   \n",
       "4  45809263  11726   446        HONDA      FIT        2014  Hatchback   \n",
       "\n",
       "  Leather interior Fuel type Engine volume    Mileage  Cylinders  \\\n",
       "0              Yes    Hybrid           3.5  186005 km        6.0   \n",
       "1               No    Petrol             3  192000 km        6.0   \n",
       "2               No    Petrol           1.3  200000 km        4.0   \n",
       "3              Yes    Hybrid           2.5  168966 km        4.0   \n",
       "4              Yes    Petrol           1.3   91901 km        4.0   \n",
       "\n",
       "  Gear box type Drive wheels   Doors             Wheel   Color  Airbags  \n",
       "0     Automatic          4x4  04-May        Left wheel  Silver       12  \n",
       "1     Tiptronic          4x4  04-May        Left wheel   Black        8  \n",
       "2      Variator        Front  04-May  Right-hand drive   Black        2  \n",
       "3     Automatic          4x4  04-May        Left wheel   White        0  \n",
       "4     Automatic        Front  04-May        Left wheel  Silver        4  "
      ]
     },
     "execution_count": 46,
     "metadata": {},
     "output_type": "execute_result"
    }
   ],
   "source": [
    "# Prints the first 5 rows of the DataFrame (Provides a quick look at the dataset's content).\n",
    "raw_df.head()\n"
   ]
  },
  {
   "cell_type": "markdown",
   "id": "75728b03",
   "metadata": {},
   "source": [
    "💡 **Observations:**  \n",
    "- All the column names appear to be readable and meaningful but has spaces between words need Standardising.\n",
    "- At first glance, the `Doors` column shows inconsistencies such as entries like \"04-May,\" indicating data quality issues. \n",
    "- The `Levy` column also contains missing values marked by dashes (-). \n",
    "- The `Mileage` column includes values with units like \"km,\" which will need to be cleaned.\n",
    "- Overall, the dataset features a mix of numerical and categorical variables that will require cleaning before analysis.\n",
    "\n"
   ]
  },
  {
   "cell_type": "code",
   "execution_count": 47,
   "id": "2c0c22c7",
   "metadata": {},
   "outputs": [
    {
     "name": "stdout",
     "output_type": "stream",
     "text": [
      "\n",
      "Column names:\n",
      "['id', 'price', 'levy', 'manufacturer', 'model', 'prod_year', 'category', 'leather_interior', 'fuel_type', 'engine_volume', 'mileage', 'cylinders', 'gear_box_type', 'drive_wheels', 'doors', 'wheel', 'color', 'airbags']\n"
     ]
    }
   ],
   "source": [
    "# Clean column names\n",
    "# Remove leading/trailing spaces, convert to lowercase, replace spaces and question marks\n",
    "# 🍀 Return a new dataframe\n",
    "df = raw_df.copy()      \n",
    "df.columns = [col.strip().lower().replace(\" \", \"_\").replace(\"/\", \"_\").replace(\".\", \"\").replace(\"-\", \"_\").replace(\"?\", \"\").rstrip(\"_\") for col in raw_df.columns]\n",
    "print(\"\\nColumn names:\")\n",
    "print(df.columns.tolist())"
   ]
  },
  {
   "cell_type": "code",
   "execution_count": null,
   "id": "51088fc7",
   "metadata": {},
   "outputs": [
    {
     "name": "stdout",
     "output_type": "stream",
     "text": [
      "DataFrame Dimensions\n",
      "------------------------\n",
      "Rows   : 19237\n",
      "Columns: 18\n",
      "\n"
     ]
    }
   ],
   "source": [
    "# Find the dimensions of the dataset\n",
    "get_data_shape(df)"
   ]
  },
  {
   "cell_type": "markdown",
   "id": "1971ca92",
   "metadata": {},
   "source": [
    "📝 The dataset contains 19,237 rows and 18 columns."
   ]
  },
  {
   "cell_type": "code",
   "execution_count": 49,
   "id": "994d8145",
   "metadata": {},
   "outputs": [
    {
     "name": "stdout",
     "output_type": "stream",
     "text": [
      "+------------------+----------------+---------+\n",
      "|      Column      | Non-Null Count |  Dtype  |\n",
      "+------------------+----------------+---------+\n",
      "|        id        |     19237      |  int64  |\n",
      "|      price       |     19237      |  int64  |\n",
      "|       levy       |     19237      |  object |\n",
      "|   manufacturer   |     19237      |  object |\n",
      "|      model       |     19237      |  object |\n",
      "|    prod_year     |     19237      |  int64  |\n",
      "|     category     |     19237      |  object |\n",
      "| leather_interior |     19237      |  object |\n",
      "|    fuel_type     |     19237      |  object |\n",
      "|  engine_volume   |     19237      |  object |\n",
      "|     mileage      |     19237      |  object |\n",
      "|    cylinders     |     19237      | float64 |\n",
      "|  gear_box_type   |     19237      |  object |\n",
      "|   drive_wheels   |     19237      |  object |\n",
      "|      doors       |     19237      |  object |\n",
      "|      wheel       |     19237      |  object |\n",
      "|      color       |     19237      |  object |\n",
      "|     airbags      |     19237      |  int64  |\n",
      "+------------------+----------------+---------+\n"
     ]
    }
   ],
   "source": [
    "# Prints the name of each column in the dataset, the number of non-null values it contains, and its data type.\n",
    "def df_info(df):\n",
    "    table = PrettyTable()\n",
    "    table.field_names = [\"Column\", \"Non-Null Count\", \"Dtype\"]\n",
    "\n",
    "    for col in df.columns:\n",
    "        non_null_count = df[col].count()\n",
    "        dtype = df[col].dtype\n",
    "        table.add_row([col, non_null_count, dtype])\n",
    "\n",
    "    print(table)\n",
    "\n",
    "df_info(df)"
   ]
  },
  {
   "cell_type": "markdown",
   "id": "6cf52634",
   "metadata": {},
   "source": [
    "💡 **Observations:**  \n",
    "- All columns have 19,237 non-null values indicating no missing values. However, earlier checks revealed some missing or placeholder values that require further investigation and cleaning.\n",
    "- Several columns expected to be numeric (like Levy, Mileage, and Engine volume) are currently of type object, which means they may contain non-numeric characters or inconsistent formatting."
   ]
  },
  {
   "cell_type": "code",
   "execution_count": 50,
   "id": "f6ca0cde",
   "metadata": {},
   "outputs": [
    {
     "data": {
      "text/html": [
       "<div>\n",
       "<style scoped>\n",
       "    .dataframe tbody tr th:only-of-type {\n",
       "        vertical-align: middle;\n",
       "    }\n",
       "\n",
       "    .dataframe tbody tr th {\n",
       "        vertical-align: top;\n",
       "    }\n",
       "\n",
       "    .dataframe thead th {\n",
       "        text-align: right;\n",
       "    }\n",
       "</style>\n",
       "<table border=\"1\" class=\"dataframe\">\n",
       "  <thead>\n",
       "    <tr style=\"text-align: right;\">\n",
       "      <th></th>\n",
       "      <th>id</th>\n",
       "      <th>price</th>\n",
       "      <th>prod_year</th>\n",
       "      <th>cylinders</th>\n",
       "      <th>airbags</th>\n",
       "    </tr>\n",
       "  </thead>\n",
       "  <tbody>\n",
       "    <tr>\n",
       "      <th>count</th>\n",
       "      <td>1.923700e+04</td>\n",
       "      <td>1.923700e+04</td>\n",
       "      <td>19237.000000</td>\n",
       "      <td>19237.000000</td>\n",
       "      <td>19237.000000</td>\n",
       "    </tr>\n",
       "    <tr>\n",
       "      <th>mean</th>\n",
       "      <td>4.557654e+07</td>\n",
       "      <td>1.855593e+04</td>\n",
       "      <td>2010.912824</td>\n",
       "      <td>4.582991</td>\n",
       "      <td>6.582627</td>\n",
       "    </tr>\n",
       "    <tr>\n",
       "      <th>std</th>\n",
       "      <td>9.365914e+05</td>\n",
       "      <td>1.905813e+05</td>\n",
       "      <td>5.668673</td>\n",
       "      <td>1.199933</td>\n",
       "      <td>4.320168</td>\n",
       "    </tr>\n",
       "    <tr>\n",
       "      <th>min</th>\n",
       "      <td>2.074688e+07</td>\n",
       "      <td>1.000000e+00</td>\n",
       "      <td>1939.000000</td>\n",
       "      <td>1.000000</td>\n",
       "      <td>0.000000</td>\n",
       "    </tr>\n",
       "    <tr>\n",
       "      <th>25%</th>\n",
       "      <td>4.569837e+07</td>\n",
       "      <td>5.331000e+03</td>\n",
       "      <td>2009.000000</td>\n",
       "      <td>4.000000</td>\n",
       "      <td>4.000000</td>\n",
       "    </tr>\n",
       "    <tr>\n",
       "      <th>50%</th>\n",
       "      <td>4.577231e+07</td>\n",
       "      <td>1.317200e+04</td>\n",
       "      <td>2012.000000</td>\n",
       "      <td>4.000000</td>\n",
       "      <td>6.000000</td>\n",
       "    </tr>\n",
       "    <tr>\n",
       "      <th>75%</th>\n",
       "      <td>4.580204e+07</td>\n",
       "      <td>2.207500e+04</td>\n",
       "      <td>2015.000000</td>\n",
       "      <td>4.000000</td>\n",
       "      <td>12.000000</td>\n",
       "    </tr>\n",
       "    <tr>\n",
       "      <th>max</th>\n",
       "      <td>4.581665e+07</td>\n",
       "      <td>2.630750e+07</td>\n",
       "      <td>2020.000000</td>\n",
       "      <td>16.000000</td>\n",
       "      <td>16.000000</td>\n",
       "    </tr>\n",
       "  </tbody>\n",
       "</table>\n",
       "</div>"
      ],
      "text/plain": [
       "                 id         price     prod_year     cylinders       airbags\n",
       "count  1.923700e+04  1.923700e+04  19237.000000  19237.000000  19237.000000\n",
       "mean   4.557654e+07  1.855593e+04   2010.912824      4.582991      6.582627\n",
       "std    9.365914e+05  1.905813e+05      5.668673      1.199933      4.320168\n",
       "min    2.074688e+07  1.000000e+00   1939.000000      1.000000      0.000000\n",
       "25%    4.569837e+07  5.331000e+03   2009.000000      4.000000      4.000000\n",
       "50%    4.577231e+07  1.317200e+04   2012.000000      4.000000      6.000000\n",
       "75%    4.580204e+07  2.207500e+04   2015.000000      4.000000     12.000000\n",
       "max    4.581665e+07  2.630750e+07   2020.000000     16.000000     16.000000"
      ]
     },
     "execution_count": 50,
     "metadata": {},
     "output_type": "execute_result"
    }
   ],
   "source": [
    "# Prints basic statistics (mean, standard deviation, min, max, etc.)\n",
    "df.describe(include=[np.number])      # For  numeric data types\n"
   ]
  },
  {
   "cell_type": "markdown",
   "id": "4cb2e845",
   "metadata": {},
   "source": [
    "💡 **Observations:**  \n",
    "- `price` has a minimum value of $1 and a maximum that’s over 50 times the mean. Suggests outliers.\n",
    "- `prod_year` ranges from 1939 to 2020 — likely contains outliers or vintage cars.\n",
    "- `cylinders` has a Max value of 16, which could be rare or performance vehicles.  \n",
    "- Some vehicles seems to have 0 `airbags`, which might indicate: Older models, Missing or misreported values.\n",
    "- `id` is a unique identifier for each row and does not carry predictive value.\n"
   ]
  },
  {
   "cell_type": "code",
   "execution_count": 53,
   "id": "4e0427f4",
   "metadata": {},
   "outputs": [
    {
     "name": "stdout",
     "output_type": "stream",
     "text": [
      "🎯 Matches found: 23 (0.1196%)\n"
     ]
    }
   ],
   "source": [
    "# Let's see how many rows with these extreme values\n",
    "# Production year:\n",
    "production_year_40 = df[df['prod_year'] < 1980].shape        # More than 40 yo cars\n",
    "\n",
    "count_40 = production_year_40[0]\n",
    "percentage_40 = (count_40 / df.shape[0]) * 100\n",
    "\n",
    "print(f\"🎯 Matches found: {count_40} ({percentage_40:.4f}%)\")"
   ]
  },
  {
   "cell_type": "markdown",
   "id": "c5f44c6a",
   "metadata": {},
   "source": [
    "> 💡 Only 23 rows (~0.11%) have a production year before 1980.  \n",
    "> *🧠 These likely represent vintage or incorrectly entered data and can be safely removed to prevent skewing the analysis.*"
   ]
  },
  {
   "cell_type": "code",
   "execution_count": 57,
   "id": "cbd115bf",
   "metadata": {},
   "outputs": [
    {
     "name": "stdout",
     "output_type": "stream",
     "text": [
      "🎯 Matches found: 6 (0.0312%)\n"
     ]
    }
   ],
   "source": [
    "# Cylinders:\n",
    "cylinderes_16 = df[df['cylinders'] > 12].shape\n",
    "\n",
    "count_16 = cylinderes_16[0]\n",
    "percentage_16 = (count_16 / df.shape[0]) * 100\n",
    "\n",
    "print(f\"🎯 Matches found: {count_16} ({percentage_16:.4f}%)\")\n"
   ]
  },
  {
   "cell_type": "markdown",
   "id": "7114000b",
   "metadata": {},
   "source": [
    ">💡 Only 6 rows match -> these likely represent performance vehicles.  \n",
    ">*🧠 Since the model focuses on the general car market, they should be removed to avoid skewing the analysis.*"
   ]
  },
  {
   "cell_type": "code",
   "execution_count": 59,
   "id": "c7978134",
   "metadata": {},
   "outputs": [
    {
     "name": "stdout",
     "output_type": "stream",
     "text": [
      "🎯 Matches found: 2405 (12.5019%)\n"
     ]
    }
   ],
   "source": [
    "\n",
    "# Airbags:\n",
    "airbags_0 = df[df['airbags'] == 0].shape\n",
    "\n",
    "count_0 = airbags_0[0]\n",
    "percentage_0 = (count_0 / df.shape[0]) * 100\n",
    "\n",
    "print(f\"🎯 Matches found: {count_0} ({percentage_0:.4f}%)\")"
   ]
  },
  {
   "cell_type": "markdown",
   "id": "0c136575",
   "metadata": {},
   "source": [
    "> 💡 2,405  rows (~12.50%) have 0 airbags.  \n",
    "> *🧠 This is a sizable portion of the data. Further inspection is needed before deciding how to handle them.*"
   ]
  },
  {
   "cell_type": "code",
   "execution_count": null,
   "id": "e222ad19",
   "metadata": {},
   "outputs": [],
   "source": []
  }
 ],
 "metadata": {
  "kernelspec": {
   "display_name": "Python 3 (ipykernel)",
   "language": "python",
   "name": "python3"
  },
  "language_info": {
   "codemirror_mode": {
    "name": "ipython",
    "version": 3
   },
   "file_extension": ".py",
   "mimetype": "text/x-python",
   "name": "python",
   "nbconvert_exporter": "python",
   "pygments_lexer": "ipython3",
   "version": "3.10.18"
  }
 },
 "nbformat": 4,
 "nbformat_minor": 5
}
