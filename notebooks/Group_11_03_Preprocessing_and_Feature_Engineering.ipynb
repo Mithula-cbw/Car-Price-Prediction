{
 "cells": [
  {
   "cell_type": "markdown",
   "id": "1b7c4c97",
   "metadata": {},
   "source": [
    "# 04 – Preprocessing & Feature Engineering\n",
    "### Car Price Prediction Using Machine Learning\n",
    "Group Assignment 02 - CCS3012 - Data Analytics  \n",
    "Submission Date: 16th September 2025"
   ]
  },
  {
   "cell_type": "markdown",
   "id": "1572e8bf",
   "metadata": {},
   "source": [
    "---\n",
    "\n",
    "### **Group 11**\n",
    "-  **FC211034 - N.D. Samararathne Kodikara**\n",
    "-  **FC211013 - N.W.V. Tharindu Pabasara**\n",
    "-  **FC211025 - W.M.M.C.B. Wijesundara**\n",
    "\n",
    "\n",
    "\n",
    "---\n"
   ]
  },
  {
   "cell_type": "markdown",
   "id": "6240d500",
   "metadata": {},
   "source": [
    "### **Supervisor**\n",
    "**Ms. Dilmi Praveena**  \n",
    "*Faculty of Computing*  \n",
    "*University of Sri Jayewardenepura*\n",
    "\n",
    "---\n"
   ]
  },
  {
   "cell_type": "markdown",
   "id": "6afb63b4",
   "metadata": {},
   "source": [
    "## 📌 Objectives\n",
    "\n",
    "This notebook builds upon the cleaned dataset produced in **Notebook 01 — Data Exploration & Cleaning**.\n",
    "The focus here is to prepare the dataset for modeling by performing outlier handling, feature engineering, and deterministic cleaning.\n",
    "\n",
    "---\n",
    "\n",
    "- **Outlier detection & handling**: Identify extreme or unrealistic values in numeric features (`price`, `mileage`, `levy`, `engine_volume`).\n",
    "\n",
    "- **Feature engineering & derived columns**: Create new features that better capture the characteristics of the cars with the use of insights gained from **Notebook 02 — Descriptive Analytics and EDA**\n",
    "\n",
    "- **Categorical mapping & rare category handling**: Group rare categories as \"other\" to reduce noise and high cardinality.\n",
    "\n",
    "- **Prepare train/test datasets for modeling**: Split into training and testing sets. Save processed datasets and mappings for **Notebook 04 — Modeling & Evaluation**.\n",
    "\n",
    "\n",
    "---"
   ]
  },
  {
   "cell_type": "markdown",
   "id": "9c68cc32",
   "metadata": {},
   "source": [
    "### 📂 Input  \n",
    "- `clean_data.csv` saved in `Data/processed/`  \n",
    "\n",
    "### 📦 Output  \n",
    "\n",
    "- `X_train.pkl, X_test.pkl` saved in `Data/processed/`\n",
    "\n",
    "- `y_train_log.pkl, y_test_log.pkl` log-transformed target for scale-sensitive models (Linear, KNN, SVR)\n",
    "\n",
    "- `y_train_cap.pkl, y_test_cap.pkl` capped target for tree-based models (RandomForest, Gradient Boosting)\n",
    "\n",
    "\n",
    "---"
   ]
  },
  {
   "cell_type": "markdown",
   "id": "190c2883",
   "metadata": {},
   "source": [
    "### 📊 Dataset Overview\n",
    "**Dataset:** Car price dataset cleaned.  \n",
    "**columns include**:   \n",
    "- `id`, `price` (target variable),  `levy`,  `manufacturer`,  `model`,  `prod_year`,  `category`,  `leather_interior`,  `fuel_type`, `engine_volume`,  `mileage`,  `cylinders`,  `gear_box_type`,  `drive_wheels`,  `doors`,  `wheel`, `color`,  `airbags`,  `turbo` (derived in Notebook 01)\n",
    "\n",
    "\n",
    "> **Dataset stats:** 19,237 rows × 19 features | Target variable: `price` | Problem type: Regression\n"
   ]
  },
  {
   "cell_type": "markdown",
   "id": "ba304048",
   "metadata": {},
   "source": [
    "# Setup & imports"
   ]
  },
  {
   "cell_type": "code",
   "execution_count": 1,
   "id": "d7fc5844",
   "metadata": {},
   "outputs": [],
   "source": [
    "# Data manipulation\n",
    "import pandas as pd\n",
    "import numpy as np\n",
    "\n",
    "# Visualization\n",
    "import matplotlib.pyplot as plt\n",
    "import seaborn as sns\n",
    "\n",
    "\n",
    "# Statistical functions\n",
    "from scipy import stats\n",
    "import joblib\n",
    "import pickle\n",
    "\n",
    "from sklearn.model_selection import train_test_split\n",
    "\n",
    "from prettytable import PrettyTable "
   ]
  },
  {
   "cell_type": "code",
   "execution_count": 2,
   "id": "b8211801",
   "metadata": {},
   "outputs": [],
   "source": [
    "df = pd.read_csv(\"./Data/processed/clean_data.csv\")\n"
   ]
  },
  {
   "cell_type": "code",
   "execution_count": 3,
   "id": "e6ca0c37",
   "metadata": {},
   "outputs": [
    {
     "data": {
      "text/html": [
       "<div>\n",
       "<style scoped>\n",
       "    .dataframe tbody tr th:only-of-type {\n",
       "        vertical-align: middle;\n",
       "    }\n",
       "\n",
       "    .dataframe tbody tr th {\n",
       "        vertical-align: top;\n",
       "    }\n",
       "\n",
       "    .dataframe thead th {\n",
       "        text-align: right;\n",
       "    }\n",
       "</style>\n",
       "<table border=\"1\" class=\"dataframe\">\n",
       "  <thead>\n",
       "    <tr style=\"text-align: right;\">\n",
       "      <th></th>\n",
       "      <th>id</th>\n",
       "      <th>price</th>\n",
       "      <th>levy</th>\n",
       "      <th>manufacturer</th>\n",
       "      <th>model</th>\n",
       "      <th>prod_year</th>\n",
       "      <th>category</th>\n",
       "      <th>leather_interior</th>\n",
       "      <th>fuel_type</th>\n",
       "      <th>engine_volume</th>\n",
       "      <th>mileage</th>\n",
       "      <th>cylinders</th>\n",
       "      <th>gear_box_type</th>\n",
       "      <th>drive_wheels</th>\n",
       "      <th>doors</th>\n",
       "      <th>wheel</th>\n",
       "      <th>color</th>\n",
       "      <th>airbags</th>\n",
       "      <th>turbo</th>\n",
       "    </tr>\n",
       "  </thead>\n",
       "  <tbody>\n",
       "    <tr>\n",
       "      <th>0</th>\n",
       "      <td>45654403</td>\n",
       "      <td>13328</td>\n",
       "      <td>1399.0</td>\n",
       "      <td>lexus</td>\n",
       "      <td>rx-450</td>\n",
       "      <td>2010</td>\n",
       "      <td>jeep</td>\n",
       "      <td>yes</td>\n",
       "      <td>hybrid</td>\n",
       "      <td>3.5</td>\n",
       "      <td>186005</td>\n",
       "      <td>6</td>\n",
       "      <td>automatic</td>\n",
       "      <td>4x4</td>\n",
       "      <td>04-may</td>\n",
       "      <td>left-wheel</td>\n",
       "      <td>silver</td>\n",
       "      <td>12</td>\n",
       "      <td>False</td>\n",
       "    </tr>\n",
       "    <tr>\n",
       "      <th>1</th>\n",
       "      <td>44731507</td>\n",
       "      <td>16621</td>\n",
       "      <td>1018.0</td>\n",
       "      <td>chevrolet</td>\n",
       "      <td>equinox</td>\n",
       "      <td>2011</td>\n",
       "      <td>jeep</td>\n",
       "      <td>no</td>\n",
       "      <td>petrol</td>\n",
       "      <td>3.0</td>\n",
       "      <td>192000</td>\n",
       "      <td>6</td>\n",
       "      <td>tiptronic</td>\n",
       "      <td>4x4</td>\n",
       "      <td>04-may</td>\n",
       "      <td>left-wheel</td>\n",
       "      <td>black</td>\n",
       "      <td>8</td>\n",
       "      <td>False</td>\n",
       "    </tr>\n",
       "    <tr>\n",
       "      <th>2</th>\n",
       "      <td>45774419</td>\n",
       "      <td>8467</td>\n",
       "      <td>0.0</td>\n",
       "      <td>honda</td>\n",
       "      <td>fit</td>\n",
       "      <td>2006</td>\n",
       "      <td>hatchback</td>\n",
       "      <td>no</td>\n",
       "      <td>petrol</td>\n",
       "      <td>1.3</td>\n",
       "      <td>200000</td>\n",
       "      <td>4</td>\n",
       "      <td>variator</td>\n",
       "      <td>front</td>\n",
       "      <td>04-may</td>\n",
       "      <td>right-hand-drive</td>\n",
       "      <td>black</td>\n",
       "      <td>2</td>\n",
       "      <td>False</td>\n",
       "    </tr>\n",
       "    <tr>\n",
       "      <th>3</th>\n",
       "      <td>45769185</td>\n",
       "      <td>3607</td>\n",
       "      <td>862.0</td>\n",
       "      <td>ford</td>\n",
       "      <td>escape</td>\n",
       "      <td>2011</td>\n",
       "      <td>jeep</td>\n",
       "      <td>yes</td>\n",
       "      <td>hybrid</td>\n",
       "      <td>2.5</td>\n",
       "      <td>168966</td>\n",
       "      <td>4</td>\n",
       "      <td>automatic</td>\n",
       "      <td>4x4</td>\n",
       "      <td>04-may</td>\n",
       "      <td>left-wheel</td>\n",
       "      <td>white</td>\n",
       "      <td>0</td>\n",
       "      <td>False</td>\n",
       "    </tr>\n",
       "    <tr>\n",
       "      <th>4</th>\n",
       "      <td>45809263</td>\n",
       "      <td>11726</td>\n",
       "      <td>446.0</td>\n",
       "      <td>honda</td>\n",
       "      <td>fit</td>\n",
       "      <td>2014</td>\n",
       "      <td>hatchback</td>\n",
       "      <td>yes</td>\n",
       "      <td>petrol</td>\n",
       "      <td>1.3</td>\n",
       "      <td>91901</td>\n",
       "      <td>4</td>\n",
       "      <td>automatic</td>\n",
       "      <td>front</td>\n",
       "      <td>04-may</td>\n",
       "      <td>left-wheel</td>\n",
       "      <td>silver</td>\n",
       "      <td>4</td>\n",
       "      <td>False</td>\n",
       "    </tr>\n",
       "  </tbody>\n",
       "</table>\n",
       "</div>"
      ],
      "text/plain": [
       "         id  price    levy manufacturer    model  prod_year   category  \\\n",
       "0  45654403  13328  1399.0        lexus   rx-450       2010       jeep   \n",
       "1  44731507  16621  1018.0    chevrolet  equinox       2011       jeep   \n",
       "2  45774419   8467     0.0        honda      fit       2006  hatchback   \n",
       "3  45769185   3607   862.0         ford   escape       2011       jeep   \n",
       "4  45809263  11726   446.0        honda      fit       2014  hatchback   \n",
       "\n",
       "  leather_interior fuel_type  engine_volume  mileage  cylinders gear_box_type  \\\n",
       "0              yes    hybrid            3.5   186005          6     automatic   \n",
       "1               no    petrol            3.0   192000          6     tiptronic   \n",
       "2               no    petrol            1.3   200000          4      variator   \n",
       "3              yes    hybrid            2.5   168966          4     automatic   \n",
       "4              yes    petrol            1.3    91901          4     automatic   \n",
       "\n",
       "  drive_wheels   doors             wheel   color  airbags  turbo  \n",
       "0          4x4  04-may        left-wheel  silver       12  False  \n",
       "1          4x4  04-may        left-wheel   black        8  False  \n",
       "2        front  04-may  right-hand-drive   black        2  False  \n",
       "3          4x4  04-may        left-wheel   white        0  False  \n",
       "4        front  04-may        left-wheel  silver        4  False  "
      ]
     },
     "execution_count": 3,
     "metadata": {},
     "output_type": "execute_result"
    }
   ],
   "source": [
    "# Function to normalize text\n",
    "def normalize_text(s):\n",
    "    if pd.isna(s):\n",
    "        return s\n",
    "    s = str(s).strip().lower()        # lowercase and strip spaces\n",
    "    s = s.replace(' ', '-')           # replace spaces with '-'\n",
    "    return s\n",
    "\n",
    "# Apply to all object columns\n",
    "for col in df.select_dtypes(include='object').columns:\n",
    "    df[col] = df[col].apply(normalize_text)\n",
    "\n",
    "# Quick check\n",
    "df.head()"
   ]
  },
  {
   "cell_type": "code",
   "execution_count": 4,
   "id": "4710c809",
   "metadata": {},
   "outputs": [
    {
     "name": "stdout",
     "output_type": "stream",
     "text": [
      "+------------------+----------------+---------+\n",
      "|      Column      | Non-Null Count |  Dtype  |\n",
      "+------------------+----------------+---------+\n",
      "|        id        |     15697      |  int64  |\n",
      "|      price       |     15697      |  int64  |\n",
      "|       levy       |     15697      | float64 |\n",
      "|   manufacturer   |     15697      |  object |\n",
      "|      model       |     15697      |  object |\n",
      "|    prod_year     |     15697      |  int64  |\n",
      "|     category     |     15697      |  object |\n",
      "| leather_interior |     15697      |  object |\n",
      "|    fuel_type     |     15697      |  object |\n",
      "|  engine_volume   |     15697      | float64 |\n",
      "|     mileage      |     15697      |  int64  |\n",
      "|    cylinders     |     15697      |  int64  |\n",
      "|  gear_box_type   |     15697      |  object |\n",
      "|   drive_wheels   |     15697      |  object |\n",
      "|      doors       |     15697      |  object |\n",
      "|      wheel       |     15697      |  object |\n",
      "|      color       |     15697      |  object |\n",
      "|     airbags      |     15697      |  int64  |\n",
      "|      turbo       |     15697      |   bool  |\n",
      "+------------------+----------------+---------+\n"
     ]
    }
   ],
   "source": [
    "# Prints the name of each column in the dataset, the number of non-null values it contains, and its data type.\n",
    "def df_info(df):\n",
    "    table = PrettyTable()\n",
    "    table.field_names = [\"Column\", \"Non-Null Count\", \"Dtype\"]\n",
    "\n",
    "    for col in df.columns:\n",
    "        non_null_count = df[col].count()\n",
    "        dtype = df[col].dtype\n",
    "        table.add_row([col, non_null_count, dtype])\n",
    "\n",
    "    print(table)\n",
    "\n",
    "df_info(df)"
   ]
  },
  {
   "cell_type": "markdown",
   "id": "4de221f4",
   "metadata": {},
   "source": [
    "💡 **Observations:**  \n",
    "- The data set appears unchanged and matches the previously saved version."
   ]
  },
  {
   "cell_type": "markdown",
   "id": "a58029d9",
   "metadata": {},
   "source": [
    "Le't start..."
   ]
  },
  {
   "cell_type": "markdown",
   "id": "8057624c",
   "metadata": {},
   "source": [
    "# **Deterministic cleaning & derive columns**"
   ]
  },
  {
   "cell_type": "markdown",
   "id": "48b0ae6a",
   "metadata": {},
   "source": [
    "## `doors` column"
   ]
  },
  {
   "cell_type": "markdown",
   "id": "a8f0347e",
   "metadata": {},
   "source": [
    "> 🧩 Standardize to two representations:\n",
    "> - `doors_count` numeric: 2, 4, 6 (use 6 as proxy for >5)\n",
    "> - `doors_cat` original categorical for interactions"
   ]
  },
  {
   "cell_type": "code",
   "execution_count": 5,
   "id": "e63fdc6f",
   "metadata": {},
   "outputs": [
    {
     "name": "stdout",
     "output_type": "stream",
     "text": [
      "✅ created doors_count column.\n"
     ]
    },
    {
     "data": {
      "text/plain": [
       "doors_count\n",
       "4    14835\n",
       "2      738\n",
       "6      124\n",
       "Name: count, dtype: int64"
      ]
     },
     "execution_count": 5,
     "metadata": {},
     "output_type": "execute_result"
    }
   ],
   "source": [
    "def doors_to_count(s):\n",
    "    if pd.isna(s): return np.nan\n",
    "    s = str(s).lower()\n",
    "    if '02' in s or '02-mar' in s: return 2\n",
    "    if '04' in s or '04-may' in s: return 4\n",
    "    if '>' in s or '>5' in s: return 6\n",
    "    # fallback: try to extract first number\n",
    "    import re\n",
    "    m = re.search(r'\\d+', s)  # fallback: extract first number in the string\n",
    "    return int(m.group()) if m else np.nan\n",
    "\n",
    "df['doors_count'] = df['doors'].apply(doors_to_count)\n",
    "print(f\"✅ created doors_count column.\")\n",
    "df['doors_count'].value_counts()\n"
   ]
  },
  {
   "cell_type": "code",
   "execution_count": 6,
   "id": "3904f6b7",
   "metadata": {},
   "outputs": [
    {
     "name": "stdout",
     "output_type": "stream",
     "text": [
      "✅ created doors_cat column.\n"
     ]
    },
    {
     "data": {
      "text/plain": [
       "doors_cat\n",
       "4-5    14835\n",
       "2-3      738\n",
       ">5       124\n",
       "Name: count, dtype: int64"
      ]
     },
     "execution_count": 6,
     "metadata": {},
     "output_type": "execute_result"
    }
   ],
   "source": [
    "# Mapping dictionary\n",
    "doors_map = {\n",
    "    '02-mar': '2-3',\n",
    "    '04-may': '4-5',\n",
    "    '>5': '>5'\n",
    "}\n",
    "\n",
    "# Apply mapping\n",
    "df['doors_cat'] = df['doors'].map(doors_map).fillna(df['doors'])\n",
    "print(f\"✅ created doors_cat column.\")\n",
    "df['doors_cat'].value_counts()"
   ]
  },
  {
   "cell_type": "markdown",
   "id": "986b65c2",
   "metadata": {},
   "source": [
    "## `Cylinders` column"
   ]
  },
  {
   "cell_type": "markdown",
   "id": "069c5b62",
   "metadata": {},
   "source": [
    "> 🧩 grouping into buckets  \n",
    "> 🧩 Ordinal encoding. start with `1`\n"
   ]
  },
  {
   "cell_type": "code",
   "execution_count": 7,
   "id": "aa107f46",
   "metadata": {},
   "outputs": [
    {
     "name": "stdout",
     "output_type": "stream",
     "text": [
      "✅ created cylinder_group column.\n"
     ]
    },
    {
     "data": {
      "text/plain": [
       "cylinder_group\n",
       "3-4    12372\n",
       "5-8     3196\n",
       "1-2       78\n",
       ">8        51\n",
       "Name: count, dtype: int64"
      ]
     },
     "execution_count": 7,
     "metadata": {},
     "output_type": "execute_result"
    }
   ],
   "source": [
    "def cylinder_group(x):\n",
    "    if pd.isna(x): return np.nan\n",
    "    if x <= 2: return '1-2'\n",
    "    if 3 <= x <= 4: return '3-4'\n",
    "    if 5 <= x <= 8: return '5-8'\n",
    "    return '>8'\n",
    "\n",
    "df['cylinder_group'] = df['cylinders'].apply(cylinder_group)\n",
    "print(f\"✅ created cylinder_group column.\")\n",
    "df['cylinder_group'].value_counts()\n"
   ]
  },
  {
   "cell_type": "code",
   "execution_count": 8,
   "id": "c1e61d00",
   "metadata": {},
   "outputs": [
    {
     "name": "stdout",
     "output_type": "stream",
     "text": [
      "✅ created cylinder_group_ord column.\n",
      "\n",
      "  cylinder_group  cylinder_group_ord\n",
      "0            5-8                   3\n",
      "1            5-8                   3\n",
      "2            3-4                   2\n",
      "3            3-4                   2\n",
      "4            3-4                   2\n"
     ]
    }
   ],
   "source": [
    "# Define the order\n",
    "cylinder_order = ['1-2', '3-4', '5-8', '>8']\n",
    "\n",
    "# Map to ordinal numbers\n",
    "df['cylinder_group_ord'] = df['cylinder_group'].map({k: i+1 for i, k in enumerate(cylinder_order)})\n",
    "\n",
    "print(f\"✅ created cylinder_group_ord column.\\n\")\n",
    "print(df[['cylinder_group', 'cylinder_group_ord']].head())\n"
   ]
  },
  {
   "cell_type": "markdown",
   "id": "7b56ae71",
   "metadata": {},
   "source": [
    "## `Airbags` column"
   ]
  },
  {
   "cell_type": "markdown",
   "id": "b50b9ee0",
   "metadata": {},
   "source": [
    "> 🧩 Grouping ['0','1-2','3-4','5-8','>8']  \n",
    "> 🧩 Ordinal Encoding. start with `0`"
   ]
  },
  {
   "cell_type": "code",
   "execution_count": 9,
   "id": "88f3b9e0",
   "metadata": {},
   "outputs": [
    {
     "name": "stdout",
     "output_type": "stream",
     "text": [
      "✅ created airbags_group column.\n"
     ]
    },
    {
     "data": {
      "text/plain": [
       "airbags_group\n",
       "3-4    5141\n",
       ">8     5019\n",
       "5-8    3040\n",
       "0      1378\n",
       "1-2    1119\n",
       "Name: count, dtype: int64"
      ]
     },
     "execution_count": 9,
     "metadata": {},
     "output_type": "execute_result"
    }
   ],
   "source": [
    "# Function to group airbags\n",
    "def airbags_group(n):\n",
    "    if pd.isna(n):  # handle missing values\n",
    "        return np.nan\n",
    "    if n == 0:\n",
    "        return '0'\n",
    "    if 1 <= n <= 2:\n",
    "        return '1-2'\n",
    "    if 3 <= n <= 4:\n",
    "        return '3-4'\n",
    "    if 5 <= n <= 8:\n",
    "        return '5-8'\n",
    "    return '>8'\n",
    "\n",
    "# Apply to datset\n",
    "df['airbags_group'] = df['airbags'].apply(airbags_group)\n",
    "print(f\"✅ created airbags_group column.\")\n",
    "df['airbags_group'].value_counts()\n"
   ]
  },
  {
   "cell_type": "code",
   "execution_count": 10,
   "id": "b49f1a0f",
   "metadata": {},
   "outputs": [
    {
     "name": "stdout",
     "output_type": "stream",
     "text": [
      "✅ created airbags_group_ord column.\n",
      "\n",
      "  airbags_group  airbags_group_ord\n",
      "0            >8                  4\n",
      "1           5-8                  3\n",
      "2           1-2                  1\n",
      "3             0                  0\n",
      "4           3-4                  2\n"
     ]
    }
   ],
   "source": [
    "airbags_order = ['0', '1-2', '3-4', '5-8', '>8']  # define order\n",
    "\n",
    "# ordinal encoding\n",
    "df['airbags_group_ord'] = df['airbags_group'].map({k: i for i, k in enumerate(airbags_order)})\n",
    "\n",
    "print(f\"✅ created airbags_group_ord column.\\n\")\n",
    "print(df[['airbags_group', 'airbags_group_ord']].head())\n"
   ]
  },
  {
   "cell_type": "markdown",
   "id": "64ef1daa",
   "metadata": {},
   "source": [
    "## `Car Age` column"
   ]
  },
  {
   "cell_type": "markdown",
   "id": "ec6263de",
   "metadata": {},
   "source": [
    "> 🧩 current_year - prod_year"
   ]
  },
  {
   "cell_type": "code",
   "execution_count": 11,
   "id": "306e997d",
   "metadata": {},
   "outputs": [
    {
     "name": "stdout",
     "output_type": "stream",
     "text": [
      "✅ created car_age column.\n",
      "count    15697.000000\n",
      "mean        14.410015\n",
      "std          5.697194\n",
      "min          5.000000\n",
      "25%         11.000000\n",
      "50%         13.000000\n",
      "75%         17.000000\n",
      "max         45.000000\n",
      "Name: car_age, dtype: float64\n"
     ]
    }
   ],
   "source": [
    "import datetime\n",
    "\n",
    "current_year = datetime.datetime.now().year  # get current year\n",
    "\n",
    "df['car_age'] = current_year - df['prod_year']\n",
    "\n",
    "print(f\"✅ created car_age column.\")\n",
    "# check for negative or weird values\n",
    "print(df['car_age'].describe())\n"
   ]
  },
  {
   "cell_type": "markdown",
   "id": "5138e4b4",
   "metadata": {},
   "source": [
    "## `leather_interior` column"
   ]
  },
  {
   "cell_type": "markdown",
   "id": "46888102",
   "metadata": {},
   "source": [
    "> 🧩 create `has_leather` binary : Directly captures the positive price effect of leather."
   ]
  },
  {
   "cell_type": "code",
   "execution_count": 12,
   "id": "63977b1d",
   "metadata": {},
   "outputs": [
    {
     "name": "stdout",
     "output_type": "stream",
     "text": [
      "✅ created has_leather column.\n",
      "\n",
      "leather_interior  has_leather\n",
      "yes               1              10547\n",
      "no                0               5150\n",
      "Name: count, dtype: int64\n"
     ]
    }
   ],
   "source": [
    "# Function map has_leather\n",
    "def has_leather(x):\n",
    "    if pd.isna(x):\n",
    "        return 0 \n",
    "    if str(x).strip().lower() in ['yes']:\n",
    "        return 1\n",
    "    return 0\n",
    "\n",
    "# Apply to df\n",
    "df['has_leather'] = df['leather_interior'].apply(has_leather)\n",
    "\n",
    "print(f\"✅ created has_leather column.\\n\")\n",
    "\n",
    "# Quick check\n",
    "print(df[['leather_interior', 'has_leather']].value_counts())\n"
   ]
  },
  {
   "cell_type": "markdown",
   "id": "29c6bfa5",
   "metadata": {},
   "source": [
    "## `color` column"
   ]
  },
  {
   "cell_type": "markdown",
   "id": "4d4309b2",
   "metadata": {},
   "source": [
    "> 🧩 create feature `is_common_color` : [black/white/silver/grey/blue/red]  \n"
   ]
  },
  {
   "cell_type": "code",
   "execution_count": 13,
   "id": "343ffbb9",
   "metadata": {},
   "outputs": [
    {
     "name": "stdout",
     "output_type": "stream",
     "text": [
      "✅ created is_common_color column.\n",
      "\n",
      "color          is_common_color\n",
      "black          1                  3832\n",
      "white          1                  3605\n",
      "silver         1                  3146\n",
      "grey           1                  1918\n",
      "blue           1                  1245\n",
      "red            1                   564\n",
      "green          0                   286\n",
      "orange         0                   204\n",
      "carnelian-red  0                   177\n",
      "brown          0                   171\n",
      "golden         0                   142\n",
      "beige          0                   132\n",
      "sky-blue       0                   119\n",
      "yellow         0                    92\n",
      "purple         0                    39\n",
      "pink           0                    25\n",
      "Name: count, dtype: int64\n"
     ]
    }
   ],
   "source": [
    "# Define common colors\n",
    "common_colors = ['black', 'white', 'silver', 'grey', 'blue', 'red']\n",
    "\n",
    "# Function to check if color is common\n",
    "def is_common_color_func(color):\n",
    "    if pd.isna(color):\n",
    "        return 0\n",
    "    return 1 if str(color).strip().lower() in common_colors else 0\n",
    "\n",
    "# Apply to df\n",
    "df['is_common_color'] = df['color'].apply(is_common_color_func)\n",
    "\n",
    "\n",
    "print(f\"✅ created is_common_color column.\\n\")\n",
    "\n",
    "# Quick check\n",
    "print(df[['color', 'is_common_color']].value_counts())\n"
   ]
  },
  {
   "cell_type": "markdown",
   "id": "d399f4a9",
   "metadata": {},
   "source": [
    "## `category` column"
   ]
  },
  {
   "cell_type": "markdown",
   "id": "5991bff9",
   "metadata": {},
   "source": [
    "> 🧩 Domain Mapping: map `categories` into `luxury`, `utility`, `family`.  \n",
    "> 🧩 Create `category_simple` column."
   ]
  },
  {
   "cell_type": "code",
   "execution_count": 14,
   "id": "1f091fa7",
   "metadata": {},
   "outputs": [
    {
     "name": "stdout",
     "output_type": "stream",
     "text": [
      "✅ created domain column.\n",
      "\n",
      "domain\n",
      "family     10687\n",
      "utility     4496\n",
      "luxury       514\n",
      "Name: count, dtype: int64\n"
     ]
    }
   ],
   "source": [
    "# Normalize category strings: lowercase, replace spaces with dash, strip\n",
    "df['category'] = df['category'].str.lower().str.strip().str.replace(' ', '-')\n",
    "\n",
    "\n",
    "# define mappings\n",
    "domain_map = {\n",
    "    'sedan': 'family',\n",
    "    'hatchback': 'family',\n",
    "    'universal': 'family',\n",
    "    'jeep': 'utility', \n",
    "    'pickup': 'utility',\n",
    "    'goods-wagon': 'utility',\n",
    "    'limousine': 'luxury',\n",
    "    'cabriolet': 'luxury',\n",
    "    'coupe': 'luxury',\n",
    "    'minivan': 'family',\n",
    "    'microbus': 'family'\n",
    "}\n",
    "\n",
    "\n",
    "# Apply mapping\n",
    "df['domain'] = df['category'].str.strip().str.lower().map(domain_map)\n",
    "\n",
    "\n",
    "print(f\"✅ created domain column.\\n\")\n",
    "\n",
    "# Quick check\n",
    "print(df['domain'].value_counts())\n",
    "\n"
   ]
  },
  {
   "cell_type": "code",
   "execution_count": 15,
   "id": "82a8954b",
   "metadata": {},
   "outputs": [
    {
     "name": "stdout",
     "output_type": "stream",
     "text": [
      "✅ created category_simple column.\n",
      "\n",
      "category_simple\n",
      "car    10372\n",
      "suv     4496\n",
      "van      829\n",
      "Name: count, dtype: int64\n"
     ]
    }
   ],
   "source": [
    "category_map = {\n",
    "    # SUVs / off-road\n",
    "    'jeep': 'suv',\n",
    "    'suv': 'suv',\n",
    "    'pickup': 'suv',\n",
    "    'goods-wagon': 'suv',\n",
    "    \n",
    "    # cars\n",
    "    'limousine': 'car',\n",
    "    'cabriolet': 'car',\n",
    "    'coupe': 'car',\n",
    "    'sedan': 'car',\n",
    "    'hatchback': 'car',\n",
    "    'universal': 'car',\n",
    "    \n",
    "    # Family / vans\n",
    "    'minivan': 'van',\n",
    "    'microbus': 'van'\n",
    "}\n",
    "\n",
    "df['category_simple'] = df['category'].str.strip().str.lower().map(category_map)\n",
    "\n",
    "print(f\"✅ created category_simple column.\\n\")\n",
    "\n",
    "# Quick check\n",
    "print(df['category_simple'].value_counts())\n"
   ]
  },
  {
   "cell_type": "markdown",
   "id": "b9e9dd90",
   "metadata": {},
   "source": [
    "## `engine_volume` × `Turbo` columns"
   ]
  },
  {
   "cell_type": "markdown",
   "id": "bf535204",
   "metadata": {},
   "source": [
    "> 🧩 create `engine_turbo`column : `engine_volume` * `turbo_flag`"
   ]
  },
  {
   "cell_type": "code",
   "execution_count": 16,
   "id": "d810c316",
   "metadata": {},
   "outputs": [],
   "source": [
    "# Make sure these columns exist and are numeric\n",
    "df['engine_volume'] = pd.to_numeric(df['engine_volume'], errors='coerce')\n"
   ]
  },
  {
   "cell_type": "code",
   "execution_count": 17,
   "id": "e7f3cbaf",
   "metadata": {},
   "outputs": [
    {
     "name": "stdout",
     "output_type": "stream",
     "text": [
      "✅ created engine_turbo column.\n",
      "\n",
      "       engine_volume  turbo  engine_turbo\n",
      "15692            1.8  False           0.0\n",
      "15693            2.0   True           2.0\n",
      "15694            2.4  False           0.0\n",
      "15695            2.0  False           0.0\n",
      "15696            2.4  False           0.0\n"
     ]
    }
   ],
   "source": [
    "# Create the interaction feature\n",
    "df['engine_turbo'] = df['engine_volume'] * df['turbo']\n",
    "\n",
    "print(f\"✅ created engine_turbo column.\\n\")\n",
    "\n",
    "print(df[['engine_volume', 'turbo', 'engine_turbo']].tail())"
   ]
  },
  {
   "cell_type": "markdown",
   "id": "32452ecc",
   "metadata": {},
   "source": [
    "## `doors_count` and `domain` columns"
   ]
  },
  {
   "cell_type": "markdown",
   "id": "d182f22a",
   "metadata": {},
   "source": [
    "> 🧩 interactions between categorical variables `doors_count` and `domain`."
   ]
  },
  {
   "cell_type": "code",
   "execution_count": 18,
   "id": "cbcd13e4",
   "metadata": {},
   "outputs": [
    {
     "name": "stdout",
     "output_type": "stream",
     "text": [
      "✅ created doors_domain column.\n",
      "\n",
      "doors_count  domain   doors_domain\n",
      "4            family   4_family        10371\n",
      "             utility  4_utility        4316\n",
      "2            luxury   2_luxury          365\n",
      "Name: count, dtype: int64\n"
     ]
    }
   ],
   "source": [
    "# create doors_domain feature\n",
    "df['doors_domain'] = df['doors_count'].astype(str) + '_' + df['domain'].astype(str)\n",
    "\n",
    "print(f\"✅ created doors_domain column.\\n\")\n",
    "\n",
    "# Quick check\n",
    "print(df[['doors_count', 'domain', 'doors_domain']].value_counts().head(3))\n"
   ]
  },
  {
   "cell_type": "code",
   "execution_count": 19,
   "id": "f351358e",
   "metadata": {},
   "outputs": [
    {
     "data": {
      "image/png": "[encoded data removed]",
      "text/plain": [
       "<Figure size 1200x600 with 1 Axes>"
      ]
     },
     "metadata": {},
     "output_type": "display_data"
    }
   ],
   "source": [
    "# plot (vs price)\n",
    "price_cap = df['price'].quantile(0.95)\n",
    "df['price_capped'] = df['price'].clip(upper=price_cap)\n",
    "\n",
    "# Box plot with capped price\n",
    "plt.figure(figsize=(12,6))\n",
    "sns.boxplot(x='doors_domain', y='price_capped', data=df, order=df['doors_domain'].value_counts().index)\n",
    "plt.title('Price distribution by doors_domain (capped at 95th percentile)')\n",
    "plt.xlabel('doors_domain')\n",
    "plt.ylabel('Price (capped)')\n",
    "plt.xticks(rotation=45)\n",
    "plt.show()"
   ]
  },
  {
   "cell_type": "markdown",
   "id": "d63feeed",
   "metadata": {},
   "source": [
    "# **Outlier Detection & Handling**"
   ]
  },
  {
   "cell_type": "code",
   "execution_count": 20,
   "id": "39236260",
   "metadata": {},
   "outputs": [
    {
     "name": "stdout",
     "output_type": "stream",
     "text": [
      "              price  price_capped     price_log\n",
      "count  1.569700e+04  15697.000000  15697.000000\n",
      "mean   2.028445e+04  18184.009110      9.238175\n",
      "std    2.108237e+05  16422.361246      1.419014\n",
      "min    1.000000e+00     40.000000      3.713572\n",
      "25%    7.527000e+03   7527.000000      8.926385\n",
      "50%    1.426900e+04  14269.000000      9.565915\n",
      "75%    2.338900e+04  23389.000000     10.060064\n",
      "max    2.630750e+07  89379.000000     11.400652\n"
     ]
    },
    {
     "data": {
      "text/plain": [
       "<Figure size 1200x500 with 0 Axes>"
      ]
     },
     "metadata": {},
     "output_type": "display_data"
    },
    {
     "data": {
      "image/png": "[encoded data removed]",
      "text/plain": [
       "<Figure size 1500x500 with 4 Axes>"
      ]
     },
     "metadata": {},
     "output_type": "display_data"
    }
   ],
   "source": [
    "# Define numeric + target\n",
    "numeric_cols = ['mileage', 'engine_volume', 'levy']\n",
    "target_col = 'price'\n",
    "\n",
    "# Outlier capping (1st and 99th percentiles)\n",
    "for col in numeric_cols + [target_col]:\n",
    "    lower = df[col].quantile(0.01)\n",
    "    upper = df[col].quantile(0.99)\n",
    "    df[col + '_capped'] = df[col].clip(lower, upper)\n",
    "\n",
    "# Log-transform numeric columns (optional, useful for regression models)\n",
    "for col in numeric_cols + [target_col]:\n",
    "    df[col + '_log'] = np.log1p(df[col + '_capped'])\n",
    "\n",
    "# Quick check\n",
    "print(df[[target_col, target_col + '_capped', target_col + '_log']].describe())\n",
    "\n",
    "# visualize price distributions\n",
    "plt.figure(figsize=(12,5))\n",
    "df[[target_col, target_col + '_capped', target_col + '_log']].hist(bins=50, figsize=(15,5))\n",
    "plt.suptitle(\"Distribution of Price (Raw, Capped, Log)\")\n",
    "plt.show()\n"
   ]
  },
  {
   "cell_type": "markdown",
   "id": "0668be17",
   "metadata": {},
   "source": [
    "> 🧩 Define a threshold (e.g., median > 60k) to automatically detect luxury brands.  \n",
    "> 🧩 Drop rows belonging to those manufacturers."
   ]
  },
  {
   "cell_type": "code",
   "execution_count": 21,
   "id": "0502770f",
   "metadata": {},
   "outputs": [
    {
     "name": "stdout",
     "output_type": "stream",
     "text": [
      "🔹 Luxury brands detected: ['bentley', 'lamborghini', 'ferrari']\n"
     ]
    }
   ],
   "source": [
    "# Median price per manufacturer\n",
    "brand_stats = df.groupby('manufacturer')['price_capped'].median().sort_values(ascending=False)\n",
    "\n",
    "#  Detect luxury brands (median > 60k)\n",
    "luxury_brands = brand_stats[brand_stats > 60000].index.tolist()\n",
    "print(\"🔹 Luxury brands detected:\", luxury_brands)"
   ]
  },
  {
   "cell_type": "code",
   "execution_count": 22,
   "id": "a561a48d",
   "metadata": {},
   "outputs": [
    {
     "name": "stdout",
     "output_type": "stream",
     "text": [
      "⛔ Removed 3 luxury brands (5 rows). New shape: (15692, 40)\n"
     ]
    }
   ],
   "source": [
    "# Remove luxury brands from dataset\n",
    "before_shape = df.shape[0]\n",
    "\n",
    "df = df[~df['manufacturer'].isin(luxury_brands)].copy()\n",
    "\n",
    "after_shape = df.shape[0]\n",
    "removed_rows = before_shape - after_shape\n",
    "\n",
    "print(f\"⛔ Removed {len(luxury_brands)} luxury brands ({removed_rows} rows). New shape: {df.shape}\")\n"
   ]
  },
  {
   "cell_type": "markdown",
   "id": "8c149056",
   "metadata": {},
   "source": [
    "# **Train/Test Split**"
   ]
  },
  {
   "cell_type": "markdown",
   "id": "b12fccac",
   "metadata": {},
   "source": [
    "## Choose Target and Features"
   ]
  },
  {
   "cell_type": "markdown",
   "id": "668ebacb",
   "metadata": {},
   "source": [
    "\n",
    "\n",
    "> 🧩 **Target** for linear/SVR/KNN: price_log → reduces skew.  \n",
    "> 🧩 **Target** for tree-based models: price_capped → handles outliers naturally.\n",
    ">\n",
    "> 🧩 **Features**: all relevant columns except: \n",
    "> - Raw targets: `price`, `price_capped`, `price_log`.\n",
    "> - `id`\n"
   ]
  },
  {
   "cell_type": "markdown",
   "id": "ae909f8f",
   "metadata": {},
   "source": [
    "⛔  **Drop Raw / replaced features that we have already derived cleaned versions from.**"
   ]
  },
  {
   "cell_type": "code",
   "execution_count": 23,
   "id": "d0417501",
   "metadata": {},
   "outputs": [
    {
     "name": "stdout",
     "output_type": "stream",
     "text": [
      "['id', 'price', 'levy', 'manufacturer', 'model', 'prod_year', 'category', 'leather_interior', 'fuel_type', 'engine_volume', 'mileage', 'cylinders', 'gear_box_type', 'drive_wheels', 'doors', 'wheel', 'color', 'airbags', 'turbo', 'doors_count', 'doors_cat', 'cylinder_group', 'cylinder_group_ord', 'airbags_group', 'airbags_group_ord', 'car_age', 'has_leather', 'is_common_color', 'domain', 'category_simple', 'engine_turbo', 'doors_domain', 'price_capped', 'mileage_capped', 'engine_volume_capped', 'levy_capped', 'mileage_log', 'engine_volume_log', 'levy_log', 'price_log']\n"
     ]
    }
   ],
   "source": [
    "print(df.columns.to_list())"
   ]
  },
  {
   "cell_type": "code",
   "execution_count": 24,
   "id": "e592869d",
   "metadata": {},
   "outputs": [
    {
     "name": "stdout",
     "output_type": "stream",
     "text": [
      "⛔ Dropped 8 features.\n"
     ]
    }
   ],
   "source": [
    "drop_cols = [\n",
    "    'category', 'leather_interior', 'doors',\n",
    "    'airbags', 'engine_volume', 'mileage', 'levy', 'prod_year'\n",
    "]\n",
    "\n",
    "df = df.drop(columns=drop_cols)\n",
    "\n",
    "print(f\"⛔ Dropped {len(drop_cols)} features.\")\n"
   ]
  },
  {
   "cell_type": "code",
   "execution_count": 25,
   "id": "9335f9f4",
   "metadata": {},
   "outputs": [
    {
     "data": {
      "text/plain": [
       "['Data/processed/X.pkl']"
      ]
     },
     "execution_count": 25,
     "metadata": {},
     "output_type": "execute_result"
    }
   ],
   "source": [
    "X = df.drop(columns=['id', 'price', 'price_capped', 'price_log'])\n",
    "y_log = df['price_log']   # for linear/SVR/KNN\n",
    "y_cap = df['price_capped'] # for tree-based\n",
    "\n",
    "\n",
    "joblib.dump(X, 'Data/processed/X.pkl')"
   ]
  },
  {
   "cell_type": "markdown",
   "id": "8cd3cc22",
   "metadata": {},
   "source": [
    "## Split the Dataset"
   ]
  },
  {
   "cell_type": "markdown",
   "id": "3078d445",
   "metadata": {},
   "source": [
    "> 🧩 Keep one consistent split for all models.  \n",
    "> 🧩 Use category_simple for stratified splitting: small number of imbalanced classes."
   ]
  },
  {
   "cell_type": "code",
   "execution_count": 26,
   "id": "e17bc096",
   "metadata": {},
   "outputs": [],
   "source": [
    "X_train, X_test, y_train_log, y_test_log = train_test_split(\n",
    "    X, y_log, test_size=0.2, random_state=42, stratify=df['category_simple']\n",
    ")\n",
    "\n",
    "# Tree-based target for same indices\n",
    "y_train_cap = y_cap.loc[y_train_log.index]\n",
    "y_test_cap = y_cap.loc[y_test_log.index]\n"
   ]
  },
  {
   "cell_type": "markdown",
   "id": "458e9343",
   "metadata": {},
   "source": [
    "# **Train-set-Only Feature Engineering**"
   ]
  },
  {
   "cell_type": "markdown",
   "id": "9d2c8718",
   "metadata": {},
   "source": [
    "## Manufacturer Grouping"
   ]
  },
  {
   "cell_type": "markdown",
   "id": "12a5460e",
   "metadata": {},
   "source": [
    "> 🧩 Replace rare manufacturers with \"other_manufacturer\""
   ]
  },
  {
   "cell_type": "code",
   "execution_count": 27,
   "id": "c322c772",
   "metadata": {},
   "outputs": [
    {
     "name": "stdout",
     "output_type": "stream",
     "text": [
      "✅ Created 'manufacturer_grouped' column in train and test sets.\n"
     ]
    }
   ],
   "source": [
    "# keep top manufacturers by count (say top 10)\n",
    "top_manufacturers = X_train['manufacturer'].value_counts().nlargest(10).index\n",
    "\n",
    "X_train['manufacturer_grouped'] = X_train['manufacturer'].apply(\n",
    "    lambda x: x if x in top_manufacturers else 'other'\n",
    ")\n",
    "X_test['manufacturer_grouped'] = X_test['manufacturer'].apply(\n",
    "    lambda x: x if x in top_manufacturers else 'other'\n",
    ")\n",
    "\n",
    "print(\"✅ Created 'manufacturer_grouped' column in train and test sets.\")\n",
    "\n"
   ]
  },
  {
   "cell_type": "code",
   "execution_count": 28,
   "id": "601e395c",
   "metadata": {},
   "outputs": [
    {
     "name": "stdout",
     "output_type": "stream",
     "text": [
      "🔹 Grouped manufacturers of train set:\n",
      "['other' 'toyota' 'chevrolet' 'ssangyong' 'hyundai' 'mercedes-benz' 'bmw'\n",
      " 'nissan' 'honda' 'ford' 'volkswagen']\n",
      "\n",
      "🔹 Grouped manufacturers of test set:\n",
      "['hyundai' 'ford' 'mercedes-benz' 'nissan' 'other' 'chevrolet' 'ssangyong'\n",
      " 'volkswagen' 'toyota' 'bmw' 'honda']\n"
     ]
    }
   ],
   "source": [
    "print(\"🔹 Grouped manufacturers of train set:\")\n",
    "print(X_train['manufacturer_grouped'].unique())\n",
    "print(\"\\n🔹 Grouped manufacturers of test set:\")\n",
    "print(X_test['manufacturer_grouped'].unique())\n"
   ]
  },
  {
   "cell_type": "markdown",
   "id": "c975165f",
   "metadata": {},
   "source": [
    "💡 **Observations:**  \n",
    "- Both train and test sets has the same grouped manufacturers."
   ]
  },
  {
   "cell_type": "code",
   "execution_count": 29,
   "id": "f19022fe",
   "metadata": {},
   "outputs": [
    {
     "name": "stdout",
     "output_type": "stream",
     "text": [
      "⛔ Dropped 'manufacturer' column.\n"
     ]
    }
   ],
   "source": [
    "# Drop original manufacturer column\n",
    "X_train = X_train.drop(columns=['manufacturer'])\n",
    "X_test = X_test.drop(columns=['manufacturer'])\n",
    "\n",
    "print(\"⛔ Dropped 'manufacturer' column.\")\n"
   ]
  },
  {
   "cell_type": "markdown",
   "id": "e6d50dbe",
   "metadata": {},
   "source": [
    "## Model Handling"
   ]
  },
  {
   "cell_type": "markdown",
   "id": "a4bdb258",
   "metadata": {},
   "source": [
    "> 🧩 Encode as `model_median_price`: Compute median price per model. (using train only)  \n",
    "> 🧩 Flag `is_top_luxury_model` (top 5% of medians)"
   ]
  },
  {
   "cell_type": "markdown",
   "id": "b8e2c1f9",
   "metadata": {},
   "source": [
    "### Compute median prices"
   ]
  },
  {
   "cell_type": "code",
   "execution_count": 30,
   "id": "ccb5dccc",
   "metadata": {},
   "outputs": [],
   "source": [
    "# Use capped price for median computation\n",
    "train_temp = X_train.copy()\n",
    "train_temp['price_capped'] = y_train_cap  # ensure alignment\n",
    "\n",
    "# Median price per model\n",
    "model_medians = train_temp.groupby('model')['price_capped'].median().to_dict()\n",
    "\n",
    "# Global median fallback (for unseen models in test)\n",
    "global_median = y_train_cap.median()\n"
   ]
  },
  {
   "cell_type": "markdown",
   "id": "a1478197",
   "metadata": {},
   "source": [
    "### Flag top 5% luxury models"
   ]
  },
  {
   "cell_type": "code",
   "execution_count": 31,
   "id": "50f5e014",
   "metadata": {},
   "outputs": [],
   "source": [
    "# Threshold for top 5% expensive models\n",
    "luxury_threshold = np.percentile(list(model_medians.values()), 95)\n",
    "luxury_models = {m for m, v in model_medians.items() if v >= luxury_threshold}\n"
   ]
  },
  {
   "cell_type": "markdown",
   "id": "c3278fa5",
   "metadata": {},
   "source": [
    "### Map features"
   ]
  },
  {
   "cell_type": "code",
   "execution_count": 32,
   "id": "e96ddb91",
   "metadata": {},
   "outputs": [
    {
     "name": "stdout",
     "output_type": "stream",
     "text": [
      "✅ Created model_median_price and is_top_luxury_model columns.\n"
     ]
    }
   ],
   "source": [
    "# Apply to train\n",
    "X_train['model_median_price'] = X_train['model'].map(model_medians).fillna(global_median)\n",
    "X_train['is_top_luxury_model'] = X_train['model'].isin(luxury_models).astype(int)\n",
    "\n",
    "# Apply to test\n",
    "X_test['model_median_price'] = X_test['model'].map(model_medians).fillna(global_median)\n",
    "X_test['is_top_luxury_model'] = X_test['model'].isin(luxury_models).astype(int)\n",
    "\n",
    "print(\"✅ Created model_median_price and is_top_luxury_model columns.\")\n"
   ]
  },
  {
   "cell_type": "markdown",
   "id": "853924b4",
   "metadata": {},
   "source": [
    "### inspect created features"
   ]
  },
  {
   "cell_type": "markdown",
   "id": "79d99e8f",
   "metadata": {},
   "source": [
    "#### Check for unseen models in test"
   ]
  },
  {
   "cell_type": "code",
   "execution_count": 33,
   "id": "12ef14bc",
   "metadata": {},
   "outputs": [
    {
     "name": "stdout",
     "output_type": "stream",
     "text": [
      "🔹 Number of unseen models in test: 167\n",
      "🔹 Unseen models in test: {'prius-v-alpina', 'golf-1.8', 'space-runner', 'tt', 'wrangler-sport', '2111', 'gla-200', 's6', 'viano-ambiente', 'b-180', 'primera', 'v-230', 'dart-limited', 'cc-2.0-t', 'rc-f-f-sport', 'rav-4-xle', 'combo-1700', 'versa-s', 'clk-320-amg', 'camaro-rs', 'prius-blug-in', 'skyline-4wd', 'cruze-l-t', 'prius-tss-limited', 'clk-55-amg', 'prius-3', 'c-240-w203', 'pathfinder-se', 'smart-fortwo', 'mazda-3-sport', 'almera-dci', '130', 'elantra-2016', 'fj-cruiser', 'passat-pasat', 'march-231212', '21-3.0', '325-xi', 'clk-280', 'passat-b5', 'crafter-2.5-tdi', 'elantra-2014', 's3', 'allante', 'mustang-cabrio', 'transit-350t', 'will-vs', 'g6', 'fit-aria', 'ecosport-se', 'sprinter-max', 'g-65-amg-63amg', 'e-280-3.0', '316-i', 'veracruz', 'camry-xv50', 'focus-fokusi', 'astra-td', 'pajero-montero', 'prius-plugin', 'rav-4-dizel', 'x-trail-nissan-x-trail-r', 'regal', 'prius-2014', 's-430-4.3', 'e-200-w210', 'aqua-g-soft-leather-sele', 'ml-350-sport', 'corvette', 'rav-4-xle-sport', 'clk-320-avangarde', 'countryman-s-turbo', 'defender-90-cabrio', 'crosstour', 'veloster-r-spec', 'edix', 'x1-x-drive', 'quattroporte', 'm37', 'sonata-blue-edition', 'x3-3.5i', 'cr-v-lx', 'cx-5-touring', 'sprinter-vip-class', 'x6-limited', 'sportage-sx', 'c1', 'kizashi-sporti', '420', 'rvr', 'mariner-hybrid', 'octavia-scout', 'ds-4', 'prius-9', 'tucson-turbo', 'mariner', '525-525', 'e-500-amg', 'fit-premiym', 'c-220-cdi', 'astra-suzuki-mr-wagon', '1111', 'c5', 'passat-2.0-tfsi', 'a4-s-line', '550-m-packet', '525-tdi', 'ml-350-3.7', 'range-rover-evoque-რესტა', 'discovery-lr3', 'vitz-i.ll', 'clk-430', 'impreza-sport', 'chr-limited', 'x6-40d', 'a4-sline', 'c-250-1,8-turbo', 'b-170-b-class', 'glc-300-glc-coupe', 'h1-grand-starex', 'gl-450-3.0', 'sorento-sx', 'sonata-2.0t', '320-2.2', 'crossroad', '500l-long', '128', 'scorpio', 's-550-long', 'doblo', 'musa', 'civic-ferio', 'civic-ex', '428-i', 'vectra-1.6', 'a4-b5', 'vectra-ბ', 'camry-xlei', 'prius-1.8', 'slk-32-amg', 'c-180-komp', 'prius-c-80-original', '535-m', 'voxy-2003', '322173', 'ml-320-cdi', '508', 'aqua-l-paketi', 'es-300-hybrid', '635', 'e-220-elegance', 's-350-longia', 'x5-3.0i', 'g-350', 'pacifica', 'allroad-allroad', '3008-2.0', 'm5-japan', 'ml-350-4matic', 'taurus-interceptor', 'cr-z-ჰიბრიდი', 'passat-rlaini', 'forester-l.l.bean', 'rasheen', 'outback-2007', 'fit-premiumi', 'astra-a.h'}\n"
     ]
    }
   ],
   "source": [
    "test_unseen_models = set(X_test['model']) - set(X_train['model'])\n",
    "\n",
    "print(\"🔹 Number of unseen models in test:\", len(test_unseen_models))\n",
    "print(\"🔹 Unseen models in test:\", test_unseen_models)\n"
   ]
  },
  {
   "cell_type": "markdown",
   "id": "0506fb5c",
   "metadata": {},
   "source": [
    "💡 **Observations:**  \n",
    "- Unseen models exist: This is exactly what we wanted to avoids data leakage and keeps predictions consistent. "
   ]
  },
  {
   "cell_type": "markdown",
   "id": "94add6cc",
   "metadata": {},
   "source": [
    "#### Spot check a known luxury model"
   ]
  },
  {
   "cell_type": "code",
   "execution_count": 34,
   "id": "0a8d7db6",
   "metadata": {},
   "outputs": [
    {
     "data": {
      "text/html": [
       "<div>\n",
       "<style scoped>\n",
       "    .dataframe tbody tr th:only-of-type {\n",
       "        vertical-align: middle;\n",
       "    }\n",
       "\n",
       "    .dataframe tbody tr th {\n",
       "        vertical-align: top;\n",
       "    }\n",
       "\n",
       "    .dataframe thead th {\n",
       "        text-align: right;\n",
       "    }\n",
       "</style>\n",
       "<table border=\"1\" class=\"dataframe\">\n",
       "  <thead>\n",
       "    <tr style=\"text-align: right;\">\n",
       "      <th></th>\n",
       "      <th>model</th>\n",
       "      <th>model_median_price</th>\n",
       "      <th>is_top_luxury_model</th>\n",
       "    </tr>\n",
       "  </thead>\n",
       "  <tbody>\n",
       "    <tr>\n",
       "      <th>313</th>\n",
       "      <td>a7-prestige</td>\n",
       "      <td>89379.0</td>\n",
       "      <td>1</td>\n",
       "    </tr>\n",
       "    <tr>\n",
       "      <th>8846</th>\n",
       "      <td>explorer</td>\n",
       "      <td>65024.0</td>\n",
       "      <td>1</td>\n",
       "    </tr>\n",
       "    <tr>\n",
       "      <th>8280</th>\n",
       "      <td>explorer</td>\n",
       "      <td>65024.0</td>\n",
       "      <td>1</td>\n",
       "    </tr>\n",
       "    <tr>\n",
       "      <th>9354</th>\n",
       "      <td>glc-300</td>\n",
       "      <td>71974.0</td>\n",
       "      <td>1</td>\n",
       "    </tr>\n",
       "    <tr>\n",
       "      <th>8101</th>\n",
       "      <td>amg-gt-s</td>\n",
       "      <td>89379.0</td>\n",
       "      <td>1</td>\n",
       "    </tr>\n",
       "  </tbody>\n",
       "</table>\n",
       "</div>"
      ],
      "text/plain": [
       "            model  model_median_price  is_top_luxury_model\n",
       "313   a7-prestige             89379.0                    1\n",
       "8846     explorer             65024.0                    1\n",
       "8280     explorer             65024.0                    1\n",
       "9354      glc-300             71974.0                    1\n",
       "8101     amg-gt-s             89379.0                    1"
      ]
     },
     "execution_count": 34,
     "metadata": {},
     "output_type": "execute_result"
    }
   ],
   "source": [
    "luxury_check = X_train[X_train['model'].isin(luxury_models)]\n",
    "luxury_check[['model', 'model_median_price', 'is_top_luxury_model']].head()\n"
   ]
  },
  {
   "cell_type": "markdown",
   "id": "3116cf77",
   "metadata": {},
   "source": [
    "💡 **Observations:**  \n",
    "- confirms that the model feature engineering worked as intended.\n",
    "- Luxury flag is correct: models like a7-prestige, glc-300, amg-gt-s are all top luxury models."
   ]
  },
  {
   "cell_type": "markdown",
   "id": "b40114d5",
   "metadata": {},
   "source": [
    "### Drop original model  column"
   ]
  },
  {
   "cell_type": "code",
   "execution_count": 35,
   "id": "1bbc2154",
   "metadata": {},
   "outputs": [
    {
     "name": "stdout",
     "output_type": "stream",
     "text": [
      "⛔ Dropped 'model' column.\n"
     ]
    }
   ],
   "source": [
    "# Drop original model column\n",
    "X_train = X_train.drop(columns=['model'])\n",
    "X_test = X_test.drop(columns=['model'])\n",
    "\n",
    "print(\"⛔ Dropped 'model' column.\")\n"
   ]
  },
  {
   "cell_type": "markdown",
   "id": "1a47f5ef",
   "metadata": {},
   "source": [
    "## Other rare Category Handling"
   ]
  },
  {
   "cell_type": "markdown",
   "id": "cbe207eb",
   "metadata": {},
   "source": [
    "### Inspect categorical columns"
   ]
  },
  {
   "cell_type": "code",
   "execution_count": 36,
   "id": "0b6b8844",
   "metadata": {},
   "outputs": [
    {
     "name": "stdout",
     "output_type": "stream",
     "text": [
      "🔹 categorical columns and number of classes for each:\n",
      "\n",
      "fuel_type: 6 classes\n",
      "gear_box_type: 4 classes\n",
      "drive_wheels: 3 classes\n",
      "wheel: 2 classes\n",
      "color: 16 classes\n",
      "doors_cat: 3 classes\n",
      "cylinder_group: 4 classes\n",
      "airbags_group: 5 classes\n",
      "domain: 3 classes\n",
      "category_simple: 3 classes\n",
      "doors_domain: 9 classes\n",
      "manufacturer_grouped: 11 classes\n"
     ]
    }
   ],
   "source": [
    "# Identify categorical columns\n",
    "categorical_cols = X_train.select_dtypes(include=['object', 'category']).columns\n",
    "\n",
    "print(\"🔹 categorical columns and number of classes for each:\\n\")\n",
    "\n",
    "# Print value counts for each categorical column\n",
    "for col in categorical_cols:\n",
    "    print(f\"{col}: {X_train[col].nunique()} classes\")\n"
   ]
  },
  {
   "cell_type": "markdown",
   "id": "bf072dbc",
   "metadata": {},
   "source": [
    "> 🧩 *Low-cardinality features* (≤5 classes) → safe for one-hot encoding, no need for rare-category handling.  \n",
    "> 🧩 *Medium-cardinality features* → check counts and map rare categories to \"other\" to reduce noise.  \n",
    "> 🧩 Already handled features: color → `is_common_color`, `manufacturer_grouped` → top 10 + \"other\"."
   ]
  },
  {
   "cell_type": "markdown",
   "id": "b86e5a2e",
   "metadata": {},
   "source": [
    "### `doors_domain` feature"
   ]
  },
  {
   "cell_type": "markdown",
   "id": "a52b94d2",
   "metadata": {},
   "source": [
    "> 🧩 Set a frequency threshold and replace rare categories with \"other\"."
   ]
  },
  {
   "cell_type": "code",
   "execution_count": 37,
   "id": "459e075a",
   "metadata": {},
   "outputs": [
    {
     "name": "stdout",
     "output_type": "stream",
     "text": [
      "🔹 Value counts in `X_train`:\n",
      "doors_domain\n",
      "4_family     8284\n",
      "4_utility    3463\n",
      "2_luxury      291\n",
      "2_family      200\n",
      "4_luxury      120\n",
      "2_utility     100\n",
      "6_family       60\n",
      "6_utility      34\n",
      "other           1\n",
      "Name: count, dtype: int64\n",
      "\n",
      "🔹 Value counts in `X_test`:\n",
      "doors_domain\n",
      "4_family     2085\n",
      "4_utility     853\n",
      "2_luxury       71\n",
      "2_family       37\n",
      "2_utility      36\n",
      "4_luxury       28\n",
      "6_family       19\n",
      "6_utility      10\n",
      "Name: count, dtype: int64\n"
     ]
    }
   ],
   "source": [
    "threshold = 10\n",
    "counts = X_train['doors_domain'].value_counts()\n",
    "rare_cats = counts[counts < threshold].index\n",
    "\n",
    "# Replace in train\n",
    "X_train['doors_domain'] = X_train['doors_domain'].replace(rare_cats, 'other')\n",
    "# Replace in test using same rare categories\n",
    "X_test['doors_domain'] = X_test['doors_domain'].replace(rare_cats, 'other')\n",
    "\n",
    "# Check result\n",
    "print(\"🔹 Value counts in `X_train`:\")\n",
    "print(X_train['doors_domain'].value_counts())\n",
    "print(\"\\n🔹 Value counts in `X_test`:\")\n",
    "print(X_test['doors_domain'].value_counts())\n"
   ]
  },
  {
   "cell_type": "markdown",
   "id": "b77ad8e9",
   "metadata": {},
   "source": [
    "### `color` feature"
   ]
  },
  {
   "cell_type": "markdown",
   "id": "d7e5a237",
   "metadata": {},
   "source": [
    "> 🧩 We already created `is_common_color` for the most frequent colors. Now we can map rare colors to \"other\".   \n",
    "> 🧩 Rare colors (anything not in `common_colors`) become \"other\"."
   ]
  },
  {
   "cell_type": "code",
   "execution_count": 38,
   "id": "1581ee18",
   "metadata": {},
   "outputs": [
    {
     "name": "stdout",
     "output_type": "stream",
     "text": [
      "🔹 Value counts in `X_train`:\n",
      "color\n",
      "black     3062\n",
      "white     2873\n",
      "silver    2540\n",
      "grey      1542\n",
      "other     1102\n",
      "blue       966\n",
      "red        468\n",
      "Name: count, dtype: int64\n",
      "\n",
      "🔹 Value counts in `X_test`:\n",
      "color\n",
      "black     767\n",
      "white     732\n",
      "silver    605\n",
      "grey      376\n",
      "other     284\n",
      "blue      279\n",
      "red        96\n",
      "Name: count, dtype: int64\n"
     ]
    }
   ],
   "source": [
    "# Function to map rare colors\n",
    "def map_color(color, common_colors): # common_colors already defined earlier.\n",
    "    if pd.isna(color):\n",
    "        return 'other'\n",
    "    color = str(color).strip().lower()\n",
    "    return color if color in common_colors else 'other'\n",
    "\n",
    "# Apply to train\n",
    "X_train['color'] = X_train['color'].apply(lambda x: map_color(x, common_colors))\n",
    "\n",
    "# Apply same mapping to test\n",
    "X_test['color'] = X_test['color'].apply(lambda x: map_color(x, common_colors))\n",
    "\n",
    "# Quick check\n",
    "print(\"🔹 Value counts in `X_train`:\")\n",
    "print(X_train['color'].value_counts())\n",
    "print(\"\\n🔹 Value counts in `X_test`:\")\n",
    "print(X_test['color'].value_counts())\n"
   ]
  },
  {
   "cell_type": "markdown",
   "id": "bcec3b3e",
   "metadata": {},
   "source": [
    "### `fuel_type` feature"
   ]
  },
  {
   "cell_type": "markdown",
   "id": "2aff50cf",
   "metadata": {},
   "source": [
    "> 🧩 Rare classes → map to \"other\"."
   ]
  },
  {
   "cell_type": "code",
   "execution_count": 39,
   "id": "78890394",
   "metadata": {},
   "outputs": [
    {
     "name": "stdout",
     "output_type": "stream",
     "text": [
      "🔹 Value counts for fuel_type (train):\n",
      "fuel_type\n",
      "petrol    7022\n",
      "diesel    2568\n",
      "hybrid    1954\n",
      "lpg        574\n",
      "cng        368\n",
      "other       67\n",
      "Name: count, dtype: int64\n",
      "\n",
      "🔹 Value counts for fuel_type (test):\n",
      "fuel_type\n",
      "petrol    1774\n",
      "diesel     638\n",
      "hybrid     470\n",
      "lpg        140\n",
      "cng         98\n",
      "other       19\n",
      "Name: count, dtype: int64\n"
     ]
    }
   ],
   "source": [
    "# Threshold for minimum samples to keep category\n",
    "threshold = 100\n",
    "\n",
    "# Identify rare categories in TRAIN only. prevent leakage\n",
    "counts = X_train['fuel_type'].value_counts()\n",
    "rare_cats = counts[counts < threshold].index\n",
    "\n",
    "# Replace rare categories in train\n",
    "X_train['fuel_type'] = X_train['fuel_type'].replace(rare_cats, 'other')\n",
    "\n",
    "# Replace rare categories in test using same list\n",
    "X_test['fuel_type'] = X_test['fuel_type'].apply(lambda x: x if x in X_train['fuel_type'].unique() else 'other')\n",
    "\n",
    "\n",
    "# Quick check\n",
    "print(\"🔹 Value counts for fuel_type (train):\")\n",
    "print(X_train['fuel_type'].value_counts())\n",
    "print(\"\\n🔹 Value counts for fuel_type (test):\")\n",
    "print(X_test['fuel_type'].value_counts())\n"
   ]
  },
  {
   "cell_type": "markdown",
   "id": "4525e9bf",
   "metadata": {},
   "source": [
    "# **Save Processed Data & Mappings**"
   ]
  },
  {
   "cell_type": "markdown",
   "id": "75d1306c",
   "metadata": {},
   "source": [
    "## Save train/test sets and targets"
   ]
  },
  {
   "cell_type": "code",
   "execution_count": 40,
   "id": "85623fde",
   "metadata": {},
   "outputs": [
    {
     "name": "stdout",
     "output_type": "stream",
     "text": [
      "✅ Train/test datasets saved successfully.\n"
     ]
    }
   ],
   "source": [
    "joblib.dump(X_train, 'Data/processed/X_train.pkl')\n",
    "joblib.dump(X_test, 'Data/processed/X_test.pkl')\n",
    "\n",
    "joblib.dump(y_train_log, 'Data/processed/y_train_log.pkl')\n",
    "joblib.dump(y_test_log, 'Data/processed/y_test_log.pkl')\n",
    "\n",
    "joblib.dump(y_train_cap, 'Data/processed/y_train_cap.pkl')\n",
    "joblib.dump(y_test_cap, 'Data/processed/y_test_cap.pkl')\n",
    "\n",
    "print(\"✅ Train/test datasets saved successfully.\")"
   ]
  },
  {
   "cell_type": "markdown",
   "id": "b56812c7",
   "metadata": {},
   "source": [
    "## Save categorical mappings (train-only)"
   ]
  },
  {
   "cell_type": "code",
   "execution_count": 41,
   "id": "a164a1f6",
   "metadata": {},
   "outputs": [
    {
     "name": "stdout",
     "output_type": "stream",
     "text": [
      "✅ Categorical mappings saved successfully.\n"
     ]
    }
   ],
   "source": [
    "categorical_mappings = {\n",
    "    'manufacturer_grouped': X_train['manufacturer_grouped'].unique().tolist(),\n",
    "    'fuel_type': X_train['fuel_type'].unique().tolist(),\n",
    "    'color': X_train['color'].unique().tolist(),\n",
    "    'doors_domain': X_train['doors_domain'].unique().tolist(),\n",
    "}\n",
    "\n",
    "with open('Data/processed/categorical_mappings.pkl', 'wb') as f:\n",
    "    pickle.dump(categorical_mappings, f)\n",
    "\n",
    "print(\"✅ Categorical mappings saved successfully.\")"
   ]
  },
  {
   "cell_type": "markdown",
   "id": "c76be048",
   "metadata": {},
   "source": [
    "## Save `model` mappings (train-only)"
   ]
  },
  {
   "cell_type": "code",
   "execution_count": 42,
   "id": "5d722f63",
   "metadata": {},
   "outputs": [
    {
     "name": "stdout",
     "output_type": "stream",
     "text": [
      "✅ Model mappings saved successfully.\n"
     ]
    }
   ],
   "source": [
    "# Median price per model and top luxury flag\n",
    "with open('Data/processed/model_mappings.pkl', 'wb') as f:\n",
    "    pickle.dump({\n",
    "        'model_medians': model_medians,          # dict from train\n",
    "        'is_top_luxury_model': luxury_models,    # set from train\n",
    "        'global_median': global_median\n",
    "    }, f)\n",
    "\n",
    "print(\"✅ Model mappings saved successfully.\")\n"
   ]
  },
  {
   "cell_type": "code",
   "execution_count": 43,
   "id": "84c47ae9",
   "metadata": {},
   "outputs": [
    {
     "data": {
      "text/plain": [
       "['fuel_type',\n",
       " 'cylinders',\n",
       " 'gear_box_type',\n",
       " 'drive_wheels',\n",
       " 'wheel',\n",
       " 'color',\n",
       " 'turbo',\n",
       " 'doors_count',\n",
       " 'doors_cat',\n",
       " 'cylinder_group',\n",
       " 'cylinder_group_ord',\n",
       " 'airbags_group',\n",
       " 'airbags_group_ord',\n",
       " 'car_age',\n",
       " 'has_leather',\n",
       " 'is_common_color',\n",
       " 'domain',\n",
       " 'category_simple',\n",
       " 'engine_turbo',\n",
       " 'doors_domain',\n",
       " 'mileage_capped',\n",
       " 'engine_volume_capped',\n",
       " 'levy_capped',\n",
       " 'mileage_log',\n",
       " 'engine_volume_log',\n",
       " 'levy_log',\n",
       " 'manufacturer_grouped',\n",
       " 'model_median_price',\n",
       " 'is_top_luxury_model']"
      ]
     },
     "execution_count": 43,
     "metadata": {},
     "output_type": "execute_result"
    }
   ],
   "source": [
    "X_train.columns.to_list()"
   ]
  },
  {
   "cell_type": "code",
   "execution_count": 44,
   "id": "f08c76cd",
   "metadata": {},
   "outputs": [
    {
     "data": {
      "text/plain": [
       "gear_box_type\n",
       "automatic    8104\n",
       "tiptronic    2440\n",
       "manual       1444\n",
       "variator      565\n",
       "Name: count, dtype: int64"
      ]
     },
     "execution_count": 44,
     "metadata": {},
     "output_type": "execute_result"
    }
   ],
   "source": [
    "X_train['gear_box_type'].value_counts()"
   ]
  }
 ],
 "metadata": {
  "kernelspec": {
   "display_name": "Python 3 (ipykernel)",
   "language": "python",
   "name": "python3"
  },
  "language_info": {
   "codemirror_mode": {
    "name": "ipython",
    "version": 3
   },
   "file_extension": ".py",
   "mimetype": "text/x-python",
   "name": "python",
   "nbconvert_exporter": "python",
   "pygments_lexer": "ipython3",
   "version": "3.10.18"
  }
 },
 "nbformat": 4,
 "nbformat_minor": 5
}
