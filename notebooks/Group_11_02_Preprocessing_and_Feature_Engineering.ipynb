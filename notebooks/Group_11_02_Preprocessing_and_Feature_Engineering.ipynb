{
 "cells": [
  {
   "cell_type": "markdown",
   "id": "530176bc",
   "metadata": {},
   "source": [
    "# 02 – Preprocessing & Feature Engineering\n",
    "### Car Price Prediction Using Machine Learning\n",
    "Group Assignment 02 - CCS3012 - Data Analytics  \n",
    "Submission Date: 16th September 2025"
   ]
  },
  {
   "cell_type": "markdown",
   "id": "9e76bbb3",
   "metadata": {},
   "source": [
    "---\n",
    "\n",
    "### **Group 11**\n",
    "-  **FC211034 - N.D. Samararathne Kodikara**\n",
    "-  **FC211013 - N.W.V. Tharindu Pabasara**\n",
    "-  **FC211025 - W.M.M.C.B. Wijesundara**\n",
    "\n",
    "\n",
    "\n",
    "---"
   ]
  },
  {
   "cell_type": "markdown",
   "id": "9b2575f9",
   "metadata": {},
   "source": [
    "### **Supervisor**\n",
    "**Ms. Dilmi Praveena**  \n",
    "*Faculty of Computing*  \n",
    "*University of Sri Jayewardenepura*\n",
    "\n",
    "---\n",
    "\n"
   ]
  },
  {
   "cell_type": "markdown",
   "id": "c4e8f2de",
   "metadata": {},
   "source": [
    "## 📌 Objectives\n",
    "\n",
    "This notebook builds upon the cleaned dataset produced in **Notebook 01 — Data Exploration & Cleaning**.  \n",
    "The focus here is on understanding the dataset more deeply, validating insights statistically, and preparing features for modeling.  \n",
    "\n",
    "---\n",
    "\n",
    "###  1. Descriptive Analytics  \n",
    "- Summarize numerical variables.  \n",
    "- Explore categorical variables.  \n",
    "- Visualize distributions.  \n",
    "- Examine bivariate relationships.  \n",
    "\n",
    "###  2. Inferential Analytics  \n",
    "- Perform hypothesis testing to assess whether differences between groups are statistically significant.  \n",
    "- Check correlation strength and direction.  \n",
    "- Identify potential multicollinearity issues between predictors.  \n",
    "\n",
    "###  3. Feature Engineering  \n",
    "- Create new features.  \n",
    "- Extract useful info from text-based or categorical columns.  \n",
    "- Handle skewed features.  \n",
    "- Generate interaction terms if useful.  \n",
    "\n",
    "###  4. Preprocessing Setup  \n",
    "- Encode categorical variables.  \n",
    "- Normalize/scale numerical features. \n",
    "- Standardize target variable if needed.  \n",
    "\n",
    "###  5. Train/Test Split  \n",
    "- Split dataset into **training** and **testing** sets for unbiased model evaluation.  \n",
    "- Save processed datasets and transformation pipeline for **Notebook 03 — Modeling**.  \n",
    "\n",
    "\n",
    "\n",
    "> By the end of this notebook, we will have a **fully processed dataset** with engineered and encoded features, ready for predictive modeling.  \n",
    "\n",
    "---\n"
   ]
  },
  {
   "cell_type": "markdown",
   "id": "37eed740",
   "metadata": {},
   "source": [
    "### 📂 Input  \n",
    "- `clean_data.csv` saved in `Data/processed/`  \n",
    "\n",
    "\n",
    "### 📦 Output  \n",
    "\n",
    "\n",
    "---"
   ]
  },
  {
   "cell_type": "markdown",
   "id": "2a99e567",
   "metadata": {},
   "source": [
    "### 📊 Dataset Overview\n",
    "**Dataset:** Car price dataset cleaned.  \n",
    "**columns include**:   \n",
    "- `id`, `price` (target variable),  `levy`,  `manufacturer`,  `model`,  `prod_year`,  `category`,  `leather_interior`,  `fuel_type`, `engine_volume`,  `mileage`,  `cylinders`,  `gear_box_type`,  `drive_wheels`,  `doors`,  `wheel`, `color`,  `airbags`,  `turbo` (derived in Notebook 01)\n",
    "\n",
    "\n",
    "> **Dataset stats:** 19,237 rows × 19 features | Target variable: `price` | Problem type: Regression\n"
   ]
  },
  {
   "cell_type": "markdown",
   "id": "12cac8e6",
   "metadata": {},
   "source": [
    "## Setup & imports"
   ]
  },
  {
   "cell_type": "code",
   "execution_count": 1,
   "id": "b5ca3421",
   "metadata": {},
   "outputs": [],
   "source": [
    "# Data manipulation\n",
    "import pandas as pd\n",
    "import numpy as np\n",
    "\n",
    "# Visualization\n",
    "import matplotlib.pyplot as plt\n",
    "import seaborn as sns\n",
    "\n",
    "\n",
    "# Statistical functions\n",
    "from scipy import stats\n",
    "\n",
    "from prettytable import PrettyTable # For creating formatted tables in the console.\n",
    "from tabulate import tabulate\n",
    "sns.set_style('whitegrid')\n",
    "plt.rcParams['figure.figsize'] = (10, 6)\n"
   ]
  },
  {
   "cell_type": "code",
   "execution_count": 2,
   "id": "fe1b2ef1",
   "metadata": {},
   "outputs": [],
   "source": [
    "# Next we load the cleaned dataset.\n",
    "df = pd.read_csv(\"./Data/processed/clean_data.csv\")"
   ]
  },
  {
   "cell_type": "code",
   "execution_count": 3,
   "id": "50211c67",
   "metadata": {},
   "outputs": [
    {
     "data": {
      "text/html": [
       "<div>\n",
       "<style scoped>\n",
       "    .dataframe tbody tr th:only-of-type {\n",
       "        vertical-align: middle;\n",
       "    }\n",
       "\n",
       "    .dataframe tbody tr th {\n",
       "        vertical-align: top;\n",
       "    }\n",
       "\n",
       "    .dataframe thead th {\n",
       "        text-align: right;\n",
       "    }\n",
       "</style>\n",
       "<table border=\"1\" class=\"dataframe\">\n",
       "  <thead>\n",
       "    <tr style=\"text-align: right;\">\n",
       "      <th></th>\n",
       "      <th>id</th>\n",
       "      <th>price</th>\n",
       "      <th>levy</th>\n",
       "      <th>manufacturer</th>\n",
       "      <th>model</th>\n",
       "      <th>prod_year</th>\n",
       "      <th>category</th>\n",
       "      <th>leather_interior</th>\n",
       "      <th>fuel_type</th>\n",
       "      <th>engine_volume</th>\n",
       "      <th>mileage</th>\n",
       "      <th>cylinders</th>\n",
       "      <th>gear_box_type</th>\n",
       "      <th>drive_wheels</th>\n",
       "      <th>doors</th>\n",
       "      <th>wheel</th>\n",
       "      <th>color</th>\n",
       "      <th>airbags</th>\n",
       "      <th>turbo</th>\n",
       "    </tr>\n",
       "  </thead>\n",
       "  <tbody>\n",
       "    <tr>\n",
       "      <th>0</th>\n",
       "      <td>45654403</td>\n",
       "      <td>13328</td>\n",
       "      <td>1399.0</td>\n",
       "      <td>lexus</td>\n",
       "      <td>rx 450</td>\n",
       "      <td>2010</td>\n",
       "      <td>jeep</td>\n",
       "      <td>yes</td>\n",
       "      <td>hybrid</td>\n",
       "      <td>3.5</td>\n",
       "      <td>186005</td>\n",
       "      <td>6</td>\n",
       "      <td>automatic</td>\n",
       "      <td>4x4</td>\n",
       "      <td>04-may</td>\n",
       "      <td>left wheel</td>\n",
       "      <td>silver</td>\n",
       "      <td>12</td>\n",
       "      <td>False</td>\n",
       "    </tr>\n",
       "    <tr>\n",
       "      <th>1</th>\n",
       "      <td>44731507</td>\n",
       "      <td>16621</td>\n",
       "      <td>1018.0</td>\n",
       "      <td>chevrolet</td>\n",
       "      <td>equinox</td>\n",
       "      <td>2011</td>\n",
       "      <td>jeep</td>\n",
       "      <td>no</td>\n",
       "      <td>petrol</td>\n",
       "      <td>3.0</td>\n",
       "      <td>192000</td>\n",
       "      <td>6</td>\n",
       "      <td>tiptronic</td>\n",
       "      <td>4x4</td>\n",
       "      <td>04-may</td>\n",
       "      <td>left wheel</td>\n",
       "      <td>black</td>\n",
       "      <td>8</td>\n",
       "      <td>False</td>\n",
       "    </tr>\n",
       "    <tr>\n",
       "      <th>2</th>\n",
       "      <td>45774419</td>\n",
       "      <td>8467</td>\n",
       "      <td>0.0</td>\n",
       "      <td>honda</td>\n",
       "      <td>fit</td>\n",
       "      <td>2006</td>\n",
       "      <td>hatchback</td>\n",
       "      <td>no</td>\n",
       "      <td>petrol</td>\n",
       "      <td>1.3</td>\n",
       "      <td>200000</td>\n",
       "      <td>4</td>\n",
       "      <td>variator</td>\n",
       "      <td>front</td>\n",
       "      <td>04-may</td>\n",
       "      <td>right-hand drive</td>\n",
       "      <td>black</td>\n",
       "      <td>2</td>\n",
       "      <td>False</td>\n",
       "    </tr>\n",
       "    <tr>\n",
       "      <th>3</th>\n",
       "      <td>45769185</td>\n",
       "      <td>3607</td>\n",
       "      <td>862.0</td>\n",
       "      <td>ford</td>\n",
       "      <td>escape</td>\n",
       "      <td>2011</td>\n",
       "      <td>jeep</td>\n",
       "      <td>yes</td>\n",
       "      <td>hybrid</td>\n",
       "      <td>2.5</td>\n",
       "      <td>168966</td>\n",
       "      <td>4</td>\n",
       "      <td>automatic</td>\n",
       "      <td>4x4</td>\n",
       "      <td>04-may</td>\n",
       "      <td>left wheel</td>\n",
       "      <td>white</td>\n",
       "      <td>0</td>\n",
       "      <td>False</td>\n",
       "    </tr>\n",
       "    <tr>\n",
       "      <th>4</th>\n",
       "      <td>45809263</td>\n",
       "      <td>11726</td>\n",
       "      <td>446.0</td>\n",
       "      <td>honda</td>\n",
       "      <td>fit</td>\n",
       "      <td>2014</td>\n",
       "      <td>hatchback</td>\n",
       "      <td>yes</td>\n",
       "      <td>petrol</td>\n",
       "      <td>1.3</td>\n",
       "      <td>91901</td>\n",
       "      <td>4</td>\n",
       "      <td>automatic</td>\n",
       "      <td>front</td>\n",
       "      <td>04-may</td>\n",
       "      <td>left wheel</td>\n",
       "      <td>silver</td>\n",
       "      <td>4</td>\n",
       "      <td>False</td>\n",
       "    </tr>\n",
       "  </tbody>\n",
       "</table>\n",
       "</div>"
      ],
      "text/plain": [
       "         id  price    levy manufacturer    model  prod_year   category  \\\n",
       "0  45654403  13328  1399.0        lexus   rx 450       2010       jeep   \n",
       "1  44731507  16621  1018.0    chevrolet  equinox       2011       jeep   \n",
       "2  45774419   8467     0.0        honda      fit       2006  hatchback   \n",
       "3  45769185   3607   862.0         ford   escape       2011       jeep   \n",
       "4  45809263  11726   446.0        honda      fit       2014  hatchback   \n",
       "\n",
       "  leather_interior fuel_type  engine_volume  mileage  cylinders gear_box_type  \\\n",
       "0              yes    hybrid            3.5   186005          6     automatic   \n",
       "1               no    petrol            3.0   192000          6     tiptronic   \n",
       "2               no    petrol            1.3   200000          4      variator   \n",
       "3              yes    hybrid            2.5   168966          4     automatic   \n",
       "4              yes    petrol            1.3    91901          4     automatic   \n",
       "\n",
       "  drive_wheels   doors             wheel   color  airbags  turbo  \n",
       "0          4x4  04-may        left wheel  silver       12  False  \n",
       "1          4x4  04-may        left wheel   black        8  False  \n",
       "2        front  04-may  right-hand drive   black        2  False  \n",
       "3          4x4  04-may        left wheel   white        0  False  \n",
       "4        front  04-may        left wheel  silver        4  False  "
      ]
     },
     "execution_count": 3,
     "metadata": {},
     "output_type": "execute_result"
    }
   ],
   "source": [
    "# Prints the first 5 rows of the DataFrame.\n",
    "df.head()"
   ]
  },
  {
   "cell_type": "code",
   "execution_count": 4,
   "id": "fcf06766",
   "metadata": {},
   "outputs": [
    {
     "name": "stdout",
     "output_type": "stream",
     "text": [
      "+------------------+----------------+---------+\n",
      "|      Column      | Non-Null Count |  Dtype  |\n",
      "+------------------+----------------+---------+\n",
      "|        id        |     15697      |  int64  |\n",
      "|      price       |     15697      |  int64  |\n",
      "|       levy       |     15697      | float64 |\n",
      "|   manufacturer   |     15697      |  object |\n",
      "|      model       |     15697      |  object |\n",
      "|    prod_year     |     15697      |  int64  |\n",
      "|     category     |     15697      |  object |\n",
      "| leather_interior |     15697      |  object |\n",
      "|    fuel_type     |     15697      |  object |\n",
      "|  engine_volume   |     15697      | float64 |\n",
      "|     mileage      |     15697      |  int64  |\n",
      "|    cylinders     |     15697      |  int64  |\n",
      "|  gear_box_type   |     15697      |  object |\n",
      "|   drive_wheels   |     15697      |  object |\n",
      "|      doors       |     15697      |  object |\n",
      "|      wheel       |     15697      |  object |\n",
      "|      color       |     15697      |  object |\n",
      "|     airbags      |     15697      |  int64  |\n",
      "|      turbo       |     15697      |   bool  |\n",
      "+------------------+----------------+---------+\n"
     ]
    }
   ],
   "source": [
    "# Prints the name of each column in the dataset, the number of non-null values it contains, and its data type.\n",
    "def df_info(df):\n",
    "    table = PrettyTable()\n",
    "    table.field_names = [\"Column\", \"Non-Null Count\", \"Dtype\"]\n",
    "\n",
    "    for col in df.columns:\n",
    "        non_null_count = df[col].count()\n",
    "        dtype = df[col].dtype\n",
    "        table.add_row([col, non_null_count, dtype])\n",
    "\n",
    "    print(table)\n",
    "\n",
    "df_info(df)"
   ]
  },
  {
   "cell_type": "markdown",
   "id": "c567ad3c",
   "metadata": {},
   "source": [
    "💡 **Observations:**  \n",
    "- The data set appears unchanged and matches the previously saved version."
   ]
  },
  {
   "cell_type": "markdown",
   "id": "ef2c3d9f",
   "metadata": {},
   "source": [
    "Le't start..."
   ]
  },
  {
   "cell_type": "markdown",
   "id": "fe1c1cff",
   "metadata": {},
   "source": [
    "# Section 1: Descriptive Analytics"
   ]
  },
  {
   "cell_type": "markdown",
   "id": "e46e0f20",
   "metadata": {},
   "source": [
    "## Numerical Features\n",
    "**Features to analyze: price, levy, mileage, engine_volume, cylinders, airbags, prod_year**"
   ]
  },
  {
   "cell_type": "markdown",
   "id": "07f81e9a",
   "metadata": {},
   "source": [
    "### Analyze `price`"
   ]
  },
  {
   "cell_type": "code",
   "execution_count": 5,
   "id": "e4f4037b",
   "metadata": {},
   "outputs": [
    {
     "name": "stdout",
     "output_type": "stream",
     "text": [
      "Price Summary:\n",
      " count    1.569700e+04\n",
      "mean     2.028445e+04\n",
      "std      2.108237e+05\n",
      "min      1.000000e+00\n",
      "25%      7.527000e+03\n",
      "50%      1.426900e+04\n",
      "75%      2.338900e+04\n",
      "max      2.630750e+07\n",
      "Name: price, dtype: float64\n",
      "\n",
      "Skewness: 123.52934090055949\n",
      "Kurtosis: 15402.583002061287\n"
     ]
    }
   ],
   "source": [
    "# Summary statistics\n",
    "price_stats = df['price'].describe()\n",
    "print(\"Price Summary:\\n\", price_stats)\n",
    "\n",
    "# other metrics\n",
    "print(\"\\nSkewness:\", df['price'].skew())\n",
    "print(\"Kurtosis:\", df['price'].kurt())"
   ]
  },
  {
   "cell_type": "markdown",
   "metadata": {},
   "source": [
    "💡 **Observations:**  \n",
    "- The mean price is around $20,284, while the median is $14,269, indicating a right-skewed distribution.\n",
    "- The minimum price is $1 (likely an error or placeholder), and the maximum is $26,307,500, suggesting the presence of extreme outliers.  \n",
    "- The standard deviation is very high ($210,823), reflecting large variability in car prices.\n",
    "\n",
    "---\n",
    "- Skewness = 123.53 → extremely right-skewed.\n",
    "\n",
    "- Kurtosis = 15,402.58 → heavy tails, confirming extreme outliers.\n",
    "\n",
    "> *🧠 we will Consider log transformation now and outlier handling in Feature engineering*"
   ]
  },
  {
   "cell_type": "code",
   "execution_count": 6,
   "id": "5e8b056a",
   "metadata": {},
   "outputs": [],
   "source": [
    "# Initialize list for skewed features\n",
    "skewed_features = []\n",
    "\n",
    "# Example: add 'price' after detecting skew\n",
    "skewed_features.append('price')"
   ]
  },
  {
   "cell_type": "code",
   "execution_count": 7,
   "id": "2dd143b5",
   "metadata": {},
   "outputs": [
    {
     "data": {
      "image/png": "[encoded data removed]",
      "text/plain": [
       "<Figure size 800x400 with 1 Axes>"
      ]
     },
     "metadata": {},
     "output_type": "display_data"
    },
    {
     "data": {
      "image/png": "[encoded data removed]",
      "text/plain": [
       "<Figure size 800x400 with 1 Axes>"
      ]
     },
     "metadata": {},
     "output_type": "display_data"
    }
   ],
   "source": [
    "plt.figure(figsize=(8,4))\n",
    "sns.histplot(df['price'], bins=50, kde=True)\n",
    "plt.title(\"Distribution of Car Prices\")\n",
    "plt.xlabel(\"Price (USD$)\")\n",
    "plt.show()\n",
    "\n",
    "plt.figure(figsize=(8,4))\n",
    "sns.boxplot(x=df['price'])\n",
    "plt.title(\"Boxplot of Car Prices\")\n",
    "plt.xlabel(\"Price (USD$)\")\n",
    "plt.show()\n"
   ]
  },
  {
   "cell_type": "markdown",
   "id": "6d16eaf0",
   "metadata": {},
   "source": [
    "💡 **Observations:**  \n",
    "- The raw price distribution is highly skewed, with extreme outliers reaching up to 26M USD.\n",
    "This makes the plots look compressed, hiding the majority of the data.\n",
    "> *🧠 To better visualize the bulk of the dataset, we zoom into the 95th percentile, which removes the top 5% of extreme values from the plot (without actually deleting them from the dataset).*"
   ]
  },
  {
   "cell_type": "code",
   "execution_count": 8,
   "id": "904de0fc",
   "metadata": {},
   "outputs": [
    {
     "data": {
      "image/png": "[encoded data removed]",
      "text/plain": [
       "<Figure size 800x400 with 1 Axes>"
      ]
     },
     "metadata": {},
     "output_type": "display_data"
    }
   ],
   "source": [
    "plt.figure(figsize=(8,4))\n",
    "sns.boxplot(x=df['price'].clip(upper=df['price'].quantile(0.95)))\n",
    "plt.title(\"Boxplot of Car Prices (95th percentile)\")\n",
    "plt.xlabel(\"Price (USD$)\")\n",
    "plt.show()\n"
   ]
  },
  {
   "cell_type": "markdown",
   "id": "fdb1836e",
   "metadata": {},
   "source": [
    "💡 **Observations:**  \n",
    "\n",
    "- The majority of car prices fall between $18,000 and $24,000.\n",
    "\n",
    "- Extreme luxury or rare vehicles drive the distribution’s long right tail.\n",
    "\n",
    "- The bulk of the dataset represents typical consumer vehicles, not high-end outliers."
   ]
  },
  {
   "cell_type": "markdown",
   "id": "bf363e55",
   "metadata": {},
   "source": [
    "### Analyze `levy`"
   ]
  },
  {
   "cell_type": "code",
   "execution_count": 9,
   "id": "523e6b3e",
   "metadata": {},
   "outputs": [
    {
     "name": "stdout",
     "output_type": "stream",
     "text": [
      "Levy Summary:\n",
      " count    15697.000000\n",
      "mean       562.179716\n",
      "std        558.754267\n",
      "min          0.000000\n",
      "25%          0.000000\n",
      "50%        639.000000\n",
      "75%        862.000000\n",
      "max      11714.000000\n",
      "Name: levy, dtype: float64\n",
      "\n",
      "Skewness: 2.9599056127478742\n",
      "Kurtosis: 38.99045800451407\n"
     ]
    }
   ],
   "source": [
    "# Summary stats\n",
    "print(\"Levy Summary:\\n\", df['levy'].describe())\n",
    "\n",
    "# Skewness & Kurtosis\n",
    "print(\"\\nSkewness:\", df['levy'].skew())\n",
    "print(\"Kurtosis:\", df['levy'].kurt())"
   ]
  },
  {
   "cell_type": "code",
   "execution_count": 10,
   "id": "d3b39a68",
   "metadata": {},
   "outputs": [
    {
     "data": {
      "image/png": "[encoded data removed]",
      "text/plain": [
       "<Figure size 800x400 with 1 Axes>"
      ]
     },
     "metadata": {},
     "output_type": "display_data"
    }
   ],
   "source": [
    "\n",
    "# Histogram\n",
    "plt.figure(figsize=(8,4))\n",
    "sns.histplot(df['levy'], bins=50, kde=True)\n",
    "plt.title(\"Distribution of Levy\")\n",
    "plt.xlabel(\"Levy\")\n",
    "plt.show()"
   ]
  },
  {
   "cell_type": "markdown",
   "id": "cffcc437",
   "metadata": {},
   "source": [
    "**💡 Observations**\n",
    "\n",
    "- Median (639) is higher than the mean (562), showing a concentration of lower values with a long right tail.\n",
    "\n",
    "- 25% of cars have levy = 0.\n",
    "\n",
    "- Distribution is moderately skewed (Skewness ≈ 2.96) with heavy tails (Kurtosis ≈ 39), suggesting strong outliers.\n",
    "\n",
    "- The maximum levy (11,714) is far beyond the 75th percentile (862), indicating presence of extreme values.\n",
    "\n",
    "> *🧠 Investigate whether levy = 0 should be treated as missing.*"
   ]
  },
  {
   "cell_type": "markdown",
   "id": "c94e86f6",
   "metadata": {},
   "source": [
    "#### 🔍 Investigating levy = 0\n"
   ]
  },
  {
   "cell_type": "markdown",
   "id": "5e917506",
   "metadata": {},
   "source": [
    "> Objective: Determine whether levy = 0 represents a true zero or indicates missing/unknown values."
   ]
  },
  {
   "cell_type": "code",
   "execution_count": 11,
   "id": "fe658eac",
   "metadata": {},
   "outputs": [
    {
     "name": "stdout",
     "output_type": "stream",
     "text": [
      "Levy = 0 → 5659 rows (36.05%)\n"
     ]
    }
   ],
   "source": [
    "zero_count = (df['levy'] == 0).sum()\n",
    "zero_pct = zero_count / len(df) * 100\n",
    "print(f\"Levy = 0 → {zero_count} rows ({zero_pct:.2f}%)\")\n"
   ]
  },
  {
   "cell_type": "markdown",
   "id": "a2594e29",
   "metadata": {},
   "source": [
    "💡 **Observations:**  \n",
    "- levy = 0 occurs in 5,659 rows, which is 36.05% of the dataset.\n",
    "- This is a substantial portion, so we need to investigate whether these zeros are true exemptions (e.g., for certain car years or categories) or missing/unknown values.\n",
    "\n",
    "> *🧠 Further analysis with car age, price, and category will guide whether to keep, impute, or flag these zeros in preprocessing.*"
   ]
  },
  {
   "cell_type": "code",
   "execution_count": null,
   "id": "acd014e9",
   "metadata": {},
   "outputs": [
    {
     "name": "stdout",
     "output_type": "stream",
     "text": [
      "+-----------------+------------------------+\n",
      "| Car Age Group   |   Proportion of levy=0 |\n",
      "+=================+========================+\n",
      "| 0-5             |              0.186047  |\n",
      "+-----------------+------------------------+\n",
      "| 6-10            |              0.0910034 |\n",
      "+-----------------+------------------------+\n",
      "| 11-15           |              0.215335  |\n",
      "+-----------------+------------------------+\n",
      "| 16-20           |              0.648907  |\n",
      "+-----------------+------------------------+\n",
      "| 21-30           |              0.950131  |\n",
      "+-----------------+------------------------+\n",
      "| 31-50           |              0.97619   |\n",
      "+-----------------+------------------------+\n"
     ]
    }
   ],
   "source": [
    "# 🍀 Create car_age column\n",
    "current_year = 2025  # or use datetime.now().year\n",
    "df['car_age'] = current_year - df['prod_year']\n",
    "\n",
    "# Define bins and labels\n",
    "bins = [0, 5, 10, 15, 20, 30, 50]\n",
    "labels = ['0-5', '6-10', '11-15', '16-20', '21-30', '31-50']\n",
    "\n",
    "# Bin car ages\n",
    "age_groups = pd.cut(df['car_age'], bins=bins, labels=labels, right=True)\n",
    "\n",
    "# Proportion of levy=0 by age group\n",
    "levy_zero_by_age = df.groupby(age_groups, observed=True)['levy'].apply(lambda x: (x==0).mean())\n",
    "\n",
    "\n",
    "# Convert to DataFrame for tabulate\n",
    "levy_table = levy_zero_by_age.reset_index()\n",
    "levy_table.columns = ['Car Age Group', 'Proportion of levy=0']\n",
    "\n",
    "# Print table\n",
    "print(tabulate(levy_table, headers='keys', tablefmt='grid', showindex=False))\n"
   ]
  },
  {
   "cell_type": "markdown",
   "id": "c78ff21f",
   "metadata": {},
   "source": [
    "**💡 Observations**\n",
    "\n",
    "- Newer cars (0–5 years) have a relatively low proportion of levy=0 (≈18.6%).\n",
    "\n",
    "- Levy=0 is relatively low for newer cars (0–15 years) but rises sharply for older cars.\n",
    "\n",
    "- 21–30 years old cars and 31–50 years old cars almost entirely have levy=0, which may reflect obsolete or missing levy data for very old cars.\n",
    "\n",
    "> *🧠 Levy=0 is strongly correlated with car age.*\n",
    "\n",
    "> *🧠 most likely represent missing values for old cars*"
   ]
  }
 ],
 "metadata": {
  "kernelspec": {
   "display_name": "Python 3 (ipykernel)",
   "language": "python",
   "name": "python3"
  }
 },
 "nbformat": 4,
 "nbformat_minor": 5
}
