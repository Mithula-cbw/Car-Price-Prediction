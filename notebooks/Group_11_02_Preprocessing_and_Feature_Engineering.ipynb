{
 "cells": [
  {
   "cell_type": "markdown",
   "id": "530176bc",
   "metadata": {},
   "source": [
    "# 03 – Preprocessing & Feature Engineering\n",
    "### Car Price Prediction Using Machine Learning\n",
    "Group Assignment 02 - CCS3012 - Data Analytics  \n",
    "Submission Date: 16th September 2025"
   ]
  },
  {
   "cell_type": "markdown",
   "id": "9e76bbb3",
   "metadata": {},
   "source": [
    "---\n",
    "\n",
    "### **Group 11**\n",
    "-  **FC211034 - N.D. Samararathne Kodikara**\n",
    "-  **FC211013 - N.W.V. Tharindu Pabasara**\n",
    "-  **FC211025 - W.M.M.C.B. Wijesundara**\n",
    "\n",
    "\n",
    "\n",
    "---"
   ]
  },
  {
   "cell_type": "markdown",
   "id": "9b2575f9",
   "metadata": {},
   "source": [
    "### **Supervisor**\n",
    "**Ms. Dilmi Praveena**  \n",
    "*Faculty of Computing*  \n",
    "*University of Sri Jayewardenepura*\n",
    "\n",
    "---\n",
    "\n"
   ]
  },
  {
   "cell_type": "markdown",
   "id": "c4e8f2de",
   "metadata": {},
   "source": [
    "## 📌 Objective\n",
    "Prepare the cleaned car price dataset for modeling by performing feature engineering, encoding categorical variables, scaling numerical features, and creating train/test splits.\n",
    "**Key Tasks:**\n",
    "- Load the cleaned dataset from `data/processed/car_price_cleaned.csv`.\n",
    "- Engineer new features\n",
    "- Encode categorical variables\n",
    "- Scale or normalize numerical features (e.g., `price`, `mileage`, `levy`, `engine_volume`).\n",
    "- Explore feature-target relationships with visualizations.\n",
    "- Split dataset into train/test sets.\n",
    "- Save the preprocessed dataset.\n",
    "\n",
    "---"
   ]
  },
  {
   "cell_type": "markdown",
   "id": "37eed740",
   "metadata": {},
   "source": [
    "### 📂 Input  \n",
    "- `clean_data.csv` saved in `Data/processed/`  \n",
    "\n",
    "\n",
    "### 📦 Output  \n",
    "\n",
    "\n",
    "---"
   ]
  },
  {
   "cell_type": "markdown",
   "id": "2a99e567",
   "metadata": {},
   "source": [
    "### 📊 Dataset Overview\n",
    "**Dataset:** Car price dataset cleaned.  \n",
    "**columns include**:   \n",
    "- `id`, `price` (target variable),  `levy`,  `manufacturer`,  `model`,  `prod_year`,  `category`,  `leather_interior`,  `fuel_type`, `engine_volume`,  `mileage`,  `cylinders`,  `gear_box_type`,  `drive_wheels`,  `doors`,  `wheel`, `color`,  `airbags`,  `turbo` (derived in Notebook 01)\n",
    "\n",
    "\n",
    "> **Dataset stats:** 19,237 rows × 19 features | Target variable: `price` | Problem type: Regression\n"
   ]
  },
  {
   "cell_type": "markdown",
   "id": "12cac8e6",
   "metadata": {},
   "source": [
    "## Setup & imports"
   ]
  }
 ],
 "metadata": {
  "language_info": {
   "name": "python"
  }
 },
 "nbformat": 4,
 "nbformat_minor": 5
}
