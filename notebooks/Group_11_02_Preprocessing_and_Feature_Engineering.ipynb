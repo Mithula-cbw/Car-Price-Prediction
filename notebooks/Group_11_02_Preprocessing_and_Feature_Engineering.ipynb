{
 "cells": [
  {
   "cell_type": "markdown",
   "id": "530176bc",
   "metadata": {},
   "source": [
    "# 02 – Preprocessing & Feature Engineering\n",
    "### Car Price Prediction Using Machine Learning\n",
    "Group Assignment 02 - CCS3012 - Data Analytics  \n",
    "Submission Date: 16th September 2025"
   ]
  },
  {
   "cell_type": "markdown",
   "id": "9e76bbb3",
   "metadata": {},
   "source": [
    "---\n",
    "\n",
    "### **Group 11**\n",
    "-  **FC211034 - N.D. Samararathne Kodikara**\n",
    "-  **FC211013 - N.W.V. Tharindu Pabasara**\n",
    "-  **FC211025 - W.M.M.C.B. Wijesundara**\n",
    "\n",
    "\n",
    "\n",
    "---"
   ]
  },
  {
   "cell_type": "markdown",
   "id": "9b2575f9",
   "metadata": {},
   "source": [
    "### **Supervisor**\n",
    "**Ms. Dilmi Praveena**  \n",
    "*Faculty of Computing*  \n",
    "*University of Sri Jayewardenepura*\n",
    "\n",
    "---\n",
    "\n"
   ]
  },
  {
   "cell_type": "markdown",
   "id": "c4e8f2de",
   "metadata": {},
   "source": [
    "## 📌 Objectives\n",
    "\n",
    "This notebook builds upon the cleaned dataset produced in **Notebook 01 — Data Exploration & Cleaning**.  \n",
    "The focus here is on understanding the dataset more deeply, validating insights statistically, and preparing features for modeling.  \n",
    "\n",
    "---\n",
    "\n",
    "###  1. Descriptive Analytics  \n",
    "- Summarize numerical variables.  \n",
    "- Explore categorical variables.  \n",
    "- Visualize distributions.  \n",
    "- Examine bivariate relationships.  \n",
    "\n",
    "###  2. Inferential Analytics  \n",
    "- Perform hypothesis testing to assess whether differences between groups are statistically significant.  \n",
    "- Check correlation strength and direction.  \n",
    "- Identify potential multicollinearity issues between predictors.  \n",
    "\n",
    "###  3. Feature Engineering  \n",
    "- Create new features.  \n",
    "- Extract useful info from text-based or categorical columns.  \n",
    "- Handle skewed features.  \n",
    "- Generate interaction terms if useful.  \n",
    "\n",
    "###  4. Preprocessing Setup  \n",
    "- Encode categorical variables.  \n",
    "- Normalize/scale numerical features. \n",
    "- Standardize target variable if needed.  \n",
    "\n",
    "###  5. Train/Test Split  \n",
    "- Split dataset into **training** and **testing** sets for unbiased model evaluation.  \n",
    "- Save processed datasets and transformation pipeline for **Notebook 03 — Modeling**.  \n",
    "\n",
    "\n",
    "\n",
    "> By the end of this notebook, we will have a **fully processed dataset** with engineered and encoded features, ready for predictive modeling.  \n",
    "\n",
    "---\n"
   ]
  },
  {
   "cell_type": "markdown",
   "id": "37eed740",
   "metadata": {},
   "source": [
    "### 📂 Input  \n",
    "- `clean_data.csv` saved in `Data/processed/`  \n",
    "\n",
    "\n",
    "### 📦 Output  \n",
    "\n",
    "\n",
    "---"
   ]
  },
  {
   "cell_type": "markdown",
   "id": "2a99e567",
   "metadata": {},
   "source": [
    "### 📊 Dataset Overview\n",
    "**Dataset:** Car price dataset cleaned.  \n",
    "**columns include**:   \n",
    "- `id`, `price` (target variable),  `levy`,  `manufacturer`,  `model`,  `prod_year`,  `category`,  `leather_interior`,  `fuel_type`, `engine_volume`,  `mileage`,  `cylinders`,  `gear_box_type`,  `drive_wheels`,  `doors`,  `wheel`, `color`,  `airbags`,  `turbo` (derived in Notebook 01)\n",
    "\n",
    "\n",
    "> **Dataset stats:** 19,237 rows × 19 features | Target variable: `price` | Problem type: Regression\n"
   ]
  },
  {
   "cell_type": "markdown",
   "id": "12cac8e6",
   "metadata": {},
   "source": [
    "## Setup & imports"
   ]
  }
 ],
 "metadata": {
  "kernelspec": {
   "display_name": "Python 3 (ipykernel)",
   "language": "python",
   "name": "python3"
  }
 },
 "nbformat": 4,
 "nbformat_minor": 5
}
