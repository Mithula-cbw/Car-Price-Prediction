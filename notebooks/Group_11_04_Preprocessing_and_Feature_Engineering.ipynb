{
 "cells": [
  {
   "cell_type": "markdown",
   "id": "1b7c4c97",
   "metadata": {},
   "source": [
    "# 04 – Preprocessing & Feature Engineering\n",
    "### Car Price Prediction Using Machine Learning\n",
    "Group Assignment 02 - CCS3012 - Data Analytics  \n",
    "Submission Date: 16th September 2025"
   ]
  },
  {
   "cell_type": "markdown",
   "id": "1572e8bf",
   "metadata": {},
   "source": [
    "---\n",
    "\n",
    "### **Group 11**\n",
    "-  **FC211034 - N.D. Samararathne Kodikara**\n",
    "-  **FC211013 - N.W.V. Tharindu Pabasara**\n",
    "-  **FC211025 - W.M.M.C.B. Wijesundara**\n",
    "\n",
    "\n",
    "\n",
    "---\n"
   ]
  },
  {
   "cell_type": "markdown",
   "id": "6240d500",
   "metadata": {},
   "source": [
    "### **Supervisor**\n",
    "**Ms. Dilmi Praveena**  \n",
    "*Faculty of Computing*  \n",
    "*University of Sri Jayewardenepura*\n",
    "\n",
    "---\n"
   ]
  },
  {
   "cell_type": "markdown",
   "id": "6afb63b4",
   "metadata": {},
   "source": [
    "## 📌 Objectives\n",
    "\n",
    "This notebook builds upon the cleaned dataset produced in **Notebook 01 — Data Exploration & Cleaning**.\n",
    "The focus here is to prepare the dataset for modeling by performing outlier detection, handling, and feature engineering, including:\n",
    "\n",
    "---\n",
    "\n",
    "- **Outlier detection & handling**: We have identified extreme and unrealistic values some numerical features such as price, mileage, levy, engine_volume and here we will decide whether to remove or retain them.\n",
    "\n",
    "- **Feature engineering**: Create new features to better capture information.\n",
    "\n",
    "- **Data consistency & cleaning**: Ensure all engineered features are correctly formatted, handle missing or zero values appropriately, and reduce noise in the dataset..\n",
    "\n",
    "---"
   ]
  },
  {
   "cell_type": "markdown",
   "id": "9c68cc32",
   "metadata": {},
   "source": [
    "### 📂 Input  \n",
    "- `clean_data.csv` saved in `Data/processed/`  \n",
    "---"
   ]
  },
  {
   "cell_type": "markdown",
   "id": "190c2883",
   "metadata": {},
   "source": [
    "### 📊 Dataset Overview\n",
    "**Dataset:** Car price dataset cleaned.  \n",
    "**columns include**:   \n",
    "- `id`, `price` (target variable),  `levy`,  `manufacturer`,  `model`,  `prod_year`,  `category`,  `leather_interior`,  `fuel_type`, `engine_volume`,  `mileage`,  `cylinders`,  `gear_box_type`,  `drive_wheels`,  `doors`,  `wheel`, `color`,  `airbags`,  `turbo` (derived in Notebook 01)\n",
    "\n",
    "\n",
    "> **Dataset stats:** 19,237 rows × 19 features | Target variable: `price` | Problem type: Regression\n"
   ]
  },
  {
   "cell_type": "markdown",
   "id": "ba304048",
   "metadata": {},
   "source": [
    "# Setup & imports"
   ]
  },
  {
   "cell_type": "code",
   "execution_count": 1,
   "id": "d7fc5844",
   "metadata": {},
   "outputs": [],
   "source": [
    "# Data manipulation\n",
    "import pandas as pd\n",
    "import numpy as np\n",
    "\n",
    "# Visualization\n",
    "import matplotlib.pyplot as plt\n",
    "import seaborn as sns\n",
    "\n",
    "\n",
    "# Statistical functions\n",
    "from scipy import stats\n",
    "\n",
    "from prettytable import PrettyTable "
   ]
  },
  {
   "cell_type": "code",
   "execution_count": 2,
   "id": "b8211801",
   "metadata": {},
   "outputs": [],
   "source": [
    "df = pd.read_csv(\"./Data/processed/clean_data.csv\")\n"
   ]
  },
  {
   "cell_type": "code",
   "execution_count": 3,
   "id": "e6ca0c37",
   "metadata": {},
   "outputs": [
    {
     "data": {
      "text/html": [
       "<div>\n",
       "<style scoped>\n",
       "    .dataframe tbody tr th:only-of-type {\n",
       "        vertical-align: middle;\n",
       "    }\n",
       "\n",
       "    .dataframe tbody tr th {\n",
       "        vertical-align: top;\n",
       "    }\n",
       "\n",
       "    .dataframe thead th {\n",
       "        text-align: right;\n",
       "    }\n",
       "</style>\n",
       "<table border=\"1\" class=\"dataframe\">\n",
       "  <thead>\n",
       "    <tr style=\"text-align: right;\">\n",
       "      <th></th>\n",
       "      <th>id</th>\n",
       "      <th>price</th>\n",
       "      <th>levy</th>\n",
       "      <th>manufacturer</th>\n",
       "      <th>model</th>\n",
       "      <th>prod_year</th>\n",
       "      <th>category</th>\n",
       "      <th>leather_interior</th>\n",
       "      <th>fuel_type</th>\n",
       "      <th>engine_volume</th>\n",
       "      <th>mileage</th>\n",
       "      <th>cylinders</th>\n",
       "      <th>gear_box_type</th>\n",
       "      <th>drive_wheels</th>\n",
       "      <th>doors</th>\n",
       "      <th>wheel</th>\n",
       "      <th>color</th>\n",
       "      <th>airbags</th>\n",
       "      <th>turbo</th>\n",
       "    </tr>\n",
       "  </thead>\n",
       "  <tbody>\n",
       "    <tr>\n",
       "      <th>0</th>\n",
       "      <td>45654403</td>\n",
       "      <td>13328</td>\n",
       "      <td>1399.0</td>\n",
       "      <td>lexus</td>\n",
       "      <td>rx-450</td>\n",
       "      <td>2010</td>\n",
       "      <td>jeep</td>\n",
       "      <td>yes</td>\n",
       "      <td>hybrid</td>\n",
       "      <td>3.5</td>\n",
       "      <td>186005</td>\n",
       "      <td>6</td>\n",
       "      <td>automatic</td>\n",
       "      <td>4x4</td>\n",
       "      <td>04-may</td>\n",
       "      <td>left-wheel</td>\n",
       "      <td>silver</td>\n",
       "      <td>12</td>\n",
       "      <td>False</td>\n",
       "    </tr>\n",
       "    <tr>\n",
       "      <th>1</th>\n",
       "      <td>44731507</td>\n",
       "      <td>16621</td>\n",
       "      <td>1018.0</td>\n",
       "      <td>chevrolet</td>\n",
       "      <td>equinox</td>\n",
       "      <td>2011</td>\n",
       "      <td>jeep</td>\n",
       "      <td>no</td>\n",
       "      <td>petrol</td>\n",
       "      <td>3.0</td>\n",
       "      <td>192000</td>\n",
       "      <td>6</td>\n",
       "      <td>tiptronic</td>\n",
       "      <td>4x4</td>\n",
       "      <td>04-may</td>\n",
       "      <td>left-wheel</td>\n",
       "      <td>black</td>\n",
       "      <td>8</td>\n",
       "      <td>False</td>\n",
       "    </tr>\n",
       "    <tr>\n",
       "      <th>2</th>\n",
       "      <td>45774419</td>\n",
       "      <td>8467</td>\n",
       "      <td>0.0</td>\n",
       "      <td>honda</td>\n",
       "      <td>fit</td>\n",
       "      <td>2006</td>\n",
       "      <td>hatchback</td>\n",
       "      <td>no</td>\n",
       "      <td>petrol</td>\n",
       "      <td>1.3</td>\n",
       "      <td>200000</td>\n",
       "      <td>4</td>\n",
       "      <td>variator</td>\n",
       "      <td>front</td>\n",
       "      <td>04-may</td>\n",
       "      <td>right-hand-drive</td>\n",
       "      <td>black</td>\n",
       "      <td>2</td>\n",
       "      <td>False</td>\n",
       "    </tr>\n",
       "    <tr>\n",
       "      <th>3</th>\n",
       "      <td>45769185</td>\n",
       "      <td>3607</td>\n",
       "      <td>862.0</td>\n",
       "      <td>ford</td>\n",
       "      <td>escape</td>\n",
       "      <td>2011</td>\n",
       "      <td>jeep</td>\n",
       "      <td>yes</td>\n",
       "      <td>hybrid</td>\n",
       "      <td>2.5</td>\n",
       "      <td>168966</td>\n",
       "      <td>4</td>\n",
       "      <td>automatic</td>\n",
       "      <td>4x4</td>\n",
       "      <td>04-may</td>\n",
       "      <td>left-wheel</td>\n",
       "      <td>white</td>\n",
       "      <td>0</td>\n",
       "      <td>False</td>\n",
       "    </tr>\n",
       "    <tr>\n",
       "      <th>4</th>\n",
       "      <td>45809263</td>\n",
       "      <td>11726</td>\n",
       "      <td>446.0</td>\n",
       "      <td>honda</td>\n",
       "      <td>fit</td>\n",
       "      <td>2014</td>\n",
       "      <td>hatchback</td>\n",
       "      <td>yes</td>\n",
       "      <td>petrol</td>\n",
       "      <td>1.3</td>\n",
       "      <td>91901</td>\n",
       "      <td>4</td>\n",
       "      <td>automatic</td>\n",
       "      <td>front</td>\n",
       "      <td>04-may</td>\n",
       "      <td>left-wheel</td>\n",
       "      <td>silver</td>\n",
       "      <td>4</td>\n",
       "      <td>False</td>\n",
       "    </tr>\n",
       "  </tbody>\n",
       "</table>\n",
       "</div>"
      ],
      "text/plain": [
       "         id  price    levy manufacturer    model  prod_year   category  \\\n",
       "0  45654403  13328  1399.0        lexus   rx-450       2010       jeep   \n",
       "1  44731507  16621  1018.0    chevrolet  equinox       2011       jeep   \n",
       "2  45774419   8467     0.0        honda      fit       2006  hatchback   \n",
       "3  45769185   3607   862.0         ford   escape       2011       jeep   \n",
       "4  45809263  11726   446.0        honda      fit       2014  hatchback   \n",
       "\n",
       "  leather_interior fuel_type  engine_volume  mileage  cylinders gear_box_type  \\\n",
       "0              yes    hybrid            3.5   186005          6     automatic   \n",
       "1               no    petrol            3.0   192000          6     tiptronic   \n",
       "2               no    petrol            1.3   200000          4      variator   \n",
       "3              yes    hybrid            2.5   168966          4     automatic   \n",
       "4              yes    petrol            1.3    91901          4     automatic   \n",
       "\n",
       "  drive_wheels   doors             wheel   color  airbags  turbo  \n",
       "0          4x4  04-may        left-wheel  silver       12  False  \n",
       "1          4x4  04-may        left-wheel   black        8  False  \n",
       "2        front  04-may  right-hand-drive   black        2  False  \n",
       "3          4x4  04-may        left-wheel   white        0  False  \n",
       "4        front  04-may        left-wheel  silver        4  False  "
      ]
     },
     "execution_count": 3,
     "metadata": {},
     "output_type": "execute_result"
    }
   ],
   "source": [
    "# Function to normalize text\n",
    "def normalize_text(s):\n",
    "    if pd.isna(s):\n",
    "        return s\n",
    "    s = str(s).strip().lower()        # lowercase and strip spaces\n",
    "    s = s.replace(' ', '-')           # replace spaces with '-'\n",
    "    return s\n",
    "\n",
    "# Apply to all object columns\n",
    "for col in df.select_dtypes(include='object').columns:\n",
    "    df[col] = df[col].apply(normalize_text)\n",
    "\n",
    "# Quick check\n",
    "df.head()"
   ]
  },
  {
   "cell_type": "code",
   "execution_count": 4,
   "id": "4710c809",
   "metadata": {},
   "outputs": [
    {
     "name": "stdout",
     "output_type": "stream",
     "text": [
      "+------------------+----------------+---------+\n",
      "|      Column      | Non-Null Count |  Dtype  |\n",
      "+------------------+----------------+---------+\n",
      "|        id        |     15697      |  int64  |\n",
      "|      price       |     15697      |  int64  |\n",
      "|       levy       |     15697      | float64 |\n",
      "|   manufacturer   |     15697      |  object |\n",
      "|      model       |     15697      |  object |\n",
      "|    prod_year     |     15697      |  int64  |\n",
      "|     category     |     15697      |  object |\n",
      "| leather_interior |     15697      |  object |\n",
      "|    fuel_type     |     15697      |  object |\n",
      "|  engine_volume   |     15697      | float64 |\n",
      "|     mileage      |     15697      |  int64  |\n",
      "|    cylinders     |     15697      |  int64  |\n",
      "|  gear_box_type   |     15697      |  object |\n",
      "|   drive_wheels   |     15697      |  object |\n",
      "|      doors       |     15697      |  object |\n",
      "|      wheel       |     15697      |  object |\n",
      "|      color       |     15697      |  object |\n",
      "|     airbags      |     15697      |  int64  |\n",
      "|      turbo       |     15697      |   bool  |\n",
      "+------------------+----------------+---------+\n"
     ]
    }
   ],
   "source": [
    "# Prints the name of each column in the dataset, the number of non-null values it contains, and its data type.\n",
    "def df_info(df):\n",
    "    table = PrettyTable()\n",
    "    table.field_names = [\"Column\", \"Non-Null Count\", \"Dtype\"]\n",
    "\n",
    "    for col in df.columns:\n",
    "        non_null_count = df[col].count()\n",
    "        dtype = df[col].dtype\n",
    "        table.add_row([col, non_null_count, dtype])\n",
    "\n",
    "    print(table)\n",
    "\n",
    "df_info(df)"
   ]
  },
  {
   "cell_type": "markdown",
   "id": "4de221f4",
   "metadata": {},
   "source": [
    "💡 **Observations:**  \n",
    "- The data set appears unchanged and matches the previously saved version."
   ]
  },
  {
   "cell_type": "markdown",
   "id": "a58029d9",
   "metadata": {},
   "source": [
    "Le't start..."
   ]
  },
  {
   "cell_type": "markdown",
   "id": "8057624c",
   "metadata": {},
   "source": [
    "# **Deterministic cleaning & derived column**\n",
    "Doing before train/test split because cause no target leakage"
   ]
  },
  {
   "cell_type": "markdown",
   "id": "48b0ae6a",
   "metadata": {},
   "source": [
    "## `doors` column"
   ]
  },
  {
   "cell_type": "markdown",
   "id": "a8f0347e",
   "metadata": {},
   "source": [
    "> 🧩 Standardize to two representations:\n",
    "> - `doors_count` numeric: 2, 4, 6 (use 6 as proxy for >5)\n",
    "> - `doors_cat` original categorical for interactions"
   ]
  },
  {
   "cell_type": "code",
   "execution_count": 5,
   "id": "e63fdc6f",
   "metadata": {},
   "outputs": [
    {
     "name": "stdout",
     "output_type": "stream",
     "text": [
      "✅ created doors_count column.\n"
     ]
    },
    {
     "data": {
      "text/plain": [
       "doors_count\n",
       "4    14835\n",
       "2      738\n",
       "6      124\n",
       "Name: count, dtype: int64"
      ]
     },
     "execution_count": 5,
     "metadata": {},
     "output_type": "execute_result"
    }
   ],
   "source": [
    "def doors_to_count(s):\n",
    "    if pd.isna(s): return np.nan\n",
    "    s = str(s).lower()\n",
    "    if '02' in s or '02-mar' in s: return 2\n",
    "    if '04' in s or '04-may' in s: return 4\n",
    "    if '>' in s or '>5' in s: return 6\n",
    "    # fallback: try to extract first number\n",
    "    import re\n",
    "    m = re.search(r'\\d+', s)  # fallback: extract first number in the string\n",
    "    return int(m.group()) if m else np.nan\n",
    "\n",
    "df['doors_count'] = df['doors'].apply(doors_to_count)\n",
    "print(f\"✅ created doors_count column.\")\n",
    "df['doors_count'].value_counts()\n"
   ]
  },
  {
   "cell_type": "code",
   "execution_count": 6,
   "id": "3904f6b7",
   "metadata": {},
   "outputs": [
    {
     "name": "stdout",
     "output_type": "stream",
     "text": [
      "✅ created doors_cat column.\n"
     ]
    },
    {
     "data": {
      "text/plain": [
       "doors_cat\n",
       "4-5    14835\n",
       "2-3      738\n",
       ">5       124\n",
       "Name: count, dtype: int64"
      ]
     },
     "execution_count": 6,
     "metadata": {},
     "output_type": "execute_result"
    }
   ],
   "source": [
    "# Mapping dictionary\n",
    "doors_map = {\n",
    "    '02-mar': '2-3',\n",
    "    '04-may': '4-5',\n",
    "    '>5': '>5'\n",
    "}\n",
    "\n",
    "# Apply mapping\n",
    "df['doors_cat'] = df['doors'].map(doors_map).fillna(df['doors'])\n",
    "print(f\"✅ created doors_cat column.\")\n",
    "df['doors_cat'].value_counts()"
   ]
  },
  {
   "cell_type": "markdown",
   "id": "986b65c2",
   "metadata": {},
   "source": [
    "## `Cylinders` column"
   ]
  },
  {
   "cell_type": "markdown",
   "id": "069c5b62",
   "metadata": {},
   "source": [
    "> 🧩 grouping into buckets  \n",
    "> 🧩 Ordinal encoding. start with `1`\n"
   ]
  },
  {
   "cell_type": "code",
   "execution_count": 7,
   "id": "aa107f46",
   "metadata": {},
   "outputs": [
    {
     "name": "stdout",
     "output_type": "stream",
     "text": [
      "✅ created cylinder_group column.\n"
     ]
    },
    {
     "data": {
      "text/plain": [
       "cylinder_group\n",
       "3-4    12372\n",
       "5-8     3196\n",
       "1-2       78\n",
       ">8        51\n",
       "Name: count, dtype: int64"
      ]
     },
     "execution_count": 7,
     "metadata": {},
     "output_type": "execute_result"
    }
   ],
   "source": [
    "def cylinder_group(x):\n",
    "    if pd.isna(x): return np.nan\n",
    "    if x <= 2: return '1-2'\n",
    "    if 3 <= x <= 4: return '3-4'\n",
    "    if 5 <= x <= 8: return '5-8'\n",
    "    return '>8'\n",
    "\n",
    "df['cylinder_group'] = df['cylinders'].apply(cylinder_group)\n",
    "print(f\"✅ created cylinder_group column.\")\n",
    "df['cylinder_group'].value_counts()\n"
   ]
  },
  {
   "cell_type": "code",
   "execution_count": 8,
   "id": "c1e61d00",
   "metadata": {},
   "outputs": [
    {
     "name": "stdout",
     "output_type": "stream",
     "text": [
      "✅ created cylinder_group_ord column.\n",
      "\n",
      "  cylinder_group  cylinder_group_ord\n",
      "0            5-8                   3\n",
      "1            5-8                   3\n",
      "2            3-4                   2\n",
      "3            3-4                   2\n",
      "4            3-4                   2\n"
     ]
    }
   ],
   "source": [
    "# Define the order\n",
    "cylinder_order = ['1-2', '3-4', '5-8', '>8']\n",
    "\n",
    "# Map to ordinal numbers\n",
    "df['cylinder_group_ord'] = df['cylinder_group'].map({k: i+1 for i, k in enumerate(cylinder_order)})\n",
    "\n",
    "print(f\"✅ created cylinder_group_ord column.\\n\")\n",
    "print(df[['cylinder_group', 'cylinder_group_ord']].head())\n"
   ]
  },
  {
   "cell_type": "markdown",
   "id": "7b56ae71",
   "metadata": {},
   "source": [
    "## `Airbags` column"
   ]
  },
  {
   "cell_type": "markdown",
   "id": "b50b9ee0",
   "metadata": {},
   "source": [
    "> 🧩 Grouping ['0','1-2','3-4','5-8','>8']  \n",
    "> 🧩 Ordinal Encoding. start with `0`"
   ]
  },
  {
   "cell_type": "code",
   "execution_count": 9,
   "id": "88f3b9e0",
   "metadata": {},
   "outputs": [
    {
     "name": "stdout",
     "output_type": "stream",
     "text": [
      "✅ created airbags_group column.\n"
     ]
    },
    {
     "data": {
      "text/plain": [
       "airbags_group\n",
       "3-4    5141\n",
       ">8     5019\n",
       "5-8    3040\n",
       "0      1378\n",
       "1-2    1119\n",
       "Name: count, dtype: int64"
      ]
     },
     "execution_count": 9,
     "metadata": {},
     "output_type": "execute_result"
    }
   ],
   "source": [
    "# Function to group airbags\n",
    "def airbags_group(n):\n",
    "    if pd.isna(n):  # handle missing values\n",
    "        return np.nan\n",
    "    if n == 0:\n",
    "        return '0'\n",
    "    if 1 <= n <= 2:\n",
    "        return '1-2'\n",
    "    if 3 <= n <= 4:\n",
    "        return '3-4'\n",
    "    if 5 <= n <= 8:\n",
    "        return '5-8'\n",
    "    return '>8'\n",
    "\n",
    "# Apply to datset\n",
    "df['airbags_group'] = df['airbags'].apply(airbags_group)\n",
    "print(f\"✅ created airbags_group column.\")\n",
    "df['airbags_group'].value_counts()\n"
   ]
  },
  {
   "cell_type": "code",
   "execution_count": 10,
   "id": "b49f1a0f",
   "metadata": {},
   "outputs": [
    {
     "name": "stdout",
     "output_type": "stream",
     "text": [
      "✅ created airbags_group_ord column.\n",
      "\n",
      "  airbags_group  airbags_group_ord\n",
      "0            >8                  4\n",
      "1           5-8                  3\n",
      "2           1-2                  1\n",
      "3             0                  0\n",
      "4           3-4                  2\n"
     ]
    }
   ],
   "source": [
    "airbags_order = ['0', '1-2', '3-4', '5-8', '>8']  # define order\n",
    "\n",
    "# ordinal encoding\n",
    "df['airbags_group_ord'] = df['airbags_group'].map({k: i for i, k in enumerate(airbags_order)})\n",
    "\n",
    "print(f\"✅ created airbags_group_ord column.\\n\")\n",
    "print(df[['airbags_group', 'airbags_group_ord']].head())\n"
   ]
  },
  {
   "cell_type": "markdown",
   "id": "64ef1daa",
   "metadata": {},
   "source": [
    "## `Car Age` column"
   ]
  },
  {
   "cell_type": "markdown",
   "id": "ec6263de",
   "metadata": {},
   "source": [
    "> 🧩 current_year - prod_year"
   ]
  },
  {
   "cell_type": "code",
   "execution_count": 11,
   "id": "306e997d",
   "metadata": {},
   "outputs": [
    {
     "name": "stdout",
     "output_type": "stream",
     "text": [
      "✅ created car_age column.\n",
      "count    15697.000000\n",
      "mean        14.410015\n",
      "std          5.697194\n",
      "min          5.000000\n",
      "25%         11.000000\n",
      "50%         13.000000\n",
      "75%         17.000000\n",
      "max         45.000000\n",
      "Name: car_age, dtype: float64\n"
     ]
    }
   ],
   "source": [
    "import datetime\n",
    "\n",
    "current_year = datetime.datetime.now().year  # get current year\n",
    "\n",
    "df['car_age'] = current_year - df['prod_year']\n",
    "\n",
    "print(f\"✅ created car_age column.\")\n",
    "# check for negative or weird values\n",
    "print(df['car_age'].describe())\n"
   ]
  },
  {
   "cell_type": "markdown",
   "id": "5138e4b4",
   "metadata": {},
   "source": [
    "## `leather_interior` column"
   ]
  },
  {
   "cell_type": "markdown",
   "id": "46888102",
   "metadata": {},
   "source": [
    "> 🧩 create `has_leather` binary : Directly captures the positive price effect of leather."
   ]
  },
  {
   "cell_type": "code",
   "execution_count": 12,
   "id": "63977b1d",
   "metadata": {},
   "outputs": [
    {
     "name": "stdout",
     "output_type": "stream",
     "text": [
      "✅ created has_leather column.\n",
      "\n",
      "leather_interior  has_leather\n",
      "yes               1              10547\n",
      "no                0               5150\n",
      "Name: count, dtype: int64\n"
     ]
    }
   ],
   "source": [
    "# Function map has_leather\n",
    "def has_leather(x):\n",
    "    if pd.isna(x):\n",
    "        return 0 \n",
    "    if str(x).strip().lower() in ['yes']:\n",
    "        return 1\n",
    "    return 0\n",
    "\n",
    "# Apply to df\n",
    "df['has_leather'] = df['leather_interior'].apply(has_leather)\n",
    "\n",
    "print(f\"✅ created has_leather column.\\n\")\n",
    "\n",
    "# Quick check\n",
    "print(df[['leather_interior', 'has_leather']].value_counts())\n"
   ]
  },
  {
   "cell_type": "markdown",
   "id": "4b9875b9",
   "metadata": {},
   "source": [
    "## `fuel_type` column"
   ]
  },
  {
   "cell_type": "markdown",
   "id": "a981fbea",
   "metadata": {},
   "source": [
    "> 🧩 Grouping: [petrol, diesel, hybrid, lpg] "
   ]
  },
  {
   "cell_type": "code",
   "execution_count": 13,
   "id": "53a7c077",
   "metadata": {},
   "outputs": [
    {
     "data": {
      "text/plain": [
       "fuel_type\n",
       "petrol            8801\n",
       "diesel            3206\n",
       "hybrid            2424\n",
       "lpg                714\n",
       "cng                466\n",
       "plug-in-hybrid      85\n",
       "hydrogen             1\n",
       "Name: count, dtype: int64"
      ]
     },
     "execution_count": 13,
     "metadata": {},
     "output_type": "execute_result"
    }
   ],
   "source": [
    "df['fuel_type'].value_counts()"
   ]
  },
  {
   "cell_type": "code",
   "execution_count": 14,
   "id": "0d872e58",
   "metadata": {},
   "outputs": [
    {
     "name": "stdout",
     "output_type": "stream",
     "text": [
      "✅ created fuel_bin column.\n",
      "\n",
      "fuel_bin\n",
      "petrol    8801\n",
      "diesel    3206\n",
      "hybrid    2509\n",
      "lpg       1181\n",
      "Name: count, dtype: int64\n"
     ]
    }
   ],
   "source": [
    "fuel_bins = {\n",
    "    'petrol': 'petrol',\n",
    "    'diesel': 'diesel',\n",
    "    'hybrid': 'hybrid',\n",
    "    'plug-in-hybrid': 'hybrid',\n",
    "    'lpg': 'lpg',\n",
    "    'cng': 'lpg',\n",
    "    'hydrogen': 'lpg'\n",
    "}\n",
    "\n",
    "df['fuel_bin'] = df['fuel_type'].str.strip().str.lower().map(fuel_bins)\n",
    "\n",
    "# Check counts\n",
    "\n",
    "print(f\"✅ created fuel_bin column.\\n\")\n",
    "print(df['fuel_bin'].value_counts())\n"
   ]
  },
  {
   "cell_type": "markdown",
   "id": "29c6bfa5",
   "metadata": {},
   "source": [
    "## `color` column"
   ]
  },
  {
   "cell_type": "markdown",
   "id": "4d4309b2",
   "metadata": {},
   "source": [
    "> 🧩 create feature `is_common_color` : [black/white/silver/grey/blue/red]  \n"
   ]
  },
  {
   "cell_type": "code",
   "execution_count": 15,
   "id": "343ffbb9",
   "metadata": {},
   "outputs": [
    {
     "name": "stdout",
     "output_type": "stream",
     "text": [
      "✅ created is_common_color column.\n",
      "\n",
      "color          is_common_color\n",
      "black          1                  3832\n",
      "white          1                  3605\n",
      "silver         1                  3146\n",
      "grey           1                  1918\n",
      "blue           1                  1245\n",
      "red            1                   564\n",
      "green          0                   286\n",
      "orange         0                   204\n",
      "carnelian-red  0                   177\n",
      "brown          0                   171\n",
      "golden         0                   142\n",
      "beige          0                   132\n",
      "sky-blue       0                   119\n",
      "yellow         0                    92\n",
      "purple         0                    39\n",
      "pink           0                    25\n",
      "Name: count, dtype: int64\n"
     ]
    }
   ],
   "source": [
    "# Define common colors\n",
    "common_colors = ['black', 'white', 'silver', 'grey', 'blue', 'red']\n",
    "\n",
    "# Function to check if color is common\n",
    "def is_common_color_func(color):\n",
    "    if pd.isna(color):\n",
    "        return 0\n",
    "    return 1 if str(color).strip().lower() in common_colors else 0\n",
    "\n",
    "# Apply to df\n",
    "df['is_common_color'] = df['color'].apply(is_common_color_func)\n",
    "\n",
    "\n",
    "print(f\"✅ created is_common_color column.\\n\")\n",
    "\n",
    "# Quick check\n",
    "print(df[['color', 'is_common_color']].value_counts())\n"
   ]
  },
  {
   "cell_type": "markdown",
   "id": "d399f4a9",
   "metadata": {},
   "source": [
    "## `category` column"
   ]
  },
  {
   "cell_type": "markdown",
   "id": "5991bff9",
   "metadata": {},
   "source": [
    "> 🧩 Domain Mapping: map `categories` into `luxury`, `utility`, `family`.  \n",
    "> 🧩 Create `category_simple` column."
   ]
  },
  {
   "cell_type": "code",
   "execution_count": 17,
   "id": "1f091fa7",
   "metadata": {},
   "outputs": [
    {
     "name": "stdout",
     "output_type": "stream",
     "text": [
      "✅ created domain column.\n",
      "\n",
      "domain\n",
      "utility    4270\n",
      "family      829\n",
      "luxury      514\n",
      "Name: count, dtype: int64\n"
     ]
    }
   ],
   "source": [
    "# define mappings\n",
    "domain_map = {\n",
    "    'jeep': 'utility', \n",
    "    'pickup': 'utility',\n",
    "    'goods wagon': 'utility',\n",
    "    'limousine': 'luxury',\n",
    "    'cabriolet': 'luxury',\n",
    "    'coupe': 'luxury',\n",
    "    'minivan': 'family',\n",
    "    'microbus': 'family'\n",
    "}\n",
    "\n",
    "# Apply mapping\n",
    "df['domain'] = df['category'].str.strip().str.lower().map(domain_map)\n",
    "\n",
    "\n",
    "print(f\"✅ created domain column.\\n\")\n",
    "\n",
    "# Quick check\n",
    "print(df['domain'].value_counts())\n",
    "\n"
   ]
  },
  {
   "cell_type": "code",
   "execution_count": 18,
   "id": "82a8954b",
   "metadata": {},
   "outputs": [
    {
     "name": "stdout",
     "output_type": "stream",
     "text": [
      "✅ created category_simple column.\n",
      "\n",
      "category_simple\n",
      "suv    4270\n",
      "van     829\n",
      "car     514\n",
      "Name: count, dtype: int64\n"
     ]
    }
   ],
   "source": [
    "category_map = {\n",
    "    # SUVs / off-road\n",
    "    'jeep': 'suv',\n",
    "    'suv': 'suv',\n",
    "    'pickup': 'suv',\n",
    "    'goods wagon': 'suv',\n",
    "    \n",
    "    # Luxury / passenger cars\n",
    "    'limousine': 'car',\n",
    "    'cabriolet': 'car',\n",
    "    'coupe': 'car',\n",
    "    \n",
    "    # Family / vans\n",
    "    'minivan': 'van',\n",
    "    'microbus': 'van'\n",
    "}\n",
    "\n",
    "df['category_simple'] = df['category'].str.strip().str.lower().map(category_map)\n",
    "\n",
    "print(f\"✅ created category_simple column.\\n\")\n",
    "\n",
    "# Quick check\n",
    "print(df['category_simple'].value_counts())\n"
   ]
  },
  {
   "cell_type": "markdown",
   "id": "b9e9dd90",
   "metadata": {},
   "source": [
    "## `engine_volume` × `Turbo` columns"
   ]
  },
  {
   "cell_type": "markdown",
   "id": "bf535204",
   "metadata": {},
   "source": [
    "> 🧩 create `engine_turbo`column : `engine_volume` * `turbo_flag`"
   ]
  },
  {
   "cell_type": "code",
   "execution_count": 19,
   "id": "d810c316",
   "metadata": {},
   "outputs": [],
   "source": [
    "# Make sure these columns exist and are numeric\n",
    "df['engine_volume'] = pd.to_numeric(df['engine_volume'], errors='coerce')\n"
   ]
  },
  {
   "cell_type": "code",
   "execution_count": 31,
   "id": "e7f3cbaf",
   "metadata": {},
   "outputs": [
    {
     "name": "stdout",
     "output_type": "stream",
     "text": [
      "✅ created engine_turbo column.\n",
      "\n",
      "       engine_volume  turbo  engine_turbo\n",
      "15692            1.8  False           0.0\n",
      "15693            2.0   True           2.0\n",
      "15694            2.4  False           0.0\n",
      "15695            2.0  False           0.0\n",
      "15696            2.4  False           0.0\n"
     ]
    }
   ],
   "source": [
    "# Create the interaction feature\n",
    "df['engine_turbo'] = df['engine_volume'] * df['turbo']\n",
    "\n",
    "print(f\"✅ created engine_turbo column.\\n\")\n",
    "\n",
    "print(df[['engine_volume', 'turbo', 'engine_turbo']].tail())"
   ]
  },
  {
   "cell_type": "markdown",
   "id": "32452ecc",
   "metadata": {},
   "source": [
    "## `doors_count` and `domain` columns"
   ]
  },
  {
   "cell_type": "markdown",
   "id": "d182f22a",
   "metadata": {},
   "source": [
    "> 🧩 interactions between categorical variables `doors_count` and `domain`."
   ]
  },
  {
   "cell_type": "code",
   "execution_count": 36,
   "id": "cbcd13e4",
   "metadata": {},
   "outputs": [
    {
     "name": "stdout",
     "output_type": "stream",
     "text": [
      "✅ created doors_domain column.\n",
      "\n",
      "doors_count  domain   doors_domain\n",
      "4            utility  4_utility       4146\n",
      "             family   4_family         696\n",
      "2            luxury   2_luxury         365\n",
      "Name: count, dtype: int64\n"
     ]
    }
   ],
   "source": [
    "# create doors_domain feature\n",
    "df['doors_domain'] = df['doors_count'].astype(str) + '_' + df['domain'].astype(str)\n",
    "\n",
    "print(f\"✅ created doors_domain column.\\n\")\n",
    "\n",
    "# Quick check\n",
    "print(df[['doors_count', 'domain', 'doors_domain']].value_counts().head(3))\n"
   ]
  }
 ],
 "metadata": {
  "kernelspec": {
   "display_name": "Python 3 (ipykernel)",
   "language": "python",
   "name": "python3"
  },
  "language_info": {
   "codemirror_mode": {
    "name": "ipython",
    "version": 3
   },
   "file_extension": ".py",
   "mimetype": "text/x-python",
   "name": "python",
   "nbconvert_exporter": "python",
   "pygments_lexer": "ipython3",
   "version": "3.10.18"
  }
 },
 "nbformat": 4,
 "nbformat_minor": 5
}
