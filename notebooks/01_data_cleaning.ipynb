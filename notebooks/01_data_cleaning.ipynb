{
  "cells": [
    {
      "cell_type": "markdown",
      "metadata": {
        "colab_type": "text",
        "id": "view-in-github"
      },
      "source": [
        "<a href=\"https://colab.research.google.com/github/Mithula-cbw/Car-Price-Prediction/blob/main/notebooks/01_data_cleaning.ipynb\" target=\"_parent\"><img src=\"https://colab.research.google.com/assets/colab-badge.svg\" alt=\"Open In Colab\"/></a>"
      ]
    },
    {
      "cell_type": "markdown",
      "metadata": {
        "id": "YqoPBp4tM8hF"
      },
      "source": [
        "# **Car Price Prediction Using Machine Learning**\n",
        "\n",
        "Group Assignment 02 - CCS3012 - Data Analytics"
      ]
    },
    {
      "cell_type": "markdown",
      "metadata": {
        "id": "2cCzAgmdLlgz"
      },
      "source": [
        "---\n",
        "\n",
        "### **Group 11**\n",
        "-  **FC211034 - N.D. Samararathne Kodikara**\n",
        "-  **FC211013 - N.W.V. Tharindu Pabasara**\n",
        "-  **FC211025 - W.M.M.C.B. Wijesundara**\n",
        "\n",
        "\n",
        "\n",
        "---"
      ]
    },
    {
      "cell_type": "markdown",
      "metadata": {
        "id": "0W6jKrDUMba8"
      },
      "source": [
        "### **Supervisor**\n",
        "**Ms. Dilmi Praveena**  \n",
        "*Faculty of Computing*  \n",
        "*University of Sri Jayewardenepura*\n",
        "\n",
        "---\n"
      ]
    },
    {
      "cell_type": "markdown",
      "metadata": {
        "id": "V0yEETRBKfx5"
      },
      "source": [
        "# Exploratory Data Analysis for Car Price Prediction\n",
        "\n",
        "In this notebook, we explore the structure and characteristics of the used car dataset to better understand the factors influencing vehicle pricing. This initial analysis includes inspecting data types, handling missing values, visualizing distributions, and identifying potential outliers and correlations. These insights will guide feature selection and model development in subsequent stages.\n"
      ]
    },
    {
      "cell_type": "markdown",
      "metadata": {
        "id": "NiQGvPwtwhcA"
      },
      "source": [
        "> 📌   **Objective summery**\n",
        "- Understand the structure dataset.\n",
        "- Explore the distribution of numerical and categorical features.\n",
        "- Identify missing values, outliers, and data inconsistencies.\n",
        "- Discover relationships between features and the target variable (Price).\n",
        "- Generate insights to support effective preprocessing and cleaning.\n"
      ]
    },
    {
      "cell_type": "code",
      "execution_count": 1,
      "metadata": {
        "id": "4mpCEpnzLit4"
      },
      "outputs": [],
      "source": [
        "#First we have to Import necessary libraries for data manipulation and visualization.\n",
        "\n",
        "# Data Manipulation and Utilities\n",
        "import pandas as pd     # For data manipulation and analysis.\n",
        "import numpy as np      # For numerical operations.\n",
        "import re               # For regular expressions.\n",
        "import warnings         # For managing warnings.\n",
        "\n",
        "# Data Visualization\n",
        "import matplotlib.pyplot as plt     # For basic data visualization.\n",
        "import seaborn as sns               # For statistical data visualization."
      ]
    },
    {
      "cell_type": "code",
      "execution_count": 2,
      "metadata": {
        "id": "qdy44m3vPb4u"
      },
      "outputs": [],
      "source": [
        "# Next we load the dataset.\n",
        "df = pd.read_csv(\"./Data/raw/car_price_prediction.csv\")"
      ]
    },
    {
      "cell_type": "code",
      "execution_count": 3,
      "metadata": {
        "colab": {
          "base_uri": "https://localhost:8080/",
          "height": 348
        },
        "id": "b4aCBjh4P9Wa",
        "outputId": "442b37ae-9f8a-430c-ebff-5311e87b9f13"
      },
      "outputs": [
        {
          "data": {
            "text/html": [
              "<div>\n",
              "<style scoped>\n",
              "    .dataframe tbody tr th:only-of-type {\n",
              "        vertical-align: middle;\n",
              "    }\n",
              "\n",
              "    .dataframe tbody tr th {\n",
              "        vertical-align: top;\n",
              "    }\n",
              "\n",
              "    .dataframe thead th {\n",
              "        text-align: right;\n",
              "    }\n",
              "</style>\n",
              "<table border=\"1\" class=\"dataframe\">\n",
              "  <thead>\n",
              "    <tr style=\"text-align: right;\">\n",
              "      <th></th>\n",
              "      <th>ID</th>\n",
              "      <th>Price</th>\n",
              "      <th>Levy</th>\n",
              "      <th>Manufacturer</th>\n",
              "      <th>Model</th>\n",
              "      <th>Prod. year</th>\n",
              "      <th>Category</th>\n",
              "      <th>Leather interior</th>\n",
              "      <th>Fuel type</th>\n",
              "      <th>Engine volume</th>\n",
              "      <th>Mileage</th>\n",
              "      <th>Cylinders</th>\n",
              "      <th>Gear box type</th>\n",
              "      <th>Drive wheels</th>\n",
              "      <th>Doors</th>\n",
              "      <th>Wheel</th>\n",
              "      <th>Color</th>\n",
              "      <th>Airbags</th>\n",
              "    </tr>\n",
              "  </thead>\n",
              "  <tbody>\n",
              "    <tr>\n",
              "      <th>0</th>\n",
              "      <td>45654403</td>\n",
              "      <td>13328</td>\n",
              "      <td>1399</td>\n",
              "      <td>LEXUS</td>\n",
              "      <td>RX 450</td>\n",
              "      <td>2010</td>\n",
              "      <td>Jeep</td>\n",
              "      <td>Yes</td>\n",
              "      <td>Hybrid</td>\n",
              "      <td>3.5</td>\n",
              "      <td>186005 km</td>\n",
              "      <td>6.0</td>\n",
              "      <td>Automatic</td>\n",
              "      <td>4x4</td>\n",
              "      <td>04-May</td>\n",
              "      <td>Left wheel</td>\n",
              "      <td>Silver</td>\n",
              "      <td>12</td>\n",
              "    </tr>\n",
              "    <tr>\n",
              "      <th>1</th>\n",
              "      <td>44731507</td>\n",
              "      <td>16621</td>\n",
              "      <td>1018</td>\n",
              "      <td>CHEVROLET</td>\n",
              "      <td>Equinox</td>\n",
              "      <td>2011</td>\n",
              "      <td>Jeep</td>\n",
              "      <td>No</td>\n",
              "      <td>Petrol</td>\n",
              "      <td>3</td>\n",
              "      <td>192000 km</td>\n",
              "      <td>6.0</td>\n",
              "      <td>Tiptronic</td>\n",
              "      <td>4x4</td>\n",
              "      <td>04-May</td>\n",
              "      <td>Left wheel</td>\n",
              "      <td>Black</td>\n",
              "      <td>8</td>\n",
              "    </tr>\n",
              "    <tr>\n",
              "      <th>2</th>\n",
              "      <td>45774419</td>\n",
              "      <td>8467</td>\n",
              "      <td>-</td>\n",
              "      <td>HONDA</td>\n",
              "      <td>FIT</td>\n",
              "      <td>2006</td>\n",
              "      <td>Hatchback</td>\n",
              "      <td>No</td>\n",
              "      <td>Petrol</td>\n",
              "      <td>1.3</td>\n",
              "      <td>200000 km</td>\n",
              "      <td>4.0</td>\n",
              "      <td>Variator</td>\n",
              "      <td>Front</td>\n",
              "      <td>04-May</td>\n",
              "      <td>Right-hand drive</td>\n",
              "      <td>Black</td>\n",
              "      <td>2</td>\n",
              "    </tr>\n",
              "    <tr>\n",
              "      <th>3</th>\n",
              "      <td>45769185</td>\n",
              "      <td>3607</td>\n",
              "      <td>862</td>\n",
              "      <td>FORD</td>\n",
              "      <td>Escape</td>\n",
              "      <td>2011</td>\n",
              "      <td>Jeep</td>\n",
              "      <td>Yes</td>\n",
              "      <td>Hybrid</td>\n",
              "      <td>2.5</td>\n",
              "      <td>168966 km</td>\n",
              "      <td>4.0</td>\n",
              "      <td>Automatic</td>\n",
              "      <td>4x4</td>\n",
              "      <td>04-May</td>\n",
              "      <td>Left wheel</td>\n",
              "      <td>White</td>\n",
              "      <td>0</td>\n",
              "    </tr>\n",
              "    <tr>\n",
              "      <th>4</th>\n",
              "      <td>45809263</td>\n",
              "      <td>11726</td>\n",
              "      <td>446</td>\n",
              "      <td>HONDA</td>\n",
              "      <td>FIT</td>\n",
              "      <td>2014</td>\n",
              "      <td>Hatchback</td>\n",
              "      <td>Yes</td>\n",
              "      <td>Petrol</td>\n",
              "      <td>1.3</td>\n",
              "      <td>91901 km</td>\n",
              "      <td>4.0</td>\n",
              "      <td>Automatic</td>\n",
              "      <td>Front</td>\n",
              "      <td>04-May</td>\n",
              "      <td>Left wheel</td>\n",
              "      <td>Silver</td>\n",
              "      <td>4</td>\n",
              "    </tr>\n",
              "  </tbody>\n",
              "</table>\n",
              "</div>"
            ],
            "text/plain": [
              "         ID  Price  Levy Manufacturer    Model  Prod. year   Category  \\\n",
              "0  45654403  13328  1399        LEXUS   RX 450        2010       Jeep   \n",
              "1  44731507  16621  1018    CHEVROLET  Equinox        2011       Jeep   \n",
              "2  45774419   8467     -        HONDA      FIT        2006  Hatchback   \n",
              "3  45769185   3607   862         FORD   Escape        2011       Jeep   \n",
              "4  45809263  11726   446        HONDA      FIT        2014  Hatchback   \n",
              "\n",
              "  Leather interior Fuel type Engine volume    Mileage  Cylinders  \\\n",
              "0              Yes    Hybrid           3.5  186005 km        6.0   \n",
              "1               No    Petrol             3  192000 km        6.0   \n",
              "2               No    Petrol           1.3  200000 km        4.0   \n",
              "3              Yes    Hybrid           2.5  168966 km        4.0   \n",
              "4              Yes    Petrol           1.3   91901 km        4.0   \n",
              "\n",
              "  Gear box type Drive wheels   Doors             Wheel   Color  Airbags  \n",
              "0     Automatic          4x4  04-May        Left wheel  Silver       12  \n",
              "1     Tiptronic          4x4  04-May        Left wheel   Black        8  \n",
              "2      Variator        Front  04-May  Right-hand drive   Black        2  \n",
              "3     Automatic          4x4  04-May        Left wheel   White        0  \n",
              "4     Automatic        Front  04-May        Left wheel  Silver        4  "
            ]
          },
          "execution_count": 3,
          "metadata": {},
          "output_type": "execute_result"
        }
      ],
      "source": [
        "# Prints the first 5 rows of the DataFrame (Provides a quick look at the dataset's content).\n",
        "df.head()"
      ]
    },
    {
      "cell_type": "markdown",
      "metadata": {
        "id": "mEtPOvTgwMhI"
      },
      "source": [
        "💡 **Observations:**  \n",
        "All the column names appear to be readable and meaningful.  \n",
        "At first glance, the Doors column shows inconsistencies such as entries like \"04-May,\" indicating data quality issues. The Levy column also contains missing values marked by dashes (-). Overall, the dataset features a mix of numerical and categorical variables that will require cleaning before analysis.\n"
      ]
    },
    {
      "cell_type": "code",
      "execution_count": 4,
      "metadata": {
        "colab": {
          "base_uri": "https://localhost:8080/"
        },
        "id": "7XfjWemd0jua",
        "outputId": "f2afdfc0-7896-4dd1-cbc6-4b470c309207"
      },
      "outputs": [
        {
          "data": {
            "text/plain": [
              "(19237, 18)"
            ]
          },
          "execution_count": 4,
          "metadata": {},
          "output_type": "execute_result"
        }
      ],
      "source": [
        "# Find the dimensions of the dataset\n",
        "df.shape"
      ]
    },
    {
      "cell_type": "markdown",
      "metadata": {
        "id": "5VKREQ211EvT"
      },
      "source": [
        "📝 The dataset contains 19,237 rows and 18 columns."
      ]
    },
    {
      "cell_type": "code",
      "execution_count": 5,
      "metadata": {
        "colab": {
          "base_uri": "https://localhost:8080/"
        },
        "id": "Uxbx3Xls1XxF",
        "outputId": "955a16a8-0e7e-4bf9-a05b-3e37c4c85193"
      },
      "outputs": [
        {
          "name": "stdout",
          "output_type": "stream",
          "text": [
            "+------------------+----------------+---------+\n",
            "|      Column      | Non-Null Count |  Dtype  |\n",
            "+------------------+----------------+---------+\n",
            "|        ID        |     19237      |  int64  |\n",
            "|      Price       |     19237      |  int64  |\n",
            "|       Levy       |     19237      |  object |\n",
            "|   Manufacturer   |     19237      |  object |\n",
            "|      Model       |     19237      |  object |\n",
            "|    Prod. year    |     19237      |  int64  |\n",
            "|     Category     |     19237      |  object |\n",
            "| Leather interior |     19237      |  object |\n",
            "|    Fuel type     |     19237      |  object |\n",
            "|  Engine volume   |     19237      |  object |\n",
            "|     Mileage      |     19237      |  object |\n",
            "|    Cylinders     |     19237      | float64 |\n",
            "|  Gear box type   |     19237      |  object |\n",
            "|   Drive wheels   |     19237      |  object |\n",
            "|      Doors       |     19237      |  object |\n",
            "|      Wheel       |     19237      |  object |\n",
            "|      Color       |     19237      |  object |\n",
            "|     Airbags      |     19237      |  int64  |\n",
            "+------------------+----------------+---------+\n"
          ]
        }
      ],
      "source": [
        "from prettytable import PrettyTable # Python library to display tabular data in a nicely formatted ASCII table\n",
        "\n",
        "# Prints the name of each column in the dataset, the number of non-null values it contains, and its data type.\n",
        "def df_info(df):\n",
        "    table = PrettyTable()\n",
        "    table.field_names = [\"Column\", \"Non-Null Count\", \"Dtype\"]\n",
        "\n",
        "    for col in df.columns:\n",
        "        non_null_count = df[col].count()\n",
        "        dtype = df[col].dtype\n",
        "        table.add_row([col, non_null_count, dtype])\n",
        "\n",
        "    print(table)\n",
        "\n",
        "df_info(df)"
      ]
    },
    {
      "cell_type": "markdown",
      "metadata": {
        "id": "viYXiZGL3OCD"
      },
      "source": [
        "💡 **Observations:**  \n",
        "- All columns have 19,237 non-null values indicating no missing values. However, earlier checks revealed some missing or placeholder values that require further investigation and cleaning.\n",
        "- Several columns expected to be numeric (like Levy, Mileage, and Engine volume) are currently of type object, which means they may contain non-numeric characters or inconsistent formatting."
      ]
    },
    {
      "cell_type": "code",
      "execution_count": 6,
      "metadata": {
        "colab": {
          "base_uri": "https://localhost:8080/",
          "height": 300
        },
        "id": "_Chpyt2f4DvF",
        "outputId": "dcccd152-bf3d-45a5-8433-93148f188f8d"
      },
      "outputs": [
        {
          "data": {
            "text/html": [
              "<div>\n",
              "<style scoped>\n",
              "    .dataframe tbody tr th:only-of-type {\n",
              "        vertical-align: middle;\n",
              "    }\n",
              "\n",
              "    .dataframe tbody tr th {\n",
              "        vertical-align: top;\n",
              "    }\n",
              "\n",
              "    .dataframe thead th {\n",
              "        text-align: right;\n",
              "    }\n",
              "</style>\n",
              "<table border=\"1\" class=\"dataframe\">\n",
              "  <thead>\n",
              "    <tr style=\"text-align: right;\">\n",
              "      <th></th>\n",
              "      <th>ID</th>\n",
              "      <th>Price</th>\n",
              "      <th>Prod. year</th>\n",
              "      <th>Cylinders</th>\n",
              "      <th>Airbags</th>\n",
              "    </tr>\n",
              "  </thead>\n",
              "  <tbody>\n",
              "    <tr>\n",
              "      <th>count</th>\n",
              "      <td>1.923700e+04</td>\n",
              "      <td>1.923700e+04</td>\n",
              "      <td>19237.000000</td>\n",
              "      <td>19237.000000</td>\n",
              "      <td>19237.000000</td>\n",
              "    </tr>\n",
              "    <tr>\n",
              "      <th>mean</th>\n",
              "      <td>4.557654e+07</td>\n",
              "      <td>1.855593e+04</td>\n",
              "      <td>2010.912824</td>\n",
              "      <td>4.582991</td>\n",
              "      <td>6.582627</td>\n",
              "    </tr>\n",
              "    <tr>\n",
              "      <th>std</th>\n",
              "      <td>9.365914e+05</td>\n",
              "      <td>1.905813e+05</td>\n",
              "      <td>5.668673</td>\n",
              "      <td>1.199933</td>\n",
              "      <td>4.320168</td>\n",
              "    </tr>\n",
              "    <tr>\n",
              "      <th>min</th>\n",
              "      <td>2.074688e+07</td>\n",
              "      <td>1.000000e+00</td>\n",
              "      <td>1939.000000</td>\n",
              "      <td>1.000000</td>\n",
              "      <td>0.000000</td>\n",
              "    </tr>\n",
              "    <tr>\n",
              "      <th>25%</th>\n",
              "      <td>4.569837e+07</td>\n",
              "      <td>5.331000e+03</td>\n",
              "      <td>2009.000000</td>\n",
              "      <td>4.000000</td>\n",
              "      <td>4.000000</td>\n",
              "    </tr>\n",
              "    <tr>\n",
              "      <th>50%</th>\n",
              "      <td>4.577231e+07</td>\n",
              "      <td>1.317200e+04</td>\n",
              "      <td>2012.000000</td>\n",
              "      <td>4.000000</td>\n",
              "      <td>6.000000</td>\n",
              "    </tr>\n",
              "    <tr>\n",
              "      <th>75%</th>\n",
              "      <td>4.580204e+07</td>\n",
              "      <td>2.207500e+04</td>\n",
              "      <td>2015.000000</td>\n",
              "      <td>4.000000</td>\n",
              "      <td>12.000000</td>\n",
              "    </tr>\n",
              "    <tr>\n",
              "      <th>max</th>\n",
              "      <td>4.581665e+07</td>\n",
              "      <td>2.630750e+07</td>\n",
              "      <td>2020.000000</td>\n",
              "      <td>16.000000</td>\n",
              "      <td>16.000000</td>\n",
              "    </tr>\n",
              "  </tbody>\n",
              "</table>\n",
              "</div>"
            ],
            "text/plain": [
              "                 ID         Price    Prod. year     Cylinders       Airbags\n",
              "count  1.923700e+04  1.923700e+04  19237.000000  19237.000000  19237.000000\n",
              "mean   4.557654e+07  1.855593e+04   2010.912824      4.582991      6.582627\n",
              "std    9.365914e+05  1.905813e+05      5.668673      1.199933      4.320168\n",
              "min    2.074688e+07  1.000000e+00   1939.000000      1.000000      0.000000\n",
              "25%    4.569837e+07  5.331000e+03   2009.000000      4.000000      4.000000\n",
              "50%    4.577231e+07  1.317200e+04   2012.000000      4.000000      6.000000\n",
              "75%    4.580204e+07  2.207500e+04   2015.000000      4.000000     12.000000\n",
              "max    4.581665e+07  2.630750e+07   2020.000000     16.000000     16.000000"
            ]
          },
          "execution_count": 6,
          "metadata": {},
          "output_type": "execute_result"
        }
      ],
      "source": [
        "# Prints basic statistics (mean, standard deviation, min, max, etc.)\n",
        "df.describe(include=[np.number])      # For  numeric data types\n"
      ]
    },
    {
      "cell_type": "markdown",
      "metadata": {
        "id": "jHAQAovpBw8L"
      },
      "source": [
        "💡 **Observations:**  \n",
        "- Price has a minimum value of $1 and a maximum that’s over 50 times the mean. Suggests outliers.\n",
        "- Production year ranges from 1939 to 2020 — likely contains outliers or vintage cars.\n",
        "- Cylinders has a Max value of 16, which could be rare or performance vehicles.  \n",
        "- Some vehicles seems to have 0 airbags, which might indicate: Older models, Missing or misreported values.\n",
        "- **ID** is a unique identifier for each row and does not carry predictive value.\n"
      ]
    },
    {
      "cell_type": "code",
      "execution_count": 7,
      "metadata": {
        "colab": {
          "base_uri": "https://localhost:8080/"
        },
        "id": "vdDZ9lLwY8b0",
        "outputId": "133ee1f6-3b20-4556-cd75-0605b43b99a6"
      },
      "outputs": [
        {
          "name": "stdout",
          "output_type": "stream",
          "text": [
            "Matches found: 23 (0.1196%)\n"
          ]
        }
      ],
      "source": [
        "# Let's see how many rows with these extreme values\n",
        "# Production year:\n",
        "production_year_40 = df[df['Prod. year'] < 1980].shape        # More than 40 yo cars\n",
        "\n",
        "count_40 = production_year_40[0]\n",
        "percentage_40 = (count_40 / df.shape[0]) * 100\n",
        "\n",
        "print(f\"Matches found: {count_40} ({percentage_40:.4f}%)\")"
      ]
    },
    {
      "cell_type": "markdown",
      "metadata": {
        "id": "y_xkCKfZZf5F"
      },
      "source": [
        "> 💡 Only 23 rows (~0.11%) have a production year before 1980.  \n",
        "> *🧠 These likely represent vintage or incorrectly entered data and can be safely removed to prevent skewing the analysis.*"
      ]
    },
    {
      "cell_type": "code",
      "execution_count": 8,
      "metadata": {
        "colab": {
          "base_uri": "https://localhost:8080/"
        },
        "id": "wju3GTFcEtxr",
        "outputId": "f05b3611-069b-4152-d59e-c3418577e697"
      },
      "outputs": [
        {
          "name": "stdout",
          "output_type": "stream",
          "text": [
            "Matches found: 5 (0.0260%)\n"
          ]
        }
      ],
      "source": [
        "# Cylinders:\n",
        "cylinderes_16 = df[df['Cylinders'] == 16].shape\n",
        "\n",
        "count_16 = cylinderes_16[0]\n",
        "percentage_16 = (count_16 / df.shape[0]) * 100\n",
        "\n",
        "print(f\"Matches found: {count_16} ({percentage_16:.4f}%)\")\n"
      ]
    },
    {
      "cell_type": "markdown",
      "metadata": {
        "id": "E2iYk6suWTsu"
      },
      "source": [
        ">💡 Only 5 rows match — these likely represent performance vehicles.  \n",
        ">*🧠 Since the model focuses on the general car market, they should be removed to avoid skewing the analysis.*"
      ]
    },
    {
      "cell_type": "code",
      "execution_count": 9,
      "metadata": {
        "colab": {
          "base_uri": "https://localhost:8080/"
        },
        "id": "Mb_2VduDYVRn",
        "outputId": "b9d98020-de0d-4334-d20e-a57f8117e3b4"
      },
      "outputs": [
        {
          "name": "stdout",
          "output_type": "stream",
          "text": [
            "Matches found: 2405 (12.5019%)\n"
          ]
        }
      ],
      "source": [
        "\n",
        "# Airbags:\n",
        "airbags_0 = df[df['Airbags'] == 0].shape\n",
        "\n",
        "count_0 = airbags_0[0]\n",
        "percentage_0 = (count_0 / df.shape[0]) * 100\n",
        "\n",
        "print(f\"Matches found: {count_0} ({percentage_0:.4f}%)\")"
      ]
    },
    {
      "cell_type": "markdown",
      "metadata": {
        "id": "s9R1lPPuYf14"
      },
      "source": [
        "> 💡 2,405  rows (~12.50%) have 0 airbags.  \n",
        "> *🧠 This is a sizable portion of the data. Further inspection is needed before deciding how to handle them.*"
      ]
    },
    {
      "cell_type": "code",
      "execution_count": 10,
      "metadata": {
        "colab": {
          "base_uri": "https://localhost:8080/",
          "height": 230
        },
        "id": "LhjRIbWZY4ly",
        "outputId": "e95d7f14-7600-4ac8-d776-42d7593ca11a"
      },
      "outputs": [
        {
          "data": {
            "text/html": [
              "<div>\n",
              "<style scoped>\n",
              "    .dataframe tbody tr th:only-of-type {\n",
              "        vertical-align: middle;\n",
              "    }\n",
              "\n",
              "    .dataframe tbody tr th {\n",
              "        vertical-align: top;\n",
              "    }\n",
              "\n",
              "    .dataframe thead th {\n",
              "        text-align: right;\n",
              "    }\n",
              "</style>\n",
              "<table border=\"1\" class=\"dataframe\">\n",
              "  <thead>\n",
              "    <tr style=\"text-align: right;\">\n",
              "      <th></th>\n",
              "      <th>Levy</th>\n",
              "      <th>Manufacturer</th>\n",
              "      <th>Model</th>\n",
              "      <th>Category</th>\n",
              "      <th>Leather interior</th>\n",
              "      <th>Fuel type</th>\n",
              "      <th>Engine volume</th>\n",
              "      <th>Mileage</th>\n",
              "      <th>Gear box type</th>\n",
              "      <th>Drive wheels</th>\n",
              "      <th>Doors</th>\n",
              "      <th>Wheel</th>\n",
              "      <th>Color</th>\n",
              "    </tr>\n",
              "  </thead>\n",
              "  <tbody>\n",
              "    <tr>\n",
              "      <th>count</th>\n",
              "      <td>19237</td>\n",
              "      <td>19237</td>\n",
              "      <td>19237</td>\n",
              "      <td>19237</td>\n",
              "      <td>19237</td>\n",
              "      <td>19237</td>\n",
              "      <td>19237</td>\n",
              "      <td>19237</td>\n",
              "      <td>19237</td>\n",
              "      <td>19237</td>\n",
              "      <td>19237</td>\n",
              "      <td>19237</td>\n",
              "      <td>19237</td>\n",
              "    </tr>\n",
              "    <tr>\n",
              "      <th>unique</th>\n",
              "      <td>559</td>\n",
              "      <td>65</td>\n",
              "      <td>1590</td>\n",
              "      <td>11</td>\n",
              "      <td>2</td>\n",
              "      <td>7</td>\n",
              "      <td>107</td>\n",
              "      <td>7687</td>\n",
              "      <td>4</td>\n",
              "      <td>3</td>\n",
              "      <td>3</td>\n",
              "      <td>2</td>\n",
              "      <td>16</td>\n",
              "    </tr>\n",
              "    <tr>\n",
              "      <th>top</th>\n",
              "      <td>-</td>\n",
              "      <td>HYUNDAI</td>\n",
              "      <td>Prius</td>\n",
              "      <td>Sedan</td>\n",
              "      <td>Yes</td>\n",
              "      <td>Petrol</td>\n",
              "      <td>2</td>\n",
              "      <td>0 km</td>\n",
              "      <td>Automatic</td>\n",
              "      <td>Front</td>\n",
              "      <td>04-May</td>\n",
              "      <td>Left wheel</td>\n",
              "      <td>Black</td>\n",
              "    </tr>\n",
              "    <tr>\n",
              "      <th>freq</th>\n",
              "      <td>5819</td>\n",
              "      <td>3769</td>\n",
              "      <td>1083</td>\n",
              "      <td>8736</td>\n",
              "      <td>13954</td>\n",
              "      <td>10150</td>\n",
              "      <td>3916</td>\n",
              "      <td>721</td>\n",
              "      <td>13514</td>\n",
              "      <td>12874</td>\n",
              "      <td>18332</td>\n",
              "      <td>17753</td>\n",
              "      <td>5033</td>\n",
              "    </tr>\n",
              "  </tbody>\n",
              "</table>\n",
              "</div>"
            ],
            "text/plain": [
              "         Levy Manufacturer  Model Category Leather interior Fuel type  \\\n",
              "count   19237        19237  19237    19237            19237     19237   \n",
              "unique    559           65   1590       11                2         7   \n",
              "top         -      HYUNDAI  Prius    Sedan              Yes    Petrol   \n",
              "freq     5819         3769   1083     8736            13954     10150   \n",
              "\n",
              "       Engine volume Mileage Gear box type Drive wheels   Doors       Wheel  \\\n",
              "count          19237   19237         19237        19237   19237       19237   \n",
              "unique           107    7687             4            3       3           2   \n",
              "top                2    0 km     Automatic        Front  04-May  Left wheel   \n",
              "freq            3916     721         13514        12874   18332       17753   \n",
              "\n",
              "        Color  \n",
              "count   19237  \n",
              "unique     16  \n",
              "top     Black  \n",
              "freq     5033  "
            ]
          },
          "execution_count": 10,
          "metadata": {},
          "output_type": "execute_result"
        }
      ],
      "source": [
        "# Prints basic statistics (mean, standard deviation, min, max, etc.)\n",
        "df.describe(include='object')      # For  numeric data types"
      ]
    },
    {
      "cell_type": "markdown",
      "metadata": {
        "id": "YZ85dQ6vbb05"
      },
      "source": [
        "💡 **Observations:**  \n",
        "- Most columns in the dataset are categorical.  \n",
        "\n",
        "- The **Levy** column’s top value is '-', likely indicating no levy.\n",
        "\n",
        "- **Mileage** has a top value of 0. can be new vehicles or placeholders. Need further analyses.\n",
        "\n",
        "- The **Doors** column contains only 3 unique values but all of them has unusual values like \"04-May\".  \n",
        "🧠 suggesting formatting errors that need cleaning.\n",
        "\n",
        "- Several key columns show strong class imbalance in their major categories.\n",
        "\n",
        "- Column **Model** has high cardinality (1051 unique), which may require special encoding techniques."
      ]
    },
    {
      "cell_type": "markdown",
      "metadata": {
        "id": "eX7Ea3flel4w"
      },
      "source": [
        "## Handling Duplicates\n",
        "**Before diving deeper, we will start with some basic cleaning steps to improve data quality.**"
      ]
    },
    {
      "cell_type": "code",
      "execution_count": 11,
      "metadata": {
        "colab": {
          "base_uri": "https://localhost:8080/"
        },
        "id": "bKCoHtmogT8R",
        "outputId": "18fb6138-0abd-425b-ba04-489f42413baf"
      },
      "outputs": [
        {
          "name": "stdout",
          "output_type": "stream",
          "text": [
            "[] Number of duplicate rows: 313 (1.6271%)\n"
          ]
        }
      ],
      "source": [
        "duplicates_count = df.duplicated().sum()\n",
        "\n",
        "def check_duplicates(df, label=\"\"):\n",
        "    duplicates_count = df.duplicated().sum()\n",
        "    percentage = (duplicates_count / df.shape[0]) * 100\n",
        "    if duplicates_count > 0:\n",
        "        print(f\"[{label}] Number of duplicate rows: {duplicates_count} ({percentage:.4f}%)\")\n",
        "    else:\n",
        "        print(f\"[{label}] No duplicate rows found.\")\n",
        "\n",
        "\n",
        "check_duplicates(df)\n"
      ]
    },
    {
      "cell_type": "code",
      "execution_count": 12,
      "metadata": {
        "colab": {
          "base_uri": "https://localhost:8080/"
        },
        "id": "vriM2tuegWuq",
        "outputId": "6391a236-2125-4e70-80c4-8394bb40182a"
      },
      "outputs": [
        {
          "name": "stdout",
          "output_type": "stream",
          "text": [
            "[] No duplicate rows found.\n"
          ]
        }
      ],
      "source": [
        "# 📌Duplicates are not needed in the dataset. let's remove them first.\n",
        "df_cleaned_1 = df.drop_duplicates(inplace=False)\n",
        "\n",
        "check_duplicates(df_cleaned_1)"
      ]
    },
    {
      "cell_type": "code",
      "execution_count": 13,
      "metadata": {
        "colab": {
          "base_uri": "https://localhost:8080/"
        },
        "id": "PvIyLjxMhOLm",
        "outputId": "c084e2f9-ba0b-40eb-8e17-d103479b0bd9"
      },
      "outputs": [
        {
          "name": "stdout",
          "output_type": "stream",
          "text": [
            "[] Number of duplicate rows: 3199 (16.9045%)\n"
          ]
        }
      ],
      "source": [
        "# Let's check if there are any duplicates after we remove the uniqe ID\n",
        "# it checks if the dataset has logical duplicates (i.e., same car data under different IDs\n",
        "\n",
        "# 📌Drop the unique ID column\n",
        "df_no_id = df_cleaned_1.drop(columns='ID')\n",
        "\n",
        "# Check for logical duplicates (same car data, different ID)\n",
        "check_duplicates(df_no_id)\n"
      ]
    },
    {
      "cell_type": "code",
      "execution_count": 14,
      "metadata": {
        "colab": {
          "base_uri": "https://localhost:8080/"
        },
        "id": "sZ4X-Pfm-IBN",
        "outputId": "29589b0e-87dd-478f-d3d4-2325cf2ce30f"
      },
      "outputs": [
        {
          "name": "stdout",
          "output_type": "stream",
          "text": [
            "[] No duplicate rows found.\n"
          ]
        }
      ],
      "source": [
        "# 📌We can drop the ID column going forward, as it is a unique identifier with no value for modeling.\n",
        "\n",
        "df_cleaned_1 = df_no_id.drop_duplicates()\n",
        "\n",
        "check_duplicates(df_cleaned_1)\n"
      ]
    },
    {
      "cell_type": "code",
      "execution_count": 15,
      "metadata": {
        "colab": {
          "base_uri": "https://localhost:8080/"
        },
        "id": "tqxVT1kUJ3GX",
        "outputId": "0598e086-90ee-4bb8-ca39-8ebc1e8190f2"
      },
      "outputs": [
        {
          "data": {
            "text/plain": [
              "(15725, 17)"
            ]
          },
          "execution_count": 15,
          "metadata": {},
          "output_type": "execute_result"
        }
      ],
      "source": [
        "# Dataset shape after dealing with duplicates\n",
        "df_cleaned_1.shape"
      ]
    },
    {
      "cell_type": "markdown",
      "metadata": {
        "id": "GAP8TrpB-6kD"
      },
      "source": [
        "## Handling Missing and Incorrect Data\n",
        "**Placeholder values (like '-' in Levy) and inconsistent entries (e.g., in Doors) needs to be cleaned.**"
      ]
    },
    {
      "cell_type": "markdown",
      "metadata": {
        "id": "VznjSliRJCo4"
      },
      "source": [
        "### Handle **Levy** column first."
      ]
    },
    {
      "cell_type": "code",
      "execution_count": 16,
      "metadata": {
        "colab": {
          "base_uri": "https://localhost:8080/",
          "height": 617
        },
        "collapsed": true,
        "id": "0tjtz_iS_Rlk",
        "outputId": "eb50ddf5-d216-4be5-eb1e-7836f62ed203"
      },
      "outputs": [
        {
          "data": {
            "text/plain": [
              "Price               0\n",
              "Levy                0\n",
              "Manufacturer        0\n",
              "Model               0\n",
              "Prod. year          0\n",
              "Category            0\n",
              "Leather interior    0\n",
              "Fuel type           0\n",
              "Engine volume       0\n",
              "Mileage             0\n",
              "Cylinders           0\n",
              "Gear box type       0\n",
              "Drive wheels        0\n",
              "Doors               0\n",
              "Wheel               0\n",
              "Color               0\n",
              "Airbags             0\n",
              "dtype: int64"
            ]
          },
          "execution_count": 16,
          "metadata": {},
          "output_type": "execute_result"
        }
      ],
      "source": [
        "# Print missing data summery\n",
        "df_cleaned_1.isnull().sum()"
      ]
    },
    {
      "cell_type": "markdown",
      "metadata": {
        "id": "V6nWkvCV_bVk"
      },
      "source": [
        "💡 **Observations:**  \n",
        "- There are no missing values in the form of NaN.\n",
        "\n",
        "- However, placeholder values like '-' were found in the Levy column, indicating missing or incomplete data that requires handling."
      ]
    },
    {
      "cell_type": "code",
      "execution_count": 17,
      "metadata": {
        "colab": {
          "base_uri": "https://localhost:8080/",
          "height": 559
        },
        "id": "gOgSBigZAmt3",
        "outputId": "a0fde88f-d433-48ee-fbd0-225ae8438353"
      },
      "outputs": [
        {
          "name": "stdout",
          "output_type": "stream",
          "text": [
            "Data type of the column: object\n",
            "\n",
            "Count of each unique values:\n",
            "\n"
          ]
        },
        {
          "data": {
            "text/plain": [
              "Levy\n",
              "-       5684\n",
              "765      387\n",
              "891      387\n",
              "639      340\n",
              "640      336\n",
              "        ... \n",
              "2308       1\n",
              "4860       1\n",
              "1641       1\n",
              "1045       1\n",
              "1901       1\n",
              "Name: count, Length: 559, dtype: int64"
            ]
          },
          "execution_count": 17,
          "metadata": {},
          "output_type": "execute_result"
        }
      ],
      "source": [
        "# Let's check how many missing values in levy column\n",
        "print(f\"Data type of the column: {df_cleaned_1['Levy'].dtype}\\n\")\n",
        "print(\"Count of each unique values:\\n\")\n",
        "df_cleaned_1['Levy'].value_counts()"
      ]
    },
    {
      "cell_type": "markdown",
      "metadata": {
        "id": "2mchB22EBes-"
      },
      "source": [
        "💡 **Observations:**  \n",
        "- The **Levy** column appears to be numerical, but it's currently stored as an object type.\n",
        "\n",
        "- Around 36.15% of the entries are placeholder values ('-'),\n",
        " >*🧠 likely indicating vehicles with no levy, so these can be safely replaced with 0.*\n"
      ]
    },
    {
      "cell_type": "code",
      "execution_count": 18,
      "metadata": {
        "colab": {
          "base_uri": "https://localhost:8080/",
          "height": 405
        },
        "collapsed": true,
        "id": "-4P4XMopDzYL",
        "outputId": "44ac556c-f0be-4af9-8b97-849e27ff4be6"
      },
      "outputs": [
        {
          "name": "stdout",
          "output_type": "stream",
          "text": [
            "Data type of the column: float64\n",
            "\n",
            "Summery of Levy column after cleaning:\n",
            "\n"
          ]
        },
        {
          "data": {
            "text/plain": [
              "count    15725.000000\n",
              "mean       561.555421\n",
              "std        559.384534\n",
              "min          0.000000\n",
              "25%          0.000000\n",
              "50%        639.000000\n",
              "75%        862.000000\n",
              "max      11714.000000\n",
              "Name: Levy, dtype: float64"
            ]
          },
          "execution_count": 18,
          "metadata": {},
          "output_type": "execute_result"
        }
      ],
      "source": [
        "# 📌Let's replace the '-' with 0 and assing to a new dataframe.\n",
        "# 📌And the datatype should be converted to float since Levy represents continuous numeric values.\n",
        "\n",
        "df_cleaned_2 = df_cleaned_1.copy()\n",
        "\n",
        "df_cleaned_2['Levy'] = df_cleaned_1['Levy'].replace('-', 0)\n",
        "df_cleaned_2['Levy'] = df_cleaned_2['Levy'].astype(float)\n",
        "\n",
        "print(f\"Data type of the column: {df_cleaned_2['Levy'].dtype}\\n\")\n",
        "print(\"Summery of Levy column after cleaning:\\n\")\n",
        "df_cleaned_2['Levy'].describe()\n"
      ]
    },
    {
      "cell_type": "markdown",
      "metadata": {
        "id": "RkVldm85KR0u"
      },
      "source": [
        "### Handle **Doors** column next"
      ]
    },
    {
      "cell_type": "code",
      "execution_count": 19,
      "metadata": {
        "colab": {
          "base_uri": "https://localhost:8080/",
          "height": 279
        },
        "id": "yLre21eCKVkZ",
        "outputId": "b9585626-9244-4bd7-a28d-2b3ca3a67f4e"
      },
      "outputs": [
        {
          "name": "stdout",
          "output_type": "stream",
          "text": [
            "Uniqe values in the column: ['04-May' '02-Mar' '>5']\n",
            "\n",
            "Count of each unique values:\n",
            "\n"
          ]
        },
        {
          "data": {
            "text/plain": [
              "Doors\n",
              "04-May    14855\n",
              "02-Mar      746\n",
              ">5          124\n",
              "Name: count, dtype: int64"
            ]
          },
          "execution_count": 19,
          "metadata": {},
          "output_type": "execute_result"
        }
      ],
      "source": [
        "# Doors column had wrong data\n",
        "\n",
        "print(f\"Uniqe values in the column: {df_cleaned_2['Doors'].unique()}\\n\")\n",
        "print(\"Count of each unique values:\\n\")\n",
        "df_cleaned_2['Doors'].value_counts()"
      ]
    },
    {
      "cell_type": "markdown",
      "metadata": {
        "id": "c8QlzJSxKhcV"
      },
      "source": [
        "💡 **Observations:**\n",
        "\n",
        "- The Doors column contains inconsistent values like \"04-May\" and \"02-Mar\" which likely resulted from incorrect formatting or entry.\n",
        "\n",
        " > *🧠 The intended values appear to represent door counts such as 2-3, 4-5, and >5.  \n",
        " This column requires data cleaning to standardize the format and ensure correct interpretation.*"
      ]
    },
    {
      "cell_type": "code",
      "execution_count": 20,
      "metadata": {
        "colab": {
          "base_uri": "https://localhost:8080/",
          "height": 210
        },
        "id": "f47lVpqyLpza",
        "outputId": "52fe6bcf-1627-44f5-84bb-fec6535f3fe6"
      },
      "outputs": [
        {
          "data": {
            "text/plain": [
              "Doors\n",
              "4-5    14855\n",
              "2-3      746\n",
              ">5       124\n",
              "Name: count, dtype: int64"
            ]
          },
          "execution_count": 20,
          "metadata": {},
          "output_type": "execute_result"
        }
      ],
      "source": [
        "# 📌Let's replace the incorrect values in the 'Doors' column with correct, standardized categories\n",
        "\n",
        "df_cleaned_3 = df_cleaned_2.copy()\n",
        "df_cleaned_3['Doors'] = df_cleaned_2['Doors'].replace({'04-May': '4-5', '02-Mar': '2-3'})\n",
        "\n",
        "# confirm the changes.\n",
        "df_cleaned_3['Doors'].value_counts()"
      ]
    },
    {
      "cell_type": "code",
      "execution_count": null,
      "metadata": {
        "id": "BL4S6j_zfSMe"
      },
      "outputs": [],
      "source": []
    },
    {
      "cell_type": "markdown",
      "metadata": {
        "id": "SZihbT5ofbtT"
      },
      "source": [
        "### Handle **Mileage** column next"
      ]
    },
    {
      "cell_type": "code",
      "execution_count": 21,
      "metadata": {
        "colab": {
          "base_uri": "https://localhost:8080/",
          "height": 490
        },
        "collapsed": true,
        "id": "QVod6P6VfeMh",
        "outputId": "2db8f7e7-0ec2-43b9-b5a6-576fc58f04d1"
      },
      "outputs": [
        {
          "data": {
            "text/plain": [
              "Mileage\n",
              "0 km         608\n",
              "200000 km    181\n",
              "150000 km    157\n",
              "160000 km    119\n",
              "180000 km    115\n",
              "            ... \n",
              "104200 km      1\n",
              "120455 km      1\n",
              "147790 km      1\n",
              "25038 km       1\n",
              "133225 km      1\n",
              "Name: count, Length: 7687, dtype: int64"
            ]
          },
          "execution_count": 21,
          "metadata": {},
          "output_type": "execute_result"
        }
      ],
      "source": [
        "# check the values\n",
        "df_cleaned_3['Mileage'].value_counts()"
      ]
    },
    {
      "cell_type": "markdown",
      "metadata": {
        "id": "J49AFMPJft7A"
      },
      "source": [
        "💡 **Observations:**\n",
        "\n",
        "- The **Mileage** column contains 7,687 unique values and is currently of type object, though it represents numeric data.\n",
        "\n",
        "- 608 entries (3.86%) have a value of \"0 km\", which could indicate brand new cars or be placeholders for missing data.\n",
        ">*🧠 This column should be converted to numeric for analysis, and \"0\" values may need further investigation or conditional handling.*"
      ]
    },
    {
      "cell_type": "code",
      "execution_count": 22,
      "metadata": {
        "colab": {
          "base_uri": "https://localhost:8080/"
        },
        "id": "ZHrThz2ng5sJ",
        "outputId": "3ce9ba18-50b9-4b5c-f4ad-47ae07d4885e"
      },
      "outputs": [
        {
          "name": "stdout",
          "output_type": "stream",
          "text": [
            "New datatype of the column Mileage: int64\n"
          ]
        }
      ],
      "source": [
        "# 📌 Let's make Mileage numeric.\n",
        "# First we have to remove the ' km' part.\n",
        "df_cleaned_4 = df_cleaned_3.copy()\n",
        "df_cleaned_4['Mileage'] = df_cleaned_4['Mileage'].str.replace(' km', '', regex=False)\n",
        "\n",
        "# Then change datatype to numeric.\n",
        "df_cleaned_4['Mileage'] = pd.to_numeric(df_cleaned_4['Mileage'], errors='coerce')\n",
        "\n",
        "# Check if the changes have been made correctly.\n",
        "print(f\"New datatype of the column Mileage: {df_cleaned_4['Mileage'].dtype}\")\n"
      ]
    }
  ],
  "metadata": {
    "colab": {
      "authorship_tag": "ABX9TyO1SOFj0GUj5NFqdBRDMQyW",
      "collapsed_sections": [
        "VznjSliRJCo4",
        "RkVldm85KR0u"
      ],
      "include_colab_link": true,
      "provenance": []
    },
    "kernelspec": {
      "display_name": "Python 3 (ipykernel)",
      "language": "python",
      "name": "python3"
    },
    "language_info": {
      "codemirror_mode": {
        "name": "ipython",
        "version": 3
      },
      "file_extension": ".py",
      "mimetype": "text/x-python",
      "name": "python",
      "nbconvert_exporter": "python",
      "pygments_lexer": "ipython3",
      "version": "3.10.18"
    }
  },
  "nbformat": 4,
  "nbformat_minor": 0
}
